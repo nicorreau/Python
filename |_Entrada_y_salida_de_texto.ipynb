{
  "nbformat": 4,
  "nbformat_minor": 0,
  "metadata": {
    "colab": {
      "provenance": [],
      "include_colab_link": true
    },
    "kernelspec": {
      "name": "python3",
      "display_name": "Python 3"
    },
    "language_info": {
      "name": "python"
    }
  },
  "cells": [
    {
      "cell_type": "markdown",
      "metadata": {
        "id": "view-in-github",
        "colab_type": "text"
      },
      "source": [
        "<a href=\"https://colab.research.google.com/github/nicorreau/Python/blob/main/%7C_Entrada_y_salida_de_texto.ipynb\" target=\"_parent\"><img src=\"https://colab.research.google.com/assets/colab-badge.svg\" alt=\"Open In Colab\"/></a>"
      ]
    },
    {
      "cell_type": "markdown",
      "source": [
        "<img src = \"https://drive.google.com/uc?export=view&id=1e32jqRnXQG3aSWyOul_K4HFV1lKz37hW\" alt = \"Si no puede ver este encabezado le recomendamos que utilice un navegador distinto. Los navegadores probados son Google Chrome, Opera y Microsoft Edge.\" width = \"80%\">  </img>"
      ],
      "metadata": {
        "id": "BtQtZaJFRRSp"
      }
    },
    {
      "cell_type": "markdown",
      "metadata": {
        "id": "qCo5PrkGaT7t"
      },
      "source": [
        "# **Entrada y salida de texto con _Python_**\n",
        "---\n",
        "¡Le damos la bienvenida al primer material del curso de **Introducción a la programación con _Python_**!\n",
        "\n",
        "En este primer material se discutirán los conceptos fundamentales de la programación de computadores desde el punto de vista del lenguaje de programación _Python_, con un acercamiento a la obtención, modificación y presentación de texto de manera programática."
      ]
    },
    {
      "cell_type": "markdown",
      "metadata": {
        "id": "bocn5ayVohzQ"
      },
      "source": [
        "## **1. Lenguaje de programación _Python_**\n",
        "---\n",
        "\n",
        "<img src = \"https://www.python.org/static/community_logos/python-logo-inkscape.svg\" alt = \"Python Logo\" width = \"70%\">  </img>\n",
        "\n",
        "\n",
        "Un **lenguaje de programación** es un grupo de reglas de escritura que le permiten a una persona (un **programador**) definir una serie de pasos que un computador debe seguir para realizar una tarea determinada.\n",
        "\n",
        "Dentro de la amplia variedad de lenguajes de programación existentes se destaca ***Python***, un lenguaje de programación diseñado para permitir escribir código rápido, legible y compatible con múltiples plataformas y sistemas. A su alrededor existe una enorme comunidad de desarrolladores y científicos, que lo apoyan con diversas librerías y módulos especializados, dándole una gran popularidad en el área de la ciencia de datos y del desarrollo de software.\n",
        "\n",
        "Para poder escribir un programa y que el computador realice la tarea definida no es suficiente con escribir un texto válido que siga las reglas del lenguaje; es necesario contar con software adicional que sea capaz de **interpretar** lo que escribimos y de ejecutar los procesos que pretendemos que se ejecuten.\n",
        "\n",
        "En este curso vamos a trabajar con la plataforma **_Google Colaboratory_**, un sistema de _Google_ que permite crear y manipular documentos interactivos llamados _Notebooks_, y que cuenta con el software necesario para interpretar y ejecutar código en _Python_ sin ninguna configuración adicional. En este sentido, es suficiente con crear y ejecutar una **celda de código** y la infraestructura en la nube de _Google_ se encargará de ejecutarlo.\n",
        "\n",
        "> **Nota**: para más información acerca de _Google Colaboratory_, lo invitamos a que revise primero el _notebook_ de **Introducción a _Jupyter Notebooks_ y a _Google Colaboratory_** disponible en los materiales del curso.\n",
        "\n",
        "Antes de comenzar es necesario mencionar que, como en muchas aplicaciones, _Python_ es una herramienta en constante evolución, y es muy importante tener en cuenta la **versión** en la que ejecutamos nuestro código. Para conocer la versión de _Python_ instalada en el sistema, puede ejecutar la siguiente celda de código:\n",
        "\n"
      ]
    },
    {
      "cell_type": "code",
      "metadata": {
        "id": "EG4SRAhjuMcd",
        "colab": {
          "base_uri": "https://localhost:8080/"
        },
        "outputId": "2a6616f0-5cba-477e-946a-0fe336cdaaf5"
      },
      "source": [
        "!python --version"
      ],
      "execution_count": null,
      "outputs": [
        {
          "output_type": "stream",
          "name": "stdout",
          "text": [
            "Python 3.7.15\n"
          ]
        }
      ]
    },
    {
      "cell_type": "markdown",
      "metadata": {
        "id": "DZ6icoesuOm8"
      },
      "source": [
        "> _Este material fue creado en la versión **`3.7.10`** de _Python__. Algunas funcionalidades pueden no estar disponibles en versiones anteriores."
      ]
    },
    {
      "cell_type": "markdown",
      "metadata": {
        "id": "DAYMp5Xmuib6"
      },
      "source": [
        "## **2. Valores**\n",
        "---\n",
        "Antes de comenzar con el diseño de programas más complejos, es necesario empezar por sus componentes básicos. Uno de estos componentes fundamentales es el **valor** (también conocido como **dato**), la unidad básica de información que se puede considerar en la creación de un programa. Estos valores pueden tener formas distintas, conocidas como **tipos de dato**, que le permiten al intérprete de _Python_ realizar una acción u otra según el contexto.\n",
        "\n",
        "El tipo básico que veremos en este material, que puede usarse para representar conceptos más generales como una fecha o un nombre, es el **texto**. En _Python_, definir un valor de este tipo es tan sencillo como escribir el texto que queramos encerrado en comillas.\n",
        "\n",
        "\n",
        "\n"
      ]
    },
    {
      "cell_type": "code",
      "metadata": {
        "id": "EGXkPs4iCWYV",
        "colab": {
          "base_uri": "https://localhost:8080/",
          "height": 36
        },
        "outputId": "d82fba71-6695-4fe4-c875-31a1efe30b60"
      },
      "source": [
        "'¡Hola mundo!'"
      ],
      "execution_count": null,
      "outputs": [
        {
          "output_type": "execute_result",
          "data": {
            "text/plain": [
              "'¡Hola mundo!'"
            ],
            "application/vnd.google.colaboratory.intrinsic+json": {
              "type": "string"
            }
          },
          "metadata": {},
          "execution_count": 2
        }
      ]
    },
    {
      "cell_type": "markdown",
      "metadata": {
        "id": "G_G9XdeAR_hh"
      },
      "source": [
        "Como puede notar, al escribir el valor **`'¡Hola mundo!'`** y ejecutar la celda aparece debajo de esta nuevamente el valor **`'¡Hola mundo!'`**. Esto quiere decir que _Python_ reconoció correctamente el texto escrito como código válido, y realiza la sencilla tarea de indicar y evaluar el **valor** con el texto exacto  **`¡Hola mundo!`**.\n",
        "\n",
        "\n",
        "> **Nota:** el texto es escrito de nuevo por una característica especial propia de los _Jupyter Notebooks_. Si la última línea de una celda de código tiene un **valor**, _Colab_ le indicará a _Python_ que lo muestre. Si bien esta característica es de gran utilidad en la creación de código en _Colab_, más adelante presentaremos una forma directa de mostrar texto en pantalla."
      ]
    },
    {
      "cell_type": "markdown",
      "source": [
        "Otro tipo de valor, que discutiremos en profundidad en el siguiente material es el **número**. Estos también siguen una serie de reglas de escritura, pero podemos ver una de sus formas más básicas compuesta por **dígitos**."
      ],
      "metadata": {
        "id": "Nd3yQ7m5feA5"
      }
    },
    {
      "cell_type": "code",
      "source": [
        "1234"
      ],
      "metadata": {
        "colab": {
          "base_uri": "https://localhost:8080/"
        },
        "id": "T1T_WsfWftgf",
        "outputId": "4dd8ffb5-16f7-42e9-b591-c48ff564551b"
      },
      "execution_count": null,
      "outputs": [
        {
          "output_type": "execute_result",
          "data": {
            "text/plain": [
              "1234"
            ]
          },
          "metadata": {},
          "execution_count": 3
        }
      ]
    },
    {
      "cell_type": "markdown",
      "source": [
        "Tenga en cuenta que **_Python_** determina si un valor es de un **tipo** u otro con la forma en que fue **definido** inicialmente. Si queremos un número, debemos escribirlo con las reglas de definición de **números**.\n",
        "\n"
      ],
      "metadata": {
        "id": "hYLDCthJfuwv"
      }
    },
    {
      "cell_type": "markdown",
      "source": [
        "> **¿Qué pasa si escribimos un texto sin comillas?**\n",
        "\n",
        "Si no encerramos nuestro valor entre comillas, _Python_ no lo reconocerá como un valor de texto válido e intentará aplicar **otras reglas**. En este caso ninguna regla del lenguaje se cumple y la celda indica un **error**.\n"
      ],
      "metadata": {
        "id": "5OFS6vtsAmPm"
      }
    },
    {
      "cell_type": "code",
      "source": [
        "¡Hola mundo!"
      ],
      "metadata": {
        "colab": {
          "base_uri": "https://localhost:8080/",
          "height": 134
        },
        "id": "5SCi1pJNB9m0",
        "outputId": "093d2297-7eda-4c2e-d4ab-ff4191585fdb"
      },
      "execution_count": null,
      "outputs": [
        {
          "output_type": "error",
          "ename": "SyntaxError",
          "evalue": "ignored",
          "traceback": [
            "\u001b[0;36m  File \u001b[0;32m\"<ipython-input-4-98e2711845d3>\"\u001b[0;36m, line \u001b[0;32m1\u001b[0m\n\u001b[0;31m    ¡Hola mundo!\u001b[0m\n\u001b[0m        ^\u001b[0m\n\u001b[0;31mSyntaxError\u001b[0m\u001b[0;31m:\u001b[0m invalid character in identifier\n"
          ]
        }
      ]
    },
    {
      "cell_type": "markdown",
      "metadata": {
        "id": "EY_oc6JUCDiu"
      },
      "source": [
        "En esta ocasión la ejecución produce un **error de sintaxis** (del inglés _Syntax Error_). Esto significa que alguna de las palabras o elementos de texto de nuestro código no cumple las reglas especificadas por el lenguaje. Para ayudarnos a identificar la razón del error, podemos ver el carácter **`^`** encima del error, señalando el punto en el que se identificó el error.\n",
        "\n",
        "En el transcurso de este curso vamos a ver una amplia variedad de valores de distintos **tipos de dato**, cada uno con sus propias reglas de definición y escritura. Algunos de los más importantes son:\n",
        "\n",
        "- Texto compuesto por símbolos como letras, dígitos o signos de puntuación (tipo **`str`**).\n",
        "- Valores numéricos enteros, decimales y compuestos (tipos **`int`**, **`float`**, **`complex`**).\n",
        "- Valor nulo para representar la \"nada\" (tipo **`None`**).\n",
        "- Valores lógicos usados en la evaluación de condiciones (tipo **`bool`**).\n",
        "- Secuencias de otros valores de cualquier tipo (tipos **`list`** y **`tuple`**)\n",
        "- Colecciones desordenadas de valores (tipos **`set`** y **`dict`**).\n",
        "- Abstracciones avanzadas de código (tipos **`function`**, **`type`**, **`module`**).\n",
        "- Datos tabulares de módulos especializados (tipos **`DataFrame`**, **`Index`** y **`Series`** de _Pandas_).\n",
        "\n",
        "\n",
        "Por el momento, vamos a considerar y explorar el tipo de dato de **texto**, e iremos poco a poco introduciendo cada uno de los tipos mencionados en las distintas secciones del curso."
      ]
    },
    {
      "cell_type": "markdown",
      "metadata": {
        "id": "bvf1MikaGUX1"
      },
      "source": [
        "## **3. Variables**\n",
        "---\n",
        "En muchos casos, queremos **recordar** cierta información, asociada a un concepto específico, como un nombre, una dirección o una cantidad.\n",
        "\n",
        "\n",
        "Uno de los conceptos más importantes y poderosos en los lenguajes de programación es el concepto de **variable**. La idea es **recordar** un valor asociándole un **nombre**. Este nombre corresponde a su vez a un espacio de memoria, que como su nombre lo indica, puede **variar** su valor contenido en un futuro.\n",
        "\n",
        "<center>\n",
        "<img src = \"https://drive.google.com/uc?export=view&id=1U71wDF2iaqo1aYYX_IqCLumW1R6siTXb\" alt = \"Variable, asignación y valor\" width = \"70%\">  </img>\n",
        " </center>\n",
        "\n",
        "Para declarar una variable tenemos que escribir una **asignación**, que se realiza con el separador **`=`**. Por ejemplo, queremos tener presente el nombre de una **fruta** elegida por el usuario. En este caso vamos a **declarar** una variable llamada **`fruta`** y le vamos a asignar el valor **`'Manzana'`**:"
      ]
    },
    {
      "cell_type": "code",
      "metadata": {
        "id": "V_jfaM8FGUX4"
      },
      "source": [
        "fruta = 'Manzana'"
      ],
      "execution_count": null,
      "outputs": []
    },
    {
      "cell_type": "markdown",
      "metadata": {
        "id": "c3CJfSm3GUX4"
      },
      "source": [
        "Note que en esta ocasión no se mostró el valor tras ejecutarse la celda. La razón por la que no se imprimió el valor en la salida es porque una asignación es lo que conocemos como **sentencia**, un tipo de instrucción que no tiene **valor**.\n",
        "\n",
        "Si más adelante en nuestro programa queremos recordar el valor almacenado en la variable, es suficiente con usar este nombre como si fuera un **valor**. Por ejemplo, vamos a ver el valor contenido en la variable escribiéndola nuevamente:\n",
        "\n"
      ]
    },
    {
      "cell_type": "code",
      "metadata": {
        "colab": {
          "base_uri": "https://localhost:8080/",
          "height": 36
        },
        "outputId": "b57809a8-0ba5-4a43-bd87-1ad0c0677b81",
        "id": "Ko5VuGx2GUX4"
      },
      "source": [
        "fruta"
      ],
      "execution_count": null,
      "outputs": [
        {
          "output_type": "execute_result",
          "data": {
            "text/plain": [
              "'Manzana'"
            ],
            "application/vnd.google.colaboratory.intrinsic+json": {
              "type": "string"
            }
          },
          "metadata": {},
          "execution_count": 6
        }
      ]
    },
    {
      "cell_type": "markdown",
      "source": [
        "\n",
        "> **Nota**: las variables y sus valores almacenados son conservados entre celdas, siempre y cuando el entorno de ejecución no cambie. Esto puede suceder después de un tiempo de inactividad o al recargar la página. Si esto sucede, celdas como la anterior pueden fallar pues en la nueva conexión aún no está declarada la variable **`fruta`**."
      ],
      "metadata": {
        "id": "FxM2sF4vHcSR"
      }
    },
    {
      "cell_type": "markdown",
      "metadata": {
        "id": "6lWe6EdNGUX8"
      },
      "source": [
        "El concepto de variable nos ofrece una gran flexibilidad a la hora de escribir programas. Como ya habíamos mencionado, podemos volver a asignar un valor distinto a la misma variable y nombrar tantas como sea necesario.\n",
        "\n",
        "> **Nota:** esto es diferente al concepto de variable de las matemáticas. En matemáticas, si se le da a **x** el valor $3$, no puede cambiar para\n",
        "referirse a un valor diferente a la mitad de los cálculos.\n",
        "\n",
        "\n",
        "Vamos a **reasignar** el valor de la variable llamada **`fruta`** y asignarle el valor **`'Naranja'`**."
      ]
    },
    {
      "cell_type": "code",
      "metadata": {
        "id": "_xUVV48PGUX8"
      },
      "source": [
        "fruta = 'Naranja'"
      ],
      "execution_count": null,
      "outputs": []
    },
    {
      "cell_type": "code",
      "metadata": {
        "colab": {
          "base_uri": "https://localhost:8080/",
          "height": 36
        },
        "outputId": "ae838a68-c1d5-43c3-f41e-ba90224523d3",
        "id": "OwFyfTqMGUX9"
      },
      "source": [
        "fruta"
      ],
      "execution_count": null,
      "outputs": [
        {
          "output_type": "execute_result",
          "data": {
            "text/plain": [
              "'Naranja'"
            ],
            "application/vnd.google.colaboratory.intrinsic+json": {
              "type": "string"
            }
          },
          "metadata": {},
          "execution_count": 8
        }
      ]
    },
    {
      "cell_type": "markdown",
      "source": [
        "> **¿Qué pasa con el valor anterior de la variable?**\n",
        "\n",
        "\n",
        "\n",
        "El proceso de **reasignación** asocia un nombre de variable usado previamente a un **valor nuevo**. Al hacerlo, se **sobrescribe** el valor y se pierde la referencia al valor anterior.\n",
        "\n",
        "<center>\n",
        "<img src = \"https://drive.google.com/uc?export=view&id=1PZU9ji3ksG1wxYHdXjXhRLmwvMk9Vm7G\" alt = \"Variable, asignación y valor\" width = \"60%\">  </img>\n",
        " </center>\n",
        "\n",
        "\n",
        "Para evitar perder información importante, puede usar **variables temporales**, o usar variables de nombres distintos cuando sea importante conservar un valor anterior. Dado que la operación de asignación recibe cualquier cosa que tenga **valor**, podemos asignar el contenido de una variable directamente en otra."
      ],
      "metadata": {
        "id": "zWdleuU71hXK"
      }
    },
    {
      "cell_type": "code",
      "source": [
        "temp = fruta"
      ],
      "metadata": {
        "id": "F5nBB5Yx3VCZ"
      },
      "execution_count": null,
      "outputs": []
    },
    {
      "cell_type": "code",
      "source": [
        "temp"
      ],
      "metadata": {
        "id": "zpudQKYT3fLA"
      },
      "execution_count": null,
      "outputs": []
    },
    {
      "cell_type": "markdown",
      "source": [
        "No existe límite en la cantidad de veces que podemos **reasignar** el valor asociado a una variable. Por ejemplo, intente cambiando el valor de la variable por el nombre de su **fruta favorita**."
      ],
      "metadata": {
        "id": "ipWL2mGKIQAk"
      }
    },
    {
      "cell_type": "code",
      "metadata": {
        "id": "EAxZnNcbIcvh"
      },
      "source": [
        "fruta = 'Mango'"
      ],
      "execution_count": null,
      "outputs": []
    },
    {
      "cell_type": "code",
      "metadata": {
        "id": "hH6y-Kb9Icvi"
      },
      "source": [
        "fruta"
      ],
      "execution_count": null,
      "outputs": []
    },
    {
      "cell_type": "markdown",
      "source": [
        "Nuestra variable temporal conserva aún el valor anterior contenido en **`fruta`**."
      ],
      "metadata": {
        "id": "wGSiWNQN3hQh"
      }
    },
    {
      "cell_type": "code",
      "source": [
        "temp"
      ],
      "metadata": {
        "id": "-eoe9LYe3goH"
      },
      "execution_count": null,
      "outputs": []
    },
    {
      "cell_type": "markdown",
      "metadata": {
        "id": "Y2QpvdILGUX_"
      },
      "source": [
        "El token de asignación (**=**) no debe confundirse con una comparación de igualdad (que veremos más adelante en este material). La sentencia de asignación vincula un nombre, en el lado **izquierdo** del operador, con un valor, en el lado **derecho**. Es por esto que recibirá un error si se realiza en el orden contrario:"
      ]
    },
    {
      "cell_type": "code",
      "metadata": {
        "id": "KSzv4RTtGUX_"
      },
      "source": [
        "'Gato' = animal"
      ],
      "execution_count": null,
      "outputs": []
    },
    {
      "cell_type": "markdown",
      "metadata": {
        "id": "3b-SVh_-GUX_"
      },
      "source": [
        "> **Consejo:** Cuando lea o escriba el código, dígase a sí mismo cosas como:\n",
        "- **\"``animal`` tiene asignado ``'Gato'``\"**.\n",
        "- **\"``animal``  obtiene el valor ``'Gato'``\"**.\n",
        "- **\"``animal``  es una referencia al objeto ``'Gato'``\"**.\n",
        "- **\"``animal`` se refiere al objeto ``'Gato'``\"**.\n",
        ">\n",
        "> No diga cosas como **\"``animal`` es igual a ``'Gato'``\"** pues esto puede entenderse como una comparación de igualdad."
      ]
    },
    {
      "cell_type": "markdown",
      "metadata": {
        "id": "Anwvi1ksGUYA"
      },
      "source": [
        "Una forma común de representar las variables en papel es escribir el nombre con una flecha que apunta al valor de la variable. Este diagrama muestra el resultado de ejecutar las instrucciones de asignación que se muestran arriba:\n",
        "\n",
        "<br>\n",
        "<center>\n",
        "<img src = \"https://drive.google.com/uc?export=view&id=14nV1NCcfKPcgsM9YCYYxExApntvwknIC\" alt = \"Variables y valores\" width = \"65%\">  </img> </center>\n"
      ]
    },
    {
      "cell_type": "code",
      "metadata": {
        "id": "33GifV9JGUYA"
      },
      "source": [
        "nombre = 'Alice'\n",
        "correo = 'alice@example.com'\n",
        "cédula = '123456789'"
      ],
      "execution_count": null,
      "outputs": []
    },
    {
      "cell_type": "markdown",
      "metadata": {
        "id": "3PuR-UShGUYC"
      },
      "source": [
        "> **Pregunta**: ¿cuál cree que será el resultado de ejecutar la siguiente celda?\n",
        "\n",
        "```python\n",
        "a = '10'\n",
        "b = '15'\n",
        "c = '20'\n",
        "\n",
        "b = a\n",
        "a = b\n",
        "c = a\n",
        "\n",
        "c\n",
        "```\n",
        "\n",
        "<details>\n",
        "  <summary> <b>Respuesta</b> </summary>\n",
        "\n",
        "  > La expresión da como resultado el valor **`'10'`**. El proceso se realiza en el siguiente orden:\n",
        "  \n",
        "  1. Inicialmente, se le da el valor **`'10'`** a la variable **`a`**, el valor **`'15'`** a la variable **`b`** y el valor **`'20'`** a la variable **`c`**.\n",
        "  \n",
        "  2. Luego, el valor contenido en **`a`** (el valor **`'10'`**) es asignado a la variable variable **`b`**.\n",
        "\n",
        "  3. El valor de la variable **`b`** es asignado a la variable **`a`**. Este actualmente es también **`'10'`**.\n",
        "\n",
        "  4. Finalmente, el valor de la variable **`a`** es asignado a la variable **`c`**. En este punto, las 3 variables tienen asignado el valor **`'10'`**.\n",
        "\n",
        "</details>"
      ]
    },
    {
      "cell_type": "markdown",
      "metadata": {
        "id": "B2M89MjXGUYD"
      },
      "source": [
        "###**3.1. Reglas de nombrado de variables**\n",
        "---\n",
        "Como mencionábamos antes, el código que escribamos debe cumplir ciertas reglas para que _Python_ entienda lo que queremos hacer. A la hora de crear variables nuevas, debemos tener en cuenta los nombres permitidos. En *Python*, los nombres de las variables deben cumplir las siguientes condiciones.\n",
        "\n",
        "*    Deben estar compuestos **únicamente** por números del **`0-9`**, caracteres alfabéticos en mayúscula o minúscula (**`A-Z`** y **`a-z`**) y por el símbolo de guion bajo **`_`**.\n",
        "\n",
        "\n",
        "\n"
      ]
    },
    {
      "cell_type": "code",
      "metadata": {
        "id": "JfW8KyyDGUYD"
      },
      "source": [
        "nombre = 'Juan'"
      ],
      "execution_count": null,
      "outputs": []
    },
    {
      "cell_type": "code",
      "metadata": {
        "id": "k5H06n-bQ_n-"
      },
      "source": [
        "nombre_completo = 'Juan José Juarez'"
      ],
      "execution_count": null,
      "outputs": []
    },
    {
      "cell_type": "code",
      "source": [
        "texto_123 = '123'"
      ],
      "metadata": {
        "id": "enem_SrjQqJJ"
      },
      "execution_count": null,
      "outputs": []
    },
    {
      "cell_type": "markdown",
      "source": [
        "> **Nota**: En *Python* existen algunas convenciones consideradas buenas prácticas a la hora de escribir código en este lenguaje. Una de ellas es la forma de asignar nombres a variables, en la que se recomienda escribir palabras en minúscula separadas por un guion bajo (**`_`**)."
      ],
      "metadata": {
        "id": "qhAo4tT-PRWz"
      }
    },
    {
      "cell_type": "markdown",
      "metadata": {
        "id": "F0_0y-12GUYE"
      },
      "source": [
        "*   Si el nombre de la variable tiene un número, no puede ser el **primer carácter**."
      ]
    },
    {
      "cell_type": "code",
      "metadata": {
        "id": "7mS-NdSNGUYE"
      },
      "source": [
        "1er_nombre = 'Juan'\n",
        "print(1er_nombre)"
      ],
      "execution_count": null,
      "outputs": []
    },
    {
      "cell_type": "markdown",
      "metadata": {
        "id": "W4cay1cTRRSw"
      },
      "source": [
        "> **Pregunta**: ¿el nombre de la variable mostrada es válido? ¿cuál cree que será el resultado de ejecutar esta celda?\n",
        "\n",
        "  ```python\n",
        "  __123__ = '123'\n",
        "\n",
        "  __123__\n",
        "  ```\n",
        "\n",
        "<details>\n",
        "  <summary> <b>Respuesta</b> </summary>\n",
        "\n",
        "  > El nombre de la variable **SÍ** es válido y se ejecuta con normalidad. En este caso no tiene caracteres distintos a las letras, números, y guion bajo, y el primer carácter no es un número.\n",
        "\n",
        "</details>"
      ]
    },
    {
      "cell_type": "markdown",
      "metadata": {
        "id": "fPcxfAugGUYF"
      },
      "source": [
        "Un detalle fundamental a la hora de definir y usar variables es que los nombres **distinguen entre mayúsculas y minúsculas**. Por ejemplo, **`var`**,  **`VAR`** y **`Var`** se interpretan como **variables distintas**."
      ]
    },
    {
      "cell_type": "code",
      "metadata": {
        "id": "s0aXRa5mGUYF"
      },
      "source": [
        "var = 'a'\n",
        "VAR = 'b'\n",
        "Var = 'c'"
      ],
      "execution_count": null,
      "outputs": []
    },
    {
      "cell_type": "code",
      "metadata": {
        "id": "4WFEBuM9GUYG"
      },
      "source": [
        "var"
      ],
      "execution_count": null,
      "outputs": []
    },
    {
      "cell_type": "code",
      "metadata": {
        "id": "tVs1Z1AVSTkL"
      },
      "source": [
        "VAR"
      ],
      "execution_count": null,
      "outputs": []
    },
    {
      "cell_type": "code",
      "metadata": {
        "id": "LLxraeuQSTxW"
      },
      "source": [
        "Var"
      ],
      "execution_count": null,
      "outputs": []
    },
    {
      "cell_type": "markdown",
      "metadata": {
        "id": "vugJykN4GUYG"
      },
      "source": [
        "También existen ciertas palabras especiales que **NO** pueden ser usadas como nombres de variables: las **palabras reservadas**. Un lenguaje de programación define algunas palabras reservadas para definir sus reglas y estructura que **no pueden ser usadas como nombres de variables**. _Python_ tiene aproximadamente _30_ palabras reservadas, las cuales se listan a continuación:\n"
      ]
    },
    {
      "cell_type": "code",
      "metadata": {
        "id": "F0ksYSUAGUYG"
      },
      "source": [
        "help('keywords')"
      ],
      "execution_count": null,
      "outputs": []
    },
    {
      "cell_type": "markdown",
      "metadata": {
        "id": "SCiTE1m0GUYH"
      },
      "source": [
        "La mayoría de ellas las iremos introduciendo a lo largo del curso. Además de estas, existen nombres de variables que, si bien están permitidas, no deberían usarse pues sobrescribirían funciones de la librería estándar.\n",
        "\n",
        "Por ejemplo, como veremos en la próxima sección, no se recomienda crear una variable con el nombre de una **función por defecto de _Python_**, pues reemplazaría el método de impresión en la salida del código."
      ]
    },
    {
      "cell_type": "markdown",
      "source": [
        "## **4. Entrada y salida**\n",
        "---\n",
        "\n",
        "Un **programa** es la implementación de instrucciones precisas que son entendidas y ejecutadas por un **computador** para realizar una tarea determinada. La palabra **computador** no es exclusiva para los llamados **computadores personales**, ya sea de escritorio o portátiles, sino que abarca una amplia variedad de dispositivos con unidades de procesamiento, como los servidores, teléfonos móviles, relojes inteligentes, drones, sistemas embebidos, entre otros.\n",
        "\n",
        "Una de las características principales de los programas es que pueden adaptarse a múltiples escenarios distintos al permitir la **entrada** y **salida** de datos, que son obtenidos y administrados por el sistema en el que se ejecutan.\n",
        "\n",
        "Estos datos pueden provenir de la interacción con un usuario humano, como en el caso de los dispositivos de uso personal, que es realizada con los **periféricos** conectados al dispositivo.\n",
        "\n",
        "En el caso de la **entrada**, un computador puede obtener texto de la presión de teclas en un teclado, del audio captado por un micrófono, o de la imagen registrada por una cámara, entre otros. Por otro lado, el computador puede enviar al usuario una **salida** con texto e imágenes en una pantalla, reproducción de audio en altavoces o auriculares, o el paso de mensajes a otros dispositivos, como impresoras, escáneres, entre otros.\n",
        "\n",
        "\n",
        "<center>\n",
        "<img src = \"https://drive.google.com/uc?export=view&id=182LRER3jRYQz1i0WNm0PUWtu0qt83F2k\" alt = \"Periféricos de entrada y salida\" width = \"70%\">  </img> </center>\n",
        "\n",
        "Si bien los lenguajes de programación modernos como _Python_ permiten controlar la interacción con distintos tipos de entradas y salidas, el tipo que nos permitirá conocer los conceptos fundamentales de la programación en este curso es la entrada y salida de **texto**.\n",
        "\n",
        "\n",
        "\n",
        "\n"
      ],
      "metadata": {
        "id": "0BGMm5AQZCeN"
      }
    },
    {
      "cell_type": "markdown",
      "source": [
        "### **4.1. Entrada del programa (`input`)**\n",
        "---\n",
        "\n",
        "En _Python_, la entrada y salida de texto se lleva a cabo en el mismo espacio, en el lugar llamado **línea de comandos**. En _Colab_, es el espacio que aparece debajo de una celda de texto cuando ejecutamos algún tipo de código.\n"
      ],
      "metadata": {
        "id": "apVGMyzRTTX9"
      }
    },
    {
      "cell_type": "code",
      "source": [
        "'Este texto aparece en la línea de comandos luego de ejecutar la celda'"
      ],
      "metadata": {
        "id": "xUdfdcZHT9B6"
      },
      "execution_count": null,
      "outputs": []
    },
    {
      "cell_type": "markdown",
      "source": [
        "Otro de los conceptos fundamentales de la programación en _Python_ es la **función**. Una función es código escrito previamente que está asociado a un **nombre** y que puede ser ejecutado todas las veces que queramos. _Python_ cuenta por defecto con una amplia variedad de funciones que nos permitirán realizar las acciones más importantes.\n",
        "\n",
        "Una de ellas es la función **`input`** ( **_\"entrada\"_** en inglés), que permite que el usuario escriba texto en la línea de comandos y lo captura en un valor para su uso posterior dentro del código.\n",
        "\n",
        "Para utilizar una función tenemos la tenemos que **llamar** (también conocido usualmente como **invocar**). El **llamado** de funciones se realiza escribiendo el nombre de la función, seguido de una pareja de paréntesis **`(`** y **`)`**.\n",
        "\n",
        "Podemos ejecutar la función **`input`** de la siguiente forma:\n",
        "\n",
        "```python\n",
        "input()\n",
        "```\n",
        "\n",
        "Cuando hacemos esto, podemos escribir cualquier texto. A continuación, realice la prueba escribiendo su nombre y haga clic en el botón **`Enter`** cuando termine:\n",
        "\n",
        "<center>\n",
        "<img src = \"https://drive.google.com/uc?export=view&id=1MROpJXWdXupMk2lWojC1EYljeR-kEN5r\" alt = \"Función input\" width = \"55%\">  </img>\n",
        " </center>\n"
      ],
      "metadata": {
        "id": "l6MsmBMuURxM"
      }
    },
    {
      "cell_type": "code",
      "source": [
        "input()"
      ],
      "metadata": {
        "id": "tIZIE-oxWfIj"
      },
      "execution_count": null,
      "outputs": []
    },
    {
      "cell_type": "markdown",
      "source": [
        "> **Nota:** si cancelamos la ejecución de una celda que tiene un llamado a la función **`input`** obtendremos un error de tipo **`KeyboardInterrupt`**, dado que _Python_ esperaba obtener un valor al ejecutar esta función y la acción no se pudo completar. Esto no significa que el código sea necesariamente incorrecto, y podemos volver a ejecutar la celda de nuevo sin problemas.\n",
        "\n",
        "<center>\n",
        "<img src = \"https://drive.google.com/uc?export=view&id=1olR29vrwji70nUDjJNW24brDJPMclUnE\" alt = \"Variable, asignación y valor\" width = \"85%\">  </img>\n",
        " </center>"
      ],
      "metadata": {
        "id": "QHamC6XSXmdW"
      }
    },
    {
      "cell_type": "markdown",
      "source": [
        "Como puede notar, el texto que escribió vuelve a mostrarse en la línea de comandos encerrado entre comillas. Esto es debido a que la función **`input`** tiene **valor**, conocido usualmente como el **valor de retorno** de la función.\n",
        "\n",
        "Tal como mencionamos en la sección de variables, podemos asignar a una variable cualquier cosa que tenga **valor**. Volvamos a realizar el ejercicio anterior, pero esta vez asignando el valor retornado por **`input`** a la variable **`nombre`**."
      ],
      "metadata": {
        "id": "ncJC11zcWogL"
      }
    },
    {
      "cell_type": "code",
      "source": [
        "nombre = input()"
      ],
      "metadata": {
        "id": "6A0GIykbXUhv"
      },
      "execution_count": null,
      "outputs": []
    },
    {
      "cell_type": "markdown",
      "source": [
        "Ahora, consultemos el valor almacenado en la variable **`nombre`**."
      ],
      "metadata": {
        "id": "1n4C-XRhXkml"
      }
    },
    {
      "cell_type": "code",
      "source": [
        "nombre"
      ],
      "metadata": {
        "id": "i67Kg-FdZogA"
      },
      "execution_count": null,
      "outputs": []
    },
    {
      "cell_type": "markdown",
      "source": [
        "Esta es la manera en que podemos obtener valores distintos del usuario que interactúa con el sistema. A continuación, veremos cámo podemos enviar explícitamente mensajes a la línea de comandos."
      ],
      "metadata": {
        "id": "yFFAjFcWZz6U"
      }
    },
    {
      "cell_type": "markdown",
      "source": [
        "### **4.2. Salida del programa (`print`)**\n",
        "---\n",
        "\n",
        "Hasta el momento, para poder ver el contenido de una variable, o inspeccionar un valor determinado, hemos hecho algo como esto:\n",
        "\n"
      ],
      "metadata": {
        "id": "Wnf64w3nTfXL"
      }
    },
    {
      "cell_type": "code",
      "source": [
        "a = 'Este es el contenido de la variable a'\n",
        "\n",
        "a"
      ],
      "metadata": {
        "id": "F5yShtwQaTbq"
      },
      "execution_count": null,
      "outputs": []
    },
    {
      "cell_type": "markdown",
      "source": [
        "Tal como hemos mencionado anteriormente, esto es algo que ocurre en los _notebook_ de _Jupyter_, y que aplica únicamente al **último valor** de una celda.\n",
        "\n",
        "Por ejemplo, veamos lo que pasaría si quisiéramos hacer lo mismo para ver dos variables distintas:"
      ],
      "metadata": {
        "id": "sX5VZLk1aZNt"
      }
    },
    {
      "cell_type": "code",
      "source": [
        "a = 'Valor de A'\n",
        "b = 'Valor de B'\n",
        "\n",
        "a\n",
        "b"
      ],
      "metadata": {
        "id": "8tzntsc8aw4N"
      },
      "execution_count": null,
      "outputs": []
    },
    {
      "cell_type": "markdown",
      "source": [
        "Como **`a`** no está ubicada en la última línea, no se muestra su contenido. En _Python_, podemos mostrar o **imprimir en pantalla** un texto como **salida**  en la línea de comandos con la función **`print`** (**_\"imprimir\"_** en inglés).\n",
        "\n",
        "Probemos la función:"
      ],
      "metadata": {
        "id": "Sox-fPQdbmVM"
      }
    },
    {
      "cell_type": "code",
      "source": [
        "print()"
      ],
      "metadata": {
        "id": "Ml52SoWucQqW"
      },
      "execution_count": null,
      "outputs": []
    },
    {
      "cell_type": "markdown",
      "source": [
        "Casi siempre, lo que queremos hacer es imprimir un valor que tenemos en nuestro programa, como por ejemplo el contenido de una variable. Las funciones en _Python_ pueden recibir uno o más **argumentos**, que son valores indicados dentro de los paréntesis de la función. En el caso de **`print`**, acepta como argumento un **valor** que queramos imprimir.\n",
        "\n",
        "```python\n",
        "print(ARGUMENTO)\n",
        "```\n",
        "\n",
        "Veamos un ejemplo con el valor **`'¡Hola mundo!'`**:\n",
        "\n"
      ],
      "metadata": {
        "id": "oE1J6Fh5cUM2"
      }
    },
    {
      "cell_type": "code",
      "source": [
        "print(\"¡Hola mundo!\")"
      ],
      "metadata": {
        "id": "uU-U7qvVc4q7"
      },
      "execution_count": null,
      "outputs": []
    },
    {
      "cell_type": "markdown",
      "source": [
        "Con **`print`**, no importa en dónde sea llamada la función, **siempre** se mostrará, línea por línea, en el orden en el que se ejecute. Retomemos el ejemplo inicial utilizando la función **`print`**. Note además que como recibe **cualquier valor**, podemos utilizar una **variable** como argumento."
      ],
      "metadata": {
        "id": "XRbTPnaQewfb"
      }
    },
    {
      "cell_type": "code",
      "source": [
        "a = 'Valor de A'\n",
        "b = 'Valor de B'\n",
        "\n",
        "print(a)\n",
        "print(b)"
      ],
      "metadata": {
        "id": "zjDgGO_Pe_9F"
      },
      "execution_count": null,
      "outputs": []
    },
    {
      "cell_type": "markdown",
      "source": [
        "El llamado de la función sin ningún argumento nos permite imprimir una **línea vacía**. Esto nos permite controlar la presentación de lo que mostramos en pantalla."
      ],
      "metadata": {
        "id": "T2yHPWqcfFb0"
      }
    },
    {
      "cell_type": "code",
      "source": [
        "print(\"Texto con\")\n",
        "print()\n",
        "print(\"un espacio\")\n",
        "print(\"de por medio.\")"
      ],
      "metadata": {
        "id": "XyNC0mZKfDnj"
      },
      "execution_count": null,
      "outputs": []
    },
    {
      "cell_type": "markdown",
      "source": [
        "La función **`print`** es tan importante en _Python_ que es usada internamente por otras funciones para mostrar texto en pantalla. Por ejemplo, cuando trabajamos con la función de **entrada** **`input`** podemos también indicar un argumento.\n",
        "\n",
        " Al hacerlo, _Python_ tomará el valor indicado y lo mostrará internamente como un mensaje informativo.\n",
        "\n"
      ],
      "metadata": {
        "id": "MpEeqPdufev3"
      }
    },
    {
      "cell_type": "code",
      "source": [
        "input(\"Ingrese su nombre: \")"
      ],
      "metadata": {
        "id": "npsvqfHsgANS"
      },
      "execution_count": null,
      "outputs": []
    },
    {
      "cell_type": "markdown",
      "source": [
        "> **Nota:** esta forma de uso de la función **`input`** es muy cómoda en la mayoría de los casos, pero si no se usa con cuidado puede **generar problemas**. Dado que **`input`** usa internamente a la función **`print`**, llamarlo con un argumento es una forma más rápida de ejecutar un código como este:\n",
        "  ```python  \n",
        "  print(\"Ingrese su nombre\")\n",
        "  input()\n",
        "  ```\n",
        "  > En algunos ejercicios de programación, se pide al estudiante que obtenga un valor de la entrada y muestre en la salida un resultado. Si el estudiante usa **`input`** con un mensaje, el resultado calificado incluirá dicho mensaje inesperado.\n",
        "  >\n",
        "  > **Como norma general, NO utilice `input` con un argumento al realizar ejercicios calificables de programación de la plataforma UNCode**."
      ],
      "metadata": {
        "id": "o_uJw9KRgSvi"
      }
    },
    {
      "cell_type": "markdown",
      "source": [
        "## **5. Cadenas de texto (`str`**)\n",
        "---\n",
        "En _Python_, al igual que en muchos lenguajes de programación, los tipos de dato de texto se conocen formalmente como **cadenas de texto**, **cadenas de caracteres** o **_strings_**.\n",
        "\n",
        "Tal como hemos visto hasta ahora, las **cadenas de texto** en _Python_ pueden escribirse como texto encerrado entre **comillas**. En particular, _Python_ nos permite utilizar **comillas simples (`'`)** y **comillas dobles (`\"`)** indistintamente."
      ],
      "metadata": {
        "id": "V8eM2o-0AkFt"
      }
    },
    {
      "cell_type": "code",
      "source": [
        "a = 'Esta es una cadena con comillas simples'\n",
        "\n",
        "print(a)"
      ],
      "metadata": {
        "id": "QXVR04gOnkFO"
      },
      "execution_count": null,
      "outputs": []
    },
    {
      "cell_type": "code",
      "source": [
        "b = \"Esta es una cadena con comillas dobles\"\n",
        "\n",
        "print(b)"
      ],
      "metadata": {
        "id": "rhNTuHuHns6o"
      },
      "execution_count": null,
      "outputs": []
    },
    {
      "cell_type": "markdown",
      "source": [
        "Para conocer el **tipo** de un valor en _Python_ podemos utilizar la función **`type`**. Al hacerlo con una cadena, obtendremos como respuesta el valor **`str`**, como abreviación de la palabra **_string_**."
      ],
      "metadata": {
        "id": "fTVmW7EenGc4"
      }
    },
    {
      "cell_type": "code",
      "source": [
        "type(\"Una cadena de texto\")"
      ],
      "metadata": {
        "id": "ntBPkLY9n0cJ"
      },
      "execution_count": null,
      "outputs": []
    },
    {
      "cell_type": "markdown",
      "source": [
        "Para ser interpretados tanto por los humanos como para el computador, son representados como una secuencia de caracteres (símbolos como **`'1'`**, **`'h'`** o **`'#'`**) que han sido codificados previamente en una tabla.\n",
        "\n",
        "<center>\n",
        "<img src = \"https://drive.google.com/uc?export=view&id=1a1-1hsmwquKv8lsPasqNJuA_JxOLu6hG\" alt = \"Cadenas de caracteres\" width = \"85%\">  </img>\n",
        " </center>\n",
        "\n",
        "En este caso, la codificación utilizada es [UTF-8](https://es.wikipedia.org/wiki/UTF-8). Los detalles de este estándar se escapan del alcance de este curso, pero vamos a mencionar algunos de los caracteres más importantes de esta especificación.\n",
        "\n",
        "En esta codificación contamos con símbolos como las letras minúsculas, las letras mayúsculas, los números, los símbolos de puntuación, y una gran variedad de **caracteres especiales**.\n",
        "\n",
        "Cada uno de estos caracteres tiene una posición en la [tabla de _Unicode_](https://www.utf8-chartable.de/). Podemos conocer la posición de un dato en esta tabla con la función **`ord(char)`**, que recibe el símbolo que queremos consultar.\n"
      ],
      "metadata": {
        "id": "3W7qLwcfm95c"
      }
    },
    {
      "cell_type": "code",
      "source": [
        "ord('a')"
      ],
      "metadata": {
        "id": "lbEiz0dN7ny8"
      },
      "execution_count": null,
      "outputs": []
    },
    {
      "cell_type": "code",
      "source": [
        "ord('A')"
      ],
      "metadata": {
        "id": "7gzCepCX7qF6"
      },
      "execution_count": null,
      "outputs": []
    },
    {
      "cell_type": "code",
      "source": [
        "ord('1')"
      ],
      "metadata": {
        "id": "IGLImNIO7rXK"
      },
      "execution_count": null,
      "outputs": []
    },
    {
      "cell_type": "code",
      "source": [
        "ord('Á')"
      ],
      "metadata": {
        "id": "6FEhIfYQ7t8b"
      },
      "execution_count": null,
      "outputs": []
    },
    {
      "cell_type": "code",
      "source": [
        "ord('@')"
      ],
      "metadata": {
        "id": "YzmPQ6qf8L3O"
      },
      "execution_count": null,
      "outputs": []
    },
    {
      "cell_type": "markdown",
      "source": [
        "De igual forma, podemos hacer la operación inversa con la función **`chr`**, que toma uno de estos códigos y devuelve el carácter correspondiente."
      ],
      "metadata": {
        "id": "cVLN8SP08uIG"
      }
    },
    {
      "cell_type": "code",
      "source": [
        "chr(64)"
      ],
      "metadata": {
        "id": "oEo8icPB83Qe"
      },
      "execution_count": null,
      "outputs": []
    },
    {
      "cell_type": "code",
      "source": [
        "chr(205)"
      ],
      "metadata": {
        "id": "3zZS9ERY84wi"
      },
      "execution_count": null,
      "outputs": []
    },
    {
      "cell_type": "markdown",
      "source": [
        "Entre ellos, tenemos algunos caracteres que permiten dar formato al texto escrito, y que al ser presentado no son fácilmente identificables. Uno de ellos es el carácter de **espacio en blanco**, que es guardado como un carácter más en las cadenas.\n"
      ],
      "metadata": {
        "id": "9yjLjcdM7OIj"
      }
    },
    {
      "cell_type": "code",
      "source": [
        "str_con_espacios = \"        esta        cadena   tiene    múltiples     espacios        \"\n",
        "\n",
        "print(str_con_espacios)"
      ],
      "metadata": {
        "id": "fsa15ziNpnBZ"
      },
      "execution_count": null,
      "outputs": []
    },
    {
      "cell_type": "markdown",
      "source": [
        "Al trabajar con cadenas de texto, es importante considerar el concepto de **secuencia de escape**. Estas son secuencias de caracteres escritos con letras y símbolos básicos que permiten representar caracteres especiales usando el carácter **`\\`** como **prefijo**, en secuencias como **`\\n`** y **`\\t`**, o con el uso de caracteres especiales como **`\\\\`**, **`\\'`**, **`\\\"`**.\n",
        "\n"
      ],
      "metadata": {
        "id": "JsrW3tE1pH9a"
      }
    },
    {
      "cell_type": "code",
      "source": [
        "chr(10)"
      ],
      "metadata": {
        "id": "w77L9RCz8_m1"
      },
      "execution_count": null,
      "outputs": []
    },
    {
      "cell_type": "markdown",
      "source": [
        "\n",
        "\n",
        "Por ejemplo, una de las secuencias de escape más importantes es la que permite representar el salto de línea, definida con la secuencia **`'\\n'`**:"
      ],
      "metadata": {
        "id": "cUvBwjUO9QBi"
      }
    },
    {
      "cell_type": "code",
      "metadata": {
        "id": "3_daqhD5Fehj"
      },
      "source": [
        "a = \"1. Hola\\n2. Mundo\"\n",
        "\n",
        "print(a)"
      ],
      "execution_count": null,
      "outputs": []
    },
    {
      "cell_type": "markdown",
      "metadata": {
        "id": "MtzWwfUbPrgd"
      },
      "source": [
        "Otro carácter especial importante es el carácter de **tabulación**, que se podría lograr al usar la tecla \"**Tab**\" del teclado, escribe espacios a intervalos regulares, permitiendo alinear texto en líneas distintas. Este se escribe con el carácter **`'\\t'`**:"
      ]
    },
    {
      "cell_type": "code",
      "metadata": {
        "id": "UnhekJY6QFRS"
      },
      "source": [
        "print('Primero\\tSegundo\\tTercero')\n",
        "print('1\\t2\\t3')\n",
        "print('1ro\\t2do\\t3ro')\n",
        "print('El primero\\tEl segundo\\tEl tercero')"
      ],
      "execution_count": null,
      "outputs": []
    },
    {
      "cell_type": "markdown",
      "metadata": {
        "id": "LY6oIb7NoILT"
      },
      "source": [
        "Como puede notar, no es un método infalible para alinear palabras, dado que \"llena\" el espacio entre los segmentos hasta un máximo de **8 caracteres**. La cuarta línea de la celda anterior tiene cadenas con más caracteres que este límite, por lo que es alineada con el siguiente punto de parada.\n",
        "\n",
        "En estos casos podemos usar múltiples caracteres de tabulación consecutivos para alinear correctamente el texto. Sin embargo, este proceso es poco práctico porque implica un proceso de prueba y error manual para identificar tabulaciones necesarias y/o sobrantes."
      ]
    },
    {
      "cell_type": "code",
      "source": [
        "print('Primero\\t\\tSegundo\\t\\tTercero')\n",
        "print('1\\t\\t2\\t\\t3')\n",
        "print('1ro\\t\\t2do\\t\\t3ro')\n",
        "print('El primero\\tEl segundo\\tEl tercero')"
      ],
      "metadata": {
        "id": "GohHkVHXqFih"
      },
      "execution_count": null,
      "outputs": []
    },
    {
      "cell_type": "markdown",
      "source": [
        "Otro carácter especial es el carácter de retroceso o *backspace*, escrito con la secuencia de escape **`\\b`**.  Este carácter simula la opresión de la tecla de **Retroceso** del teclado, que **elimina** el carácter anterior.\n"
      ],
      "metadata": {
        "id": "5vpIaOGE9nKR"
      }
    },
    {
      "cell_type": "code",
      "source": [
        "print(\"Python\\b\")"
      ],
      "metadata": {
        "id": "NwNPJerO91t_"
      },
      "execution_count": null,
      "outputs": []
    },
    {
      "cell_type": "markdown",
      "source": [
        "Cada cadena de texto puede tener una **cantidad indefinida** y teóricamente **ilimitada** de caracteres de todos los tipos mencionados."
      ],
      "metadata": {
        "id": "E6wW1SfqrCxA"
      }
    },
    {
      "cell_type": "code",
      "source": [
        "ejemplo = \"¡ H0l4\\n\\tMundo!\"\n",
        "\n",
        "print(ejemplo)"
      ],
      "metadata": {
        "id": "SczTIxrgrNS_"
      },
      "execution_count": null,
      "outputs": []
    },
    {
      "cell_type": "markdown",
      "metadata": {
        "id": "XIcAf9hpQvNT"
      },
      "source": [
        "Además de este tipo de caracteres especiales, también podemos expresar caracteres que de otra forma tendrían otra interpretación. Por ejemplo, ¿qué sucede si intentamos usar comillas dentro de una cadena de texto?"
      ]
    },
    {
      "cell_type": "code",
      "metadata": {
        "id": "8FyRCzYkQ6FU"
      },
      "source": [
        "'Esta es una comilla simple: (')'"
      ],
      "execution_count": null,
      "outputs": []
    },
    {
      "cell_type": "markdown",
      "metadata": {
        "id": "8lQDhdN8FiCR"
      },
      "source": [
        "La ejecución de la celda produce un **error de sintaxis**. En este caso la regla que se incumplió es que cada comilla (simple o doble) que se encuentre en el código debe tener en algún punto de la línea un símbolo igual que indique donde termina una cadena. Es decir, las comillas que se encuentran dentro de nuestro texto son interpretadas como esta cadena:\n",
        "\n",
        "```python\n",
        "'Estas es una comilla simple: ('\n",
        "```\n",
        "\n",
        "Dejando al final de la línea código que no corresponde a ninguna regla. A menos que las comillas sean del tipo contrario al usado como inicio y final de la cadena (como se ve en el siguiente ejemplo), es necesario utilizar el prefijo  **`\\`** para indicar que el siguiente carácter es especial."
      ]
    },
    {
      "cell_type": "code",
      "metadata": {
        "id": "Hwa0765LRUCA"
      },
      "source": [
        "print(\"Estas comillas son simples (')\")\n",
        "print('Estas comillas son dobles (\")')\n",
        "print(\"Estas son comillas simples (\\') y estas son dobles (\\\")\")"
      ],
      "execution_count": null,
      "outputs": []
    },
    {
      "cell_type": "markdown",
      "metadata": {
        "id": "6B2zf1ZnsrNa"
      },
      "source": [
        "Para textos más largos y complejos, es posible definir cadenas de texto de **múltiples líneas**. Para esto debemos usar tres comillas de cualquier tipo (**`'''`** o **`\"\"\"`**) como inicio y final. De esta manera se codifican saltos de línea como separadores de la cadena de forma directa, y se conservan los espacios al final y al principio de cada línea."
      ]
    },
    {
      "cell_type": "code",
      "metadata": {
        "id": "AcVTmiEus0s7"
      },
      "source": [
        "\"\"\"\n",
        "1. Hola\n",
        "2. Mundo\n",
        "  * Hola  mundo\n",
        "\"\"\""
      ],
      "execution_count": null,
      "outputs": []
    },
    {
      "cell_type": "markdown",
      "metadata": {
        "id": "Y9xinGtRtaRl"
      },
      "source": [
        "Podemos tomar este valor en múltiples líneas y utilizarlo dentro de la función **`print`**, dejando el paréntesis final para la última línea:"
      ]
    },
    {
      "cell_type": "code",
      "metadata": {
        "id": "bLeYFGjhtZZV"
      },
      "source": [
        "print(\"\"\"\n",
        "1. Hola\n",
        "2. Mundo\n",
        "  * Hola mundo\n",
        "\"\"\")"
      ],
      "execution_count": null,
      "outputs": []
    },
    {
      "cell_type": "markdown",
      "metadata": {
        "id": "FH26asGmsQ5U"
      },
      "source": [
        "### **5.1. Métodos en cadenas de texto**\n",
        "---\n",
        "Antes de continuar, es importante introducir el concepto de **objeto**. En _Python_, todos los valores son considerados **objetos**, un componente del programa con estado y comportamiento propio que nos ayuda a simplificar algunas tareas.\n",
        "\n",
        "Una de las cosas que podemos hacer con un **objeto**, es llamar/invocar un **método** sobre ellos, el cual es un tipo de función que se realiza con su estado interno y genera un resultado. Se puede entender el llamado de un método como solicitar que un objeto realice una acción determinada.\n",
        "\n",
        "> **Nota:** los conceptos de objeto y método se retomarán y discutirán en profundidad en la **Unidad 4 - Funciones y objetos**.\n",
        "\n",
        "Para llamar un método, es suficiente con utilizar el separador punto **`.`** e indicar el nombre del método. En esta sección veremos algunos de los métodos más importantes del objeto **`str`**, que nos permiten manipular su estilo y formato de varias formas. Veamos algunos de los más importantes:\n",
        "\n"
      ]
    },
    {
      "cell_type": "markdown",
      "metadata": {
        "id": "Et9qx_c1aWms"
      },
      "source": [
        "\n",
        "\n",
        "\n",
        "* Podemos convertir las letras de una cadena a mayúsculas o minúsculas con los métodos **`.upper()`** y **`.lower()`**, respectivamente."
      ]
    },
    {
      "cell_type": "code",
      "metadata": {
        "id": "e3oML8dma5JS"
      },
      "source": [
        "cadena = \"Python\""
      ],
      "execution_count": null,
      "outputs": []
    },
    {
      "cell_type": "code",
      "metadata": {
        "id": "2ef_vZwYa8GN"
      },
      "source": [
        "cadena.upper()"
      ],
      "execution_count": null,
      "outputs": []
    },
    {
      "cell_type": "markdown",
      "metadata": {
        "id": "6NFPmGtab6rS"
      },
      "source": [
        "También podemos llamarlos directamente desde valores literales, y en general desde cualquier componente que tenga valor y sea de tipo **`str`**."
      ]
    },
    {
      "cell_type": "code",
      "metadata": {
        "id": "LZo7Vw68a9_L"
      },
      "source": [
        "\"Python\".lower()"
      ],
      "execution_count": null,
      "outputs": []
    },
    {
      "cell_type": "markdown",
      "metadata": {
        "id": "V6LspWplbkCQ"
      },
      "source": [
        "\n",
        "* Podemos obtener un conteo de apariciones de una subcadena en otra con el método **`.count()`**. Esta devolverá un valor numérico, que discutiremos en el siguiente material."
      ]
    },
    {
      "cell_type": "code",
      "metadata": {
        "id": "uX43ourNbvTY"
      },
      "source": [
        "\"Python programming language\".count('g')"
      ],
      "execution_count": null,
      "outputs": []
    },
    {
      "cell_type": "markdown",
      "metadata": {
        "id": "NSx5s4t5cIwc"
      },
      "source": [
        "* Podemos reemplazar todas las apariciones de la subcadena $a$ con la subcadena $b$ con el método **`replace(a, b)`**."
      ]
    },
    {
      "cell_type": "code",
      "metadata": {
        "id": "y1K-oVcXcp-0"
      },
      "source": [
        "\"Hola a todos\".replace('a', 'o')"
      ],
      "execution_count": null,
      "outputs": []
    },
    {
      "cell_type": "markdown",
      "metadata": {
        "id": "exuwYrthc4Yx"
      },
      "source": [
        "* Podemos obtener una cadena sin espacios o saltos de línea al principio y al final con el método **`lstrip()`**. Note que los espacios en la mitad de la cadena no son eliminados."
      ]
    },
    {
      "cell_type": "code",
      "metadata": {
        "id": "EylmPH_jdAAE"
      },
      "source": [
        "\"            ¡Bienvenido    !  \\n\\n \".strip()"
      ],
      "execution_count": null,
      "outputs": []
    },
    {
      "cell_type": "markdown",
      "source": [
        "> **Nota:** como podrá verificar, **ninguno de estos métodos modifica la cadena original**. Simplemente genera una cadena nueva que podemos guardar en una variable para su uso posterior."
      ],
      "metadata": {
        "id": "0-1zH0ZjuoR0"
      }
    },
    {
      "cell_type": "code",
      "source": [
        "cadena = \"Python\"\n",
        "\n",
        "print(cadena.upper())"
      ],
      "metadata": {
        "id": "FcgjhhcBu3vl"
      },
      "execution_count": null,
      "outputs": []
    },
    {
      "cell_type": "code",
      "source": [
        "print(cadena)"
      ],
      "metadata": {
        "id": "g89L6FP1u_QV"
      },
      "execution_count": null,
      "outputs": []
    },
    {
      "cell_type": "markdown",
      "source": [
        "Para modificar la cadena original, basta con **reasignar** su valor con el resultado de llamar al método que elijamos."
      ],
      "metadata": {
        "id": "icUaExckvBdP"
      }
    },
    {
      "cell_type": "code",
      "source": [
        "cadena = \"Python\"\n",
        "cadena = cadena.upper()\n",
        "cadena = cadena.replace('O', 'OOOOO')\n",
        "\n",
        "print(cadena)"
      ],
      "metadata": {
        "id": "aS0MS6Y3vJ4N"
      },
      "execution_count": null,
      "outputs": []
    },
    {
      "cell_type": "markdown",
      "source": [
        "### **5.2. Cadenas con formato**\n",
        "---\n",
        "\n",
        "Por lo general, el texto de nuestros programas contendrá **información** que obtendremos en el transcurso de la ejecución. Por esta razón, _Python_ dispone para nosotros una sintaxis especial para manejar nuestros datos con **plantillas**.\n",
        "\n",
        "Se trata de las **cadenas literales con formato** o simplemente __*f-strings*__. Estas cadenas se escriben con el carácter **`f`** antes de las comillas de apertura, y nos permiten insertar valores dentro de la cadena si aparecen delimitados por llaves curvadas **`{}`**.\n",
        "\n",
        "<center>\n",
        "<img src = \"https://drive.google.com/uc?export=view&id=1e8cnGRI5rm3GhpJqvCPhd-RmjQqc5LJo\" alt = \"Cadenas con formato\" width = \"50%\">  </img>\n",
        " </center>\n",
        "\n",
        "Por ejemplo, para obtener un nombre y utilizarlo en un saludo de bienvenida empezaríamos con una operación de entrada de texto con la función **`input`** para recibir su nombre."
      ],
      "metadata": {
        "id": "nEeiVu9GulAw"
      }
    },
    {
      "cell_type": "code",
      "metadata": {
        "id": "MVBj_GBaAOyH"
      },
      "source": [
        "nombre = input('Ingrese su nombre: ')"
      ],
      "execution_count": null,
      "outputs": []
    },
    {
      "cell_type": "markdown",
      "metadata": {
        "id": "4iMStFVIAtZt"
      },
      "source": [
        "Ahora, querríamos obtener un mensaje personalizado como el siguiente:\n",
        "\n",
        "```python\n",
        "\"¡Bienvenido NOMBRE!\"\n",
        "```\n",
        "\n",
        "Podemos usar entonces las cadenas con formato como una **plantilla** del mensaje que queremos escribir, indicando dentro de las llaves curvadas el valor que se debería reemplazar.\n",
        "\n",
        "\n",
        "En este caso, usaríamos la siguiente cadena:"
      ]
    },
    {
      "cell_type": "code",
      "metadata": {
        "id": "bWl-GRnaBAkP"
      },
      "source": [
        "f'¡Bienvenido {nombre}!'"
      ],
      "execution_count": null,
      "outputs": []
    },
    {
      "cell_type": "markdown",
      "metadata": {
        "id": "QGwF-VMPDTdg"
      },
      "source": [
        "Esta sintaxis nos ofrece gran flexibilidad en el manejo de cadenas de texto, heredada de lo construido en otros lenguajes de programación. En muchos casos, podemos querer hacer cosas con un texto dado, como alinearlo o darle un formato distinto al que tiene por defecto.\n",
        "\n",
        "En este tipo de cadenas podemos personalizar el formato de la entrada con **modificadores de formato**, que se indican usando el separador punto y coma **`:`** acompañando un valor.\n",
        "\n",
        "<center>\n",
        "<img src = \"https://drive.google.com/uc?export=view&id=1xltZJMXrdAQGObfxmdNR7uE74NgJrRgR\" alt = \"Cadenas con formato\" width = \"60%\">  </img>\n",
        " </center>\n",
        "\n",
        "Veamos algunos de los modificadores más utilizados:\n",
        "- **Modificador de relleno:** podemos rellenar con espacios en blanco un fragmento hasta obtener una cadena con **por lo menos** una longitud determinada. Para hacer esto, usamos el separador **`:`** e indicamos como **modificador** el número de caracteres que tendrá el fragmento indicado.\n",
        "\n",
        "  ```\n",
        "  {VALOR:N}\n",
        "  ```\n",
        "\n",
        "  Por ejemplo, si queremos que el espacio para el nombre del usuario tenga **por lo menos** 16 caracteres haríamos lo siguiente:"
      ]
    },
    {
      "cell_type": "code",
      "metadata": {
        "id": "-UafE7OfNu-C"
      },
      "source": [
        "f'Nombre de usuario: {nombre:16}<----'"
      ],
      "execution_count": null,
      "outputs": []
    },
    {
      "cell_type": "code",
      "source": [
        "cadena_larga = \"Nombre de más de 16 caracteres\"\n",
        "f'Nombre de usuario: {cadena_larga:16}<----'"
      ],
      "metadata": {
        "id": "_srDM_qmxvwJ"
      },
      "execution_count": null,
      "outputs": []
    },
    {
      "cell_type": "markdown",
      "metadata": {
        "id": "BvxePyAbOnaN"
      },
      "source": [
        "* **Modificadores de relleno y alineación:** podemos alinear el contenido con el uso de caracteres adicionales. Por ejemplo, si usamos **`^`** antes de indicar el número de caracteres, la cadena original quedará centrada, con **`<`** alineada hacia la izquierda y con **`>`** alineada hacia la derecha.\n"
      ]
    },
    {
      "cell_type": "markdown",
      "source": [
        "> **Centrado:**\n",
        "  ```\n",
        "  {VALOR:^N}\n",
        "  ```\n"
      ],
      "metadata": {
        "id": "Bj8DEH4IM62r"
      }
    },
    {
      "cell_type": "code",
      "metadata": {
        "id": "0BJBI3-aNZPU"
      },
      "source": [
        "f'¡Bienvenido {nombre:^24}!'"
      ],
      "execution_count": null,
      "outputs": []
    },
    {
      "cell_type": "markdown",
      "source": [
        "> **Alineado a la izquierda:**\n",
        "  ```\n",
        "  {VALOR:<N}\n",
        "  ```\n"
      ],
      "metadata": {
        "id": "p64yaMA7M28i"
      }
    },
    {
      "cell_type": "code",
      "metadata": {
        "id": "kAfZNsQxNofl"
      },
      "source": [
        "f'¡Bienvenido {nombre:>24}!'"
      ],
      "execution_count": null,
      "outputs": []
    },
    {
      "cell_type": "markdown",
      "source": [
        "\n",
        "> **Alineado a la derecha:**\n",
        "  ```\n",
        "  {VALOR:>N}\n",
        "  ```"
      ],
      "metadata": {
        "id": "MsaP5YM2M4BT"
      }
    },
    {
      "cell_type": "code",
      "metadata": {
        "id": "wQLxY6NyNsmQ"
      },
      "source": [
        "f'¡Bienvenido {nombre:<24}!'"
      ],
      "execution_count": null,
      "outputs": []
    },
    {
      "cell_type": "markdown",
      "metadata": {
        "id": "xN_bTuaLTNl0"
      },
      "source": [
        "* **Modificador de relleno con carácter**: podemos definir otro carácter con el cual rellenar el texto vacío, indicándolo justo antes del modificador de alineación:\n",
        "\n",
        "  ```\n",
        "  {VALOR:!N}\n",
        "  ```"
      ]
    },
    {
      "cell_type": "code",
      "metadata": {
        "id": "xf7tmMsKTYqv"
      },
      "source": [
        "f'Bienvenido {nombre:!<24}'"
      ],
      "execution_count": null,
      "outputs": []
    },
    {
      "cell_type": "markdown",
      "metadata": {
        "id": "8Vxq50e6PN-c"
      },
      "source": [
        "## **6. Comentarios y ayuda**\n",
        "---\n",
        "Hemos concluido el tema central de este material, cubriendo los conceptos básicos de la programación en _Python_, con un énfasis en el intercambio y manipulación de texto. A partir de ahora, todo el tema es acumulativo, y se utilizaran estas ideas de forma natural para la presentación de conceptos más avanzados, por lo que le recomendamos encarecidamente que practique y se apropie de las habilidades adquiridas con calma, creando sus propios _notebooks_ de prueba y explorando las ideas discutidas en cada unidad.\n",
        "\n",
        "En esta sección final, vamos a presentar algunas utilidades de ayuda que permiten al programador facilitar la escritura de código en _Python_.\n",
        "\n",
        "\n"
      ]
    },
    {
      "cell_type": "markdown",
      "metadata": {
        "id": "kdgXhsEeTvHL"
      },
      "source": [
        "### **6.1. Comentarios**\n",
        "---\n",
        "\n",
        "Conforme se aprende a construir código más complejo y detallado se complica la capacidad de comprender el propósito de las distintas líneas y fragmentos de un código. Para esto se plantea el concepto de **comentario**, una anotación de texto ignorada por el intérprete y que nos permite añadir información importante en distintas partes del código sin que tenga impacto en la ejecución.\n",
        "\n",
        "En _Python_ los comentarios son escritos con el carácter **`#`**. Cuando aparece este carácter, el resto de la línea es ignorada y se pasa a ejecutar la siguiente. Veamos un ejemplo:\n"
      ]
    },
    {
      "cell_type": "code",
      "metadata": {
        "id": "Am43_zYCaOEl"
      },
      "source": [
        "# Este texto es ignorado por el intérprete.\n",
        "\n",
        "# No importa lo que se escriba después del símbolo\n",
        "# Todo es ignorado (/.-+?\\...), pero solo en la misma línea.\n",
        "\n",
        "print(\"¡Bienvenido al módulo de Introducción a la programación con Python!\")\n",
        "print(\"Este fragmento no es ignorado.\") # Este fragmento está en la misma línea y SÍ es ignorado."
      ],
      "execution_count": null,
      "outputs": []
    },
    {
      "cell_type": "markdown",
      "metadata": {
        "id": "MsHsBmULaXK7"
      },
      "source": [
        "De esta manera podemos estructurar nuestro código para hacerlo más comprensible:"
      ]
    },
    {
      "cell_type": "code",
      "metadata": {
        "id": "Ew-K43jtVFGB"
      },
      "source": [
        "# PROGRAMA 1 - Texto en mayúsculas\n",
        "# Declaramos una variable con el texto original.\n",
        "texto = \"Este es un texto de prueba\"\n",
        "\n",
        "texto = f\"Versión en mayúscula: {texto.upper()}\" # Usamos cadenas con formato para escribir la nueva cadena.\n",
        "\n",
        "# Imprimimos en pantalla el valor resultante:\n",
        "print(texto)"
      ],
      "execution_count": null,
      "outputs": []
    },
    {
      "cell_type": "markdown",
      "metadata": {
        "id": "hZ8nVeHKYqEa"
      },
      "source": [
        "Estos comentarios funcionan línea por línea, y no existe en _Python_ el concepto de comentario multilínea. Sin embargo, podemos usar cadenas de texto multilínea para \"simular\" este tipo de comentario."
      ]
    },
    {
      "cell_type": "code",
      "metadata": {
        "id": "ODw-Ac1cY7XC"
      },
      "source": [
        "'''\n",
        "Este texto está escrito en una cadena\n",
        "pero al ubicarlo antes del programa no\n",
        "afecta la ejecución del código y nos permite\n",
        "usarlo como un comentario de múltiples\n",
        "líneas.\n",
        "'''\n",
        "\n",
        "lenguaje = 'Python 3'\n",
        "print(f'Este programa fue escrito en el lenguaje {lenguaje:^16}')\n",
        "\n",
        "'''\n",
        "ATENCIÓN:\n",
        "Si no lo usamos con cuidado podemos mostrarlo\n",
        "en pantalla o incluso asignarlo a variables de\n",
        "manera no intencional.\n",
        "'''"
      ],
      "execution_count": null,
      "outputs": []
    },
    {
      "cell_type": "markdown",
      "metadata": {
        "id": "w54MB7xAagth"
      },
      "source": [
        "### **6.2. Funciones de ayuda**\n",
        "---\n",
        "\n",
        "En programación se considera más valioso saber encontrar información específica de una utilidad, en vez de ser capaz de recordar cada detalle de su implementación. En este sentido, _Python_ y _Google Colaboratory_ ofrecen algunas utilidades para identificar de manera rápida este tipo de información. Por ejemplo, si queremos conocer los detalles de una función (como **`ord`**), podemos utilizar la función **`help`**, que muestra en salida una descripción de su funcionalidad."
      ]
    },
    {
      "cell_type": "code",
      "metadata": {
        "id": "5j-kaP7QctFF"
      },
      "source": [
        "help(ord)"
      ],
      "execution_count": null,
      "outputs": []
    },
    {
      "cell_type": "markdown",
      "metadata": {
        "id": "pS1SoWTMc0-i"
      },
      "source": [
        "Podemos obtener el mismo resultado con el carácter **`?`** al final de nuestra expresión. Esta utilidad es propia del entorno de _Jupyter_, y en _Google Colab_ se muestra en una ventana propia al costado derecho de la pantalla."
      ]
    },
    {
      "cell_type": "code",
      "metadata": {
        "id": "kKA0vYp2c7SO"
      },
      "source": [
        "ord?"
      ],
      "execution_count": null,
      "outputs": []
    },
    {
      "cell_type": "markdown",
      "metadata": {
        "id": "Vbs3ZEEtfeku"
      },
      "source": [
        "_Google Colaboratory_ nos permite también realizar **compleción de código**. Por ejemplo, definamos una cadena de texto:"
      ]
    },
    {
      "cell_type": "code",
      "metadata": {
        "id": "9EJtqiHHfqiv"
      },
      "source": [
        "cadena = 'Python'"
      ],
      "execution_count": null,
      "outputs": []
    },
    {
      "cell_type": "markdown",
      "metadata": {
        "id": "lPJO1dq0fsvj"
      },
      "source": [
        "Ahora, para acceder a sus métodos y variables podemos escribir:\n",
        "\n",
        "```\n",
        "cadena.\n",
        "```\n",
        "\n",
        "y usar la combinación **Ctrl + Espacio** para hacer aparecer una lista con, entre otras cosas, todos los posibles métodos disponibles para cadenas de texto. Desplácese con las flechas de dirección para ubicar el método **`lower`**, y presione **Enter** para completar el código."
      ]
    },
    {
      "cell_type": "code",
      "metadata": {
        "id": "YoQcn_uGhInk"
      },
      "source": [
        "cadena."
      ],
      "execution_count": null,
      "outputs": []
    },
    {
      "cell_type": "markdown",
      "metadata": {
        "id": "wSn7NwdrgYTW"
      },
      "source": [
        "Además, puede pasar el ratón por encima del nombre del método o usar la combinación **Ctrl + Mayus + Espacio** para mostrar una vista previa de la documentación.\n",
        "<center>\n",
        "<img src = \"https://drive.google.com/uc?export=view&id=1skYjmWNmfe-lYtw8xpuCfGDY4jQacEX0\" alt = \"Animación ayuda del editor\" width = \"80%\">  </img> </center>\n"
      ]
    },
    {
      "cell_type": "markdown",
      "metadata": {
        "id": "DB_GPl1ou_YI"
      },
      "source": [
        "# **Referencias**\n",
        "---\n",
        "Este material fue tomado y adaptado del libro _How to Think Like a Computer Scientist: Learning with Python 3_, Capítulo 1 y 2.\n",
        "\n",
        " > _Copyright (C) Brad Miller, David Ranum, Jeffrey Elkner, Peter Wentworth, Allen B. Downey, Chris\n",
        "Meyers, and Dario Mitchell. Permission is granted to copy, distribute\n",
        "and/or modify this document under the terms of the GNU Free Documentation\n",
        "License, Version 1.3 or any later version published by the Free Software\n",
        "Foundation; with Invariant Sections being Forward, Prefaces, and\n",
        "Contributor List, no Front-Cover Texts, and no Back-Cover Texts. A copy of\n",
        "the license is included in the section entitled “GNU Free Documentation\n",
        "License”_\n",
        "\n",
        "*   [P. Wentworth, J. Elkner, A.B. Downey, C. Meyers - How to Think Like a Computer\n",
        "Scientist: Learning with Python 3\n",
        "Documentation (3rd Edition)](http://www.ict.ru.ac.za/Resources/cspw/thinkcspy3/thinkcspy3.pdf)\n",
        "*   [How to Think Like a Computer Scientist: Interactive Edition](http://interactivepython.org/courselib/static/thinkcspy/index.html)\n",
        "*   [Aprenda a Pensar Como un Programador\n",
        "con Python\n",
        " (español)](https://argentinaenpython.com/quiero-aprender-python/aprenda-a-pensar-como-un-programador-con-python.pdf)\n"
      ]
    },
    {
      "cell_type": "markdown",
      "metadata": {
        "id": "4r5hSQAz6d-g"
      },
      "source": [
        "# **Recursos adicionales**\n",
        "---\n",
        "\n",
        "En esta sección encontrará material adicional para reforzar los temas y conceptos discutidos:\n",
        "\n",
        "* [*Python* 3: documentación oficial.](https://docs.python.org/3/)\n",
        "* [_Python_ - Tutorial de _Python_ (Español)](https://docs.python.org/es/3.7/tutorial/)\n",
        "  - [_Python_ - Built-in Types](https://docs.python.org/es/3.7/library/stdtypes.html)\n",
        "  - [_Python_ - 2. Usando el intérprete de _Python_](https://docs.python.org/es/3.7/tutorial/interpreter.html)\n",
        "  - [_Python_ - 3. Una introducción informal a _Python_](https://docs.python.org/es/3.7/tutorial/introduction.html#numbers)"
      ]
    },
    {
      "cell_type": "markdown",
      "metadata": {
        "id": "uJLF2Soq64YL"
      },
      "source": [
        "# **Créditos**\n",
        "---\n",
        "\n",
        "* **Profesores:**\n",
        "  * [Felipe Restrepo Calle, PhD](https://dis.unal.edu.co/~ferestrepoca/)\n",
        "  * [Fabio Augusto González, PhD](https://dis.unal.edu.co/~fgonza/)\n",
        "  * [Jorge Eliecer Camargo, PhD](https://dis.unal.edu.co/~jecamargom/)\n",
        "* **Asistentes docentes:**\n",
        "  - Alberto Nicolai Romero Martínez\n",
        "  - Edder Hernández Forero\n",
        "\n",
        "**Universidad Nacional de Colombia** - *Facultad de Ingeniería*"
      ]
    }
  ]
}