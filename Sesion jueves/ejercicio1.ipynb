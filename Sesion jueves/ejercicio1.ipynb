{
 "cells": [
  {
   "cell_type": "markdown",
   "metadata": {},
   "source": [
    "1. imprimir los numeros enteros del 0 al 5 utilizando un ciclo while"
   ]
  },
  {
   "cell_type": "code",
   "execution_count": 3,
   "metadata": {},
   "outputs": [
    {
     "name": "stdout",
     "output_type": "stream",
     "text": [
      "0 1 2 3 4 5 "
     ]
    }
   ],
   "source": [
    "maximo = 5\n",
    "contador =0\n",
    "\n",
    "while contador<= maximo:\n",
    "    print(contador , end =\" \")\n",
    "    contador+=1"
   ]
  },
  {
   "cell_type": "markdown",
   "metadata": {},
   "source": [
    "2. imprimir numeros de 5 a 1 de manera descendente"
   ]
  },
  {
   "cell_type": "code",
   "execution_count": 7,
   "metadata": {},
   "outputs": [
    {
     "name": "stdout",
     "output_type": "stream",
     "text": [
      "5 4 3 2 1 0 \n",
      "fin\n"
     ]
    }
   ],
   "source": [
    "minimo = 0\n",
    "contador = 5\n",
    "\n",
    "while contador >= minimo:\n",
    "    print(contador, end=\" \")\n",
    "    contador -= 1\n",
    "print (\"\\nfin\")"
   ]
  },
  {
   "cell_type": "markdown",
   "metadata": {},
   "source": [
    "3. Escribir un programa que pida al usuario una palabra y la meustre por pantalla 5 veces"
   ]
  },
  {
   "cell_type": "code",
   "execution_count": null,
   "metadata": {},
   "outputs": [],
   "source": [
    "palabra = input(\"Digite una palabra \")\n",
    "for i in range (5):\n",
    "    print(palabra)"
   ]
  },
  {
   "cell_type": "markdown",
   "metadata": {},
   "source": [
    "4. Escribir un programa que pida al usuario un número entero positivo y muestre por pantalla todos los números impares desde 1 hasta ese número separados por comas.**\n"
   ]
  },
  {
   "cell_type": "code",
   "execution_count": 11,
   "metadata": {},
   "outputs": [
    {
     "name": "stdout",
     "output_type": "stream",
     "text": [
      "1 3 5 "
     ]
    }
   ],
   "source": [
    "\n",
    "numero = int (input(\"digite numero positivo\"))\n",
    "for i in range (1,numero+1,2):\n",
    "    print (i, end = \" \")"
   ]
  },
  {
   "cell_type": "markdown",
   "metadata": {},
   "source": [
    "5. Escribir un programa que pida al usuario un numero entero positivo y muestre por pantalla la cuenta atras desde ese numero hasta cero separado por coma"
   ]
  },
  {
   "cell_type": "code",
   "execution_count": 13,
   "metadata": {},
   "outputs": [
    {
     "name": "stdout",
     "output_type": "stream",
     "text": [
      "10 9 8 7 6 5 4 3 2 1 "
     ]
    }
   ],
   "source": [
    "numero = int(input(\"Ingrese un numero\"))\n",
    "for i in range (numero,-1,-1):\n",
    "    print(i, end=\" \")"
   ]
  },
  {
   "cell_type": "markdown",
   "metadata": {},
   "source": [
    "6. Escribir un programa que pida al usuario un numero entero y muestre por pantalla un triangulo rectángulo como el de mas abajo, de altura el número introducido.**\n"
   ]
  },
  {
   "cell_type": "code",
   "execution_count": 1,
   "metadata": {},
   "outputs": [
    {
     "name": "stdout",
     "output_type": "stream",
     "text": [
      "*\n",
      "**\n",
      "***\n",
      "****\n",
      "*****\n",
      "******\n",
      "*******\n",
      "********\n"
     ]
    }
   ],
   "source": [
    "\"\"\" n=int(input('altura del triangulo: '))\n",
    "asterisco='*'\n",
    "for i in range(n):\n",
    "    print(asterisco)\n",
    "    asterisco+='*' \"\"\"\n",
    "    \n",
    "\"\"\" altura = int(input(\"ingrese un numero: \"))\n",
    "cadena=\"*\"\n",
    "\n",
    "for i in range (0,altura):\n",
    "    print(cadena)\n",
    "    cadena+=\"*\"\n",
    " \"\"\"\n",
    "n= int(input(\"altura del triangulo: \"))\n",
    "for i in range (n):\n",
    "    for j in range(i+1):\n",
    "        print(\"*\", end = \"\")\n",
    "    print(\"\")\n"
   ]
  },
  {
   "cell_type": "markdown",
   "metadata": {},
   "source": [
    "8.Escribir un programa en que se pregunte al usuario por una frase y una letra, y muestre por pantalla el número de veces que aparece la letra en la frase.\n"
   ]
  },
  {
   "cell_type": "code",
   "execution_count": 22,
   "metadata": {},
   "outputs": [
    {
     "name": "stdout",
     "output_type": "stream",
     "text": [
      "la letra 'o' aparece 2 veces en la frase 'colombia'  .\n"
     ]
    }
   ],
   "source": [
    "frase = input(\"Digite una frase\")\n",
    "letra = input(\"Digite una letra\")\n",
    "contador = 0\n",
    "\n",
    "for i in frase:\n",
    "    if i == letra:\n",
    "        contador +=1\n",
    "print(\"la letra '%s' aparece %1i veces en la frase '%s'  .\" % (letra,contador,frase))"
   ]
  },
  {
   "cell_type": "markdown",
   "metadata": {},
   "source": [
    "serie fibonacci"
   ]
  },
  {
   "cell_type": "code",
   "execution_count": 25,
   "metadata": {},
   "outputs": [
    {
     "name": "stdout",
     "output_type": "stream",
     "text": [
      "0 1 1 2 3 5 8 13 21 34 55 "
     ]
    }
   ],
   "source": [
    "n1 =0\n",
    "n2 = 1\n",
    "print (n1, end=\" \")\n",
    "print(n2, end=\" \")\n",
    "\n",
    "for i in range (9):\n",
    "    n3 = n1 + n2\n",
    "    print (n3, end=' ')\n",
    "    n1 = n2\n",
    "    n2 = n3"
   ]
  }
 ],
 "metadata": {
  "kernelspec": {
   "display_name": "Python 3.10.4 64-bit",
   "language": "python",
   "name": "python3"
  },
  "language_info": {
   "codemirror_mode": {
    "name": "ipython",
    "version": 3
   },
   "file_extension": ".py",
   "mimetype": "text/x-python",
   "name": "python",
   "nbconvert_exporter": "python",
   "pygments_lexer": "ipython3",
   "version": "3.10.4"
  },
  "orig_nbformat": 4,
  "vscode": {
   "interpreter": {
    "hash": "ee582abd93f2c6673468e182eee38132e152c8e14969e0bc6b63b93977e405e1"
   }
  }
 },
 "nbformat": 4,
 "nbformat_minor": 2
}
