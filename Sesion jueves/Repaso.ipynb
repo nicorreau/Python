{
 "cells": [
  {
   "cell_type": "markdown",
   "metadata": {},
   "source": [
    "<h1><center>Colombian TI Software</center></h1>\n",
    "<h2><center>Ejercicios bubles</center></h1>"
   ]
  },
  {
   "cell_type": "markdown",
   "metadata": {},
   "source": [
    "**1.\tImprimir los números enteros del 0 al 5 utilizando un ciclo while.**"
   ]
  },
  {
   "cell_type": "code",
   "execution_count": null,
   "metadata": {},
   "outputs": [],
   "source": [
    "i = 0\n",
    "while (i<=5):\n",
    "    print(i)\n",
    "    i+=1\n"
   ]
  },
  {
   "cell_type": "markdown",
   "metadata": {},
   "source": [
    "**2.\tImprimir números de 5 a 1 de manera descendente.**"
   ]
  },
  {
   "cell_type": "code",
   "execution_count": 12,
   "metadata": {},
   "outputs": [
    {
     "name": "stdout",
     "output_type": "stream",
     "text": [
      "5\n",
      "4\n",
      "3\n",
      "2\n",
      "1\n"
     ]
    }
   ],
   "source": [
    "minimo = 1\n",
    "i = 5\n",
    "while (i>=minimo):\n",
    "    print(i)\n",
    "    i -= 1"
   ]
  },
  {
   "cell_type": "markdown",
   "metadata": {},
   "source": [
    "**3.\tEscribir un programa que pida al usuario una palabra y la muestre por pantalla 5 veces.**"
   ]
  },
  {
   "cell_type": "code",
   "execution_count": 14,
   "metadata": {},
   "outputs": [
    {
     "name": "stdout",
     "output_type": "stream",
     "text": [
      "ppalabra\n",
      "ppalabra\n",
      "ppalabra\n",
      "ppalabra\n",
      "ppalabra\n"
     ]
    }
   ],
   "source": [
    "palabra = input(\"Ingrese una palabra\")\n",
    "i =0\n",
    "while (i<5):\n",
    "    print(palabra)\n",
    "    i +=1"
   ]
  },
  {
   "cell_type": "markdown",
   "metadata": {},
   "source": [
    "**4.\tEscribir un programa que pida al usuario un número entero positivo y muestre por pantalla todos los números impares desde 1 hasta ese número separados por comas.**"
   ]
  },
  {
   "cell_type": "code",
   "execution_count": 9,
   "metadata": {},
   "outputs": [
    {
     "name": "stdout",
     "output_type": "stream",
     "text": [
      "1, 3, 5, "
     ]
    }
   ],
   "source": [
    "while(True):\n",
    "    positivo = int(input(\"Ingrese un numero positivo \"))\n",
    "    if positivo > 0:\n",
    "        break\n",
    "\n",
    "i = 0\n",
    "while (i < positivo):\n",
    "    i += 1 \n",
    "    if i % 2 != 0:\n",
    "        print(i, end=\", \")\n",
    "    "
   ]
  },
  {
   "cell_type": "markdown",
   "metadata": {},
   "source": [
    "**5.\tEscribir un programa que pida al usuario un número entero positivo y muestre por pantalla la cuenta atrás desde ese número hasta cero separados por comas.**"
   ]
  },
  {
   "cell_type": "code",
   "execution_count": null,
   "metadata": {},
   "outputs": [],
   "source": [
    "while(True):\n",
    "    positivo = int(input(\"Ingrese un numero positivo \"))\n",
    "    if positivo > 0:\n",
    "        break\n",
    "\n",
    "for i in range(positivo, -1, -1):\n",
    "    print (i)\n"
   ]
  },
  {
   "cell_type": "markdown",
   "metadata": {},
   "source": [
    "**6.\tEscribir un programa que pida al usuario un número entero y muestre por pantalla un triángulo rectángulo como el de más abajo, de altura el número introducido.**\n",
    "```python\n",
    "*\n",
    "**\n",
    "***\n",
    "****\n",
    "*****\n",
    "```\n"
   ]
  },
  {
   "cell_type": "code",
   "execution_count": null,
   "metadata": {},
   "outputs": [],
   "source": []
  },
  {
   "cell_type": "markdown",
   "metadata": {},
   "source": [
    "**7.\tEscribir un programa que pida al usuario un número entero y muestre por pantalla si es un número primo o no.**"
   ]
  },
  {
   "cell_type": "code",
   "execution_count": 5,
   "metadata": {},
   "outputs": [
    {
     "ename": "KeyboardInterrupt",
     "evalue": "",
     "output_type": "error",
     "traceback": [
      "\u001b[1;31m---------------------------------------------------------------------------\u001b[0m",
      "\u001b[1;31mKeyboardInterrupt\u001b[0m                         Traceback (most recent call last)",
      "\u001b[1;32mc:\\Users\\Nestor\\Desktop\\Colombian TI\\Curso python\\Sesion jueves\\Repaso.ipynb Celda 15\u001b[0m in \u001b[0;36m<cell line: 3>\u001b[1;34m()\u001b[0m\n\u001b[0;32m      <a href='vscode-notebook-cell:/c%3A/Users/Nestor/Desktop/Colombian%20TI/Curso%20python/Sesion%20jueves/Repaso.ipynb#X20sZmlsZQ%3D%3D?line=0'>1</a>\u001b[0m entero \u001b[39m=\u001b[39m \u001b[39mint\u001b[39m(\u001b[39minput\u001b[39m(\u001b[39m\"\u001b[39m\u001b[39mIngrese un numero entero mayor a 2 \u001b[39m\u001b[39m\"\u001b[39m))\n\u001b[0;32m      <a href='vscode-notebook-cell:/c%3A/Users/Nestor/Desktop/Colombian%20TI/Curso%20python/Sesion%20jueves/Repaso.ipynb#X20sZmlsZQ%3D%3D?line=1'>2</a>\u001b[0m i \u001b[39m=\u001b[39m \u001b[39m2\u001b[39m\n\u001b[1;32m----> <a href='vscode-notebook-cell:/c%3A/Users/Nestor/Desktop/Colombian%20TI/Curso%20python/Sesion%20jueves/Repaso.ipynb#X20sZmlsZQ%3D%3D?line=2'>3</a>\u001b[0m \u001b[39mwhile\u001b[39;00m (i\u001b[39m%\u001b[39;49mentero \u001b[39m!=\u001b[39;49m \u001b[39m2\u001b[39;49m):\n\u001b[0;32m      <a href='vscode-notebook-cell:/c%3A/Users/Nestor/Desktop/Colombian%20TI/Curso%20python/Sesion%20jueves/Repaso.ipynb#X20sZmlsZQ%3D%3D?line=3'>4</a>\u001b[0m     i\u001b[39m+\u001b[39m\u001b[39m=\u001b[39m\u001b[39m1\u001b[39m\n\u001b[0;32m      <a href='vscode-notebook-cell:/c%3A/Users/Nestor/Desktop/Colombian%20TI/Curso%20python/Sesion%20jueves/Repaso.ipynb#X20sZmlsZQ%3D%3D?line=5'>6</a>\u001b[0m \u001b[39mif\u001b[39;00m entero \u001b[39m%\u001b[39m \u001b[39m1\u001b[39m  \u001b[39m==\u001b[39m \u001b[39m0\u001b[39m:\n",
      "\u001b[1;31mKeyboardInterrupt\u001b[0m: "
     ]
    }
   ],
   "source": [
    "entero = int(input(\"Ingrese un numero entero mayor a 2 \"))\n",
    "i = 2\n",
    "while (i%entero != 2):\n",
    "    i+=1\n",
    "\n",
    "if entero % 1  == 0:\n",
    "    print(F\"el numero {entero} es primo\")\n",
    "\n",
    "else:\n",
    "    print(F\"el numero {entero} no es primo\")\n",
    "\n",
    "    \n"
   ]
  },
  {
   "cell_type": "markdown",
   "metadata": {},
   "source": [
    "**8.\tEscribir un programa en el que se pregunte al usuario por una frase y una letra, y muestre por pantalla el número de veces que aparece la letra en la frase.**"
   ]
  },
  {
   "cell_type": "code",
   "execution_count": null,
   "metadata": {},
   "outputs": [],
   "source": []
  },
  {
   "cell_type": "markdown",
   "metadata": {},
   "source": [
    "**9.\tEscribir un programa que muestre el eco de todo lo que el usuario introduzca hasta que el usuario escriba “salir” que terminará.**"
   ]
  },
  {
   "cell_type": "code",
   "execution_count": null,
   "metadata": {},
   "outputs": [],
   "source": []
  },
  {
   "cell_type": "markdown",
   "metadata": {},
   "source": [
    "**10. Escriba un programa para imprimir el cubo de todos los números del 1 a un número dado.**"
   ]
  },
  {
   "cell_type": "code",
   "execution_count": null,
   "metadata": {},
   "outputs": [],
   "source": []
  },
  {
   "cell_type": "markdown",
   "metadata": {},
   "source": [
    "**11. Escriba un programa que genere un número aleatorio (0-10) y pídale que lo adivine. Tienes tres afirmaciones.**\n",
    "\n",
    "**-Define el número aleatorio con randit entre 0 y 10.**\n",
    "\n",
    "**-Inicializa guesses_left a 3.**\n",
    "\n",
    "**-Use un bucle while para permitir que el usuario siga adivinando siempre que guesses_left sea mayor que cero.**\n",
    "\n",
    "**-Pida al usuario su suposición, al igual que el segundo ejemplo anterior.**\n",
    "\n",
    "**-•\tSi se adivina correctamente, escribe '¡Tú ganas!'.**\n",
    "\n",
    "**-Use un caso else: después de su ciclo while para imprimir: Perdiste.**"
   ]
  },
  {
   "cell_type": "code",
   "execution_count": null,
   "metadata": {},
   "outputs": [],
   "source": []
  },
  {
   "cell_type": "markdown",
   "metadata": {},
   "source": [
    "12. Realice un programa que el usuario tenga que adivinar una palabra "
   ]
  },
  {
   "cell_type": "code",
   "execution_count": null,
   "metadata": {},
   "outputs": [],
   "source": []
  },
  {
   "cell_type": "markdown",
   "metadata": {},
   "source": [
    "14. Escribir un programa que permita al usuario ingresar dos años y luego imprima todos los años en ese rango, que sean bisiestos y múltiplos de 10. Nota: para que un año sea bisiesto debe ser divisible por 4 y no debe ser divisible por 100, excepto que también sea divisible por 400."
   ]
  },
  {
   "cell_type": "code",
   "execution_count": null,
   "metadata": {},
   "outputs": [],
   "source": []
  },
  {
   "cell_type": "markdown",
   "metadata": {},
   "source": [
    "15. Escribir un programa que permita al usuario ingresar 10 números enteros, que pueden ser positivos o negativos. Al finalizar, mostrar la sumatoria de los números negativos y el promedio de los positivos.\n",
    "No olvides que no es posible dividir por cero, por lo que es necesario evitar que el programa arroje un error si no se ingresaron números positivos."
   ]
  },
  {
   "cell_type": "code",
   "execution_count": null,
   "metadata": {},
   "outputs": [],
   "source": []
  },
  {
   "cell_type": "markdown",
   "metadata": {},
   "source": [
    "16. Crear un programa que muestre los primeros 10 números de la sucesión de Fibonacci. La sucesión comienza con los números 0 y 1 y, a partir de éstos, cada elemento es la suma de los dos números anteriores en la secuencia: 0, 1, 1, 2, 3, 5, 8, 13, 21, 34, 55…"
   ]
  },
  {
   "cell_type": "code",
   "execution_count": null,
   "metadata": {},
   "outputs": [],
   "source": []
  }
 ],
 "metadata": {
  "kernelspec": {
   "display_name": "Python 3.10.4 64-bit",
   "language": "python",
   "name": "python3"
  },
  "language_info": {
   "codemirror_mode": {
    "name": "ipython",
    "version": 3
   },
   "file_extension": ".py",
   "mimetype": "text/x-python",
   "name": "python",
   "nbconvert_exporter": "python",
   "pygments_lexer": "ipython3",
   "version": "3.10.4"
  },
  "orig_nbformat": 4,
  "vscode": {
   "interpreter": {
    "hash": "ee582abd93f2c6673468e182eee38132e152c8e14969e0bc6b63b93977e405e1"
   }
  }
 },
 "nbformat": 4,
 "nbformat_minor": 2
}
