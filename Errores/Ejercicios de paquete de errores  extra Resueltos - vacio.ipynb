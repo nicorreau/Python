{
 "cells": [
  {
   "cell_type": "markdown",
   "metadata": {},
   "source": [
    "<h1><center>Colombian TI Software</center></h1>\n",
    "<h2><center>Ejercicios de Módulos extra Resueltos</center></h1>"
   ]
  },
  {
   "cell_type": "markdown",
   "metadata": {},
   "source": [
    "**1.\tEscriba un programa para multiplicar dos números enteros sin usar el operador \"*\".**"
   ]
  },
  {
   "cell_type": "code",
   "execution_count": 3,
   "metadata": {},
   "outputs": [
    {
     "name": "stdout",
     "output_type": "stream",
     "text": [
      "Ocurrio un error invalid literal for int() with base 10: 'a'\n",
      "4\n"
     ]
    }
   ],
   "source": [
    "try:\n",
    "    def multiplicar(x,y):\n",
    "        if y<0:\n",
    "            return -multiplicar(x,-y)\n",
    "        elif y==0:\n",
    "            return 0\n",
    "        elif y==1:  \n",
    "            return x\n",
    "        else:\n",
    "            return x + multiplicar(x,y -1)\n",
    "\n",
    "    x = int(input(\"Digiite el primer numero \"))\n",
    "    y = int(input(\"Digiite el segundo numero \"))\n",
    "except Exception as e:\n",
    "    print(f\"Ocurrio un error {e}\")\n",
    "\n",
    "print(multiplicar(x,y))"
   ]
  },
  {
   "cell_type": "markdown",
   "metadata": {},
   "source": [
    "**2.\tEscribir un programa que tire una moneda al aire 10.000 veces y cuente cuantas veces sale cara y cuantas veces sale sello e imprima el resultado.**"
   ]
  },
  {
   "cell_type": "code",
   "execution_count": 4,
   "metadata": {},
   "outputs": [
    {
     "name": "stdout",
     "output_type": "stream",
     "text": [
      "Cara 4983\n",
      "sello 5017\n"
     ]
    }
   ],
   "source": [
    "import random\n",
    "resultados = {\"cara\":0, \"sello\":0}\n",
    "lados = list(resultados.keys())\n",
    "\n",
    "for i in range(10000):\n",
    "    resultados[random.choice(lados)] += 1\n",
    "\n",
    "print (\"Cara\", resultados [\"cara\"])\n",
    "print (\"sello\", resultados [\"sello\"])\n"
   ]
  },
  {
   "cell_type": "markdown",
   "metadata": {},
   "source": [
    "**3.\tEscribir un programa que imprima una fecha aleatoria del año actual.**"
   ]
  },
  {
   "cell_type": "code",
   "execution_count": null,
   "metadata": {},
   "outputs": [],
   "source": [
    "from datetime import date\n",
    "import random\n",
    "\n",
    "try:\n",
    "    fechaInicial = date.today().replace (day =1, month=1).toordinal()\n",
    "    fechaFinal = date.today().toordinal()\n",
    "    fechaAleatoria = random.randint(fechaInicial,fechaFinal)\n",
    "except Exception as e:\n",
    "    print(f\"Ocurrio un error {e}\")"
   ]
  },
  {
   "cell_type": "markdown",
   "metadata": {},
   "source": [
    "**4.\tEscribir un programa para convertir un numero binario en un numero decimal.**"
   ]
  },
  {
   "cell_type": "code",
   "execution_count": null,
   "metadata": {},
   "outputs": [],
   "source": []
  },
  {
   "cell_type": "markdown",
   "metadata": {},
   "source": [
    "**5.\tEscriba un programa para calcular un cuadrado magico.**"
   ]
  },
  {
   "cell_type": "code",
   "execution_count": null,
   "metadata": {},
   "outputs": [],
   "source": []
  }
 ],
 "metadata": {
  "kernelspec": {
   "display_name": "Python 3.10.4 64-bit",
   "language": "python",
   "name": "python3"
  },
  "language_info": {
   "codemirror_mode": {
    "name": "ipython",
    "version": 3
   },
   "file_extension": ".py",
   "mimetype": "text/x-python",
   "name": "python",
   "nbconvert_exporter": "python",
   "pygments_lexer": "ipython3",
   "version": "3.10.4"
  },
  "orig_nbformat": 4,
  "vscode": {
   "interpreter": {
    "hash": "ee582abd93f2c6673468e182eee38132e152c8e14969e0bc6b63b93977e405e1"
   }
  }
 },
 "nbformat": 4,
 "nbformat_minor": 2
}
