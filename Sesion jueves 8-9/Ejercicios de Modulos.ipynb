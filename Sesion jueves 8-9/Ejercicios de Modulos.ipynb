{
 "cells": [
  {
   "cell_type": "markdown",
   "metadata": {},
   "source": [
    "<h1><center>Colombian TI Software</center></h1>\n",
    "<h2><center>Ejercicios de Módulos Resueltos</center></h1>"
   ]
  },
  {
   "cell_type": "markdown",
   "metadata": {},
   "source": [
    "**1.\tCree un programa que obtenga un numero aleatorio entre 1 y 2, luego imprima \"Cara\" si el numero es igual a 1 y \"Sello\" si el numero es igual a 2, utilizando la libreria Random.**"
   ]
  },
  {
   "cell_type": "code",
   "execution_count": 1,
   "metadata": {},
   "outputs": [
    {
     "name": "stdout",
     "output_type": "stream",
     "text": [
      "Sello\n"
     ]
    }
   ],
   "source": [
    "import random\n",
    "\n",
    "numero = random.randint(1,2)\n",
    "\n",
    "if numero ==1:\n",
    "    print(\"Cara \")\n",
    "elif numero ==2:\n",
    "    print(\"Sello\")\n",
    "else: print (\"No existe esa opcion\")"
   ]
  },
  {
   "cell_type": "markdown",
   "metadata": {},
   "source": [
    "**2.\tImprimir la raiz cuadrada de 16900 utilizando la libreria Math.**"
   ]
  },
  {
   "cell_type": "code",
   "execution_count": 2,
   "metadata": {},
   "outputs": [
    {
     "name": "stdout",
     "output_type": "stream",
     "text": [
      "130.0\n"
     ]
    }
   ],
   "source": [
    "import math\n",
    "\n",
    "print ( math.sqrt(16900))"
   ]
  },
  {
   "cell_type": "markdown",
   "metadata": {},
   "source": [
    "**3.\tObtener e imprimir la marca de tiempo de la siguiente fecha: 02/26/2003, utilizando la libreria datetime.**"
   ]
  },
  {
   "cell_type": "code",
   "execution_count": 3,
   "metadata": {},
   "outputs": [
    {
     "name": "stdout",
     "output_type": "stream",
     "text": [
      "1046235600.0\n"
     ]
    }
   ],
   "source": [
    "from datetime import *\n",
    "\n",
    "fecha = datetime(2003,2,26)\n",
    "\n",
    "print(datetime.timestamp(fecha))\n",
    "\n"
   ]
  },
  {
   "cell_type": "markdown",
   "metadata": {},
   "source": [
    "**4.\tObtener e imprimir la fecha de la siguiente  marca de tiempo: (60*16670350) utilizando la libreria datetime.**"
   ]
  },
  {
   "cell_type": "code",
   "execution_count": 5,
   "metadata": {},
   "outputs": [
    {
     "name": "stdout",
     "output_type": "stream",
     "text": [
      "2003-02-26 00:00:00\n"
     ]
    }
   ],
   "source": [
    "from datetime import *\n",
    "print(datetime.fromtimestamp(1046235600.0))"
   ]
  },
  {
   "cell_type": "markdown",
   "metadata": {},
   "source": [
    "**5.\tEscriba un programa que imprima la resta o diferencia entre las 2 siguientes fechas, 2022/12/31 y 2022/1/1 utilizando la libreria datetime.**"
   ]
  },
  {
   "cell_type": "code",
   "execution_count": 9,
   "metadata": {},
   "outputs": [
    {
     "name": "stdout",
     "output_type": "stream",
     "text": [
      "El numero de dias y horas que hay entre January,01,2022 y December,31,2022 es 364 days, 0:00:00\n"
     ]
    }
   ],
   "source": [
    "from datetime import *\n",
    "\n",
    "fecha1= date(2022,1,1)\n",
    "fecha2= date(2022,12,31)\n",
    "\n",
    "diferencia = fecha2-fecha1\n",
    "\n",
    "def fecha_string(date,date_format = \"%B,%d,%Y\"):\n",
    "    return date.strftime(date_format)\n",
    "\n",
    "print(f\"El numero de dias y horas que hay entre {fecha_string(fecha1)} y {fecha_string(fecha2)} es {diferencia}\")\n",
    "\n"
   ]
  },
  {
   "cell_type": "markdown",
   "metadata": {},
   "source": [
    "**6.\tEscriba un programa que imprima la fecha y hora actuales de Hong Kong utilizando la libreria zoneinfo.**"
   ]
  },
  {
   "cell_type": "code",
   "execution_count": 18,
   "metadata": {},
   "outputs": [
    {
     "name": "stdout",
     "output_type": "stream",
     "text": [
      "September 09, 2022, 11:03:39\n"
     ]
    }
   ],
   "source": [
    "\"\"\" from datetime import datetime \n",
    "import pytz \n",
    "\n",
    "zonaHoraria = pytz.timezone(\"HongKong\")\n",
    "HoraAhora = datetime.now(zonaHoraria)\n",
    "\n",
    "print(HoraAhora.strftime(\"%B %d, %Y, %H:%M:%S\")) \"\"\"\n",
    "\n",
    "from datetime import datetime\n",
    "import pytz \n",
    "ZonaHoraria = pytz.timezone(\"Hongkong\")\n",
    "HoraAhora =datetime.now(ZonaHoraria)\n",
    "print(HoraAhora.strftime(\"%B %d, %Y, %H:%M:%S\"))\n",
    "\n",
    "\n",
    "\n",
    "\n",
    "\n"
   ]
  },
  {
   "cell_type": "markdown",
   "metadata": {},
   "source": [
    "**7.\tEscribna un programa el cual imprima que fecha va a ser dentro de 450 dias utilizando la libreria datetime.**"
   ]
  },
  {
   "cell_type": "code",
   "execution_count": null,
   "metadata": {},
   "outputs": [],
   "source": []
  },
  {
   "cell_type": "markdown",
   "metadata": {},
   "source": [
    "**8.\tEscriba un programa en Python para calcular el área y volumen de una esfera utilizando la libreria Math.**"
   ]
  },
  {
   "cell_type": "code",
   "execution_count": null,
   "metadata": {},
   "outputs": [],
   "source": []
  },
  {
   "cell_type": "markdown",
   "metadata": {},
   "source": [
    "**9. Cree un programa que obtenga un numero aleatorio entre 1 y 100, luego mediante la consola digitar un numero y el programa indicara si es mayo o menor hasta encontrar el numero que se obtuvo al inicio, contando e imprimiendo el numero de intentos, realizarlo con la libreria Random.**"
   ]
  },
  {
   "cell_type": "code",
   "execution_count": null,
   "metadata": {},
   "outputs": [],
   "source": []
  },
  {
   "cell_type": "markdown",
   "metadata": {},
   "source": [
    "**10.\tEscriba un programa Python para crear una calculadora del teorema de Pitágoras, utilizando la libreria Math.**"
   ]
  },
  {
   "cell_type": "code",
   "execution_count": null,
   "metadata": {},
   "outputs": [],
   "source": []
  }
 ],
 "metadata": {
  "kernelspec": {
   "display_name": "Python 3.10.4 64-bit",
   "language": "python",
   "name": "python3"
  },
  "language_info": {
   "codemirror_mode": {
    "name": "ipython",
    "version": 3
   },
   "file_extension": ".py",
   "mimetype": "text/x-python",
   "name": "python",
   "nbconvert_exporter": "python",
   "pygments_lexer": "ipython3",
   "version": "3.10.4"
  },
  "orig_nbformat": 4,
  "vscode": {
   "interpreter": {
    "hash": "ee582abd93f2c6673468e182eee38132e152c8e14969e0bc6b63b93977e405e1"
   }
  }
 },
 "nbformat": 4,
 "nbformat_minor": 2
}
