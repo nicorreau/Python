{
  "nbformat": 4,
  "nbformat_minor": 0,
  "metadata": {
    "colab": {
      "provenance": [],
      "collapsed_sections": [
        "3Q3ZLFLqqirw"
      ],
      "include_colab_link": true
    },
    "kernelspec": {
      "name": "python3",
      "display_name": "Python 3"
    },
    "language_info": {
      "name": "python"
    }
  },
  "cells": [
    {
      "cell_type": "markdown",
      "metadata": {
        "id": "view-in-github",
        "colab_type": "text"
      },
      "source": [
        "<a href=\"https://colab.research.google.com/github/nicorreau/Python/blob/main/U1_%7C_Operaciones_matem%C3%A1ticas.ipynb\" target=\"_parent\"><img src=\"https://colab.research.google.com/assets/colab-badge.svg\" alt=\"Open In Colab\"/></a>"
      ]
    },
    {
      "cell_type": "markdown",
      "source": [
        "<img src = \"https://drive.google.com/uc?export=view&id=1Bss-t4i2HskfdVnTRw2HF-2RlOge02Sv\" alt = \"Si no puede ver este encabezado le recomendamos que utilice un navegador distinto. Los navegadores probados son Google Chrome, Opera y Microsoft Edge.\" width = \"80%\">  </img>"
      ],
      "metadata": {
        "id": "BtQtZaJFRRSp"
      }
    },
    {
      "cell_type": "markdown",
      "metadata": {
        "id": "qCo5PrkGaT7t"
      },
      "source": [
        "# **Operaciones matemáticas con _Python_**\n",
        "---\n",
        "¡Le damos la bienvenida al segundo material del curso de **Introducción a la programación con _Python_**!\n",
        "\n",
        "En este material se discutirán los conceptos fundamentales del manejo y operación de valores numéricos en el lenguaje de programación _Python_."
      ]
    },
    {
      "cell_type": "code",
      "metadata": {
        "id": "EG4SRAhjuMcd",
        "colab": {
          "base_uri": "https://localhost:8080/"
        },
        "outputId": "546960dc-253f-44c5-c713-3532792de466"
      },
      "source": [
        "!python --version"
      ],
      "execution_count": null,
      "outputs": [
        {
          "output_type": "stream",
          "name": "stdout",
          "text": [
            "Python 3.7.13\n"
          ]
        }
      ]
    },
    {
      "cell_type": "markdown",
      "metadata": {
        "id": "DZ6icoesuOm8"
      },
      "source": [
        "> _Este material fue creado en la versión **`3.7.10`** de _Python__. Algunas funcionalidades pueden no estar disponibles en versiones anteriores."
      ]
    },
    {
      "cell_type": "markdown",
      "metadata": {
        "id": "O75k_11V5RfL"
      },
      "source": [
        "## **1. Números**\n",
        "---\n",
        "Además de los valores y operaciones discutidas en cadenas de texto, una de las aplicaciones y pilares fundamentales de la programación es el manejo y operación de **valores numéricos** de distintos tipos, y es de gran importancia en la mayoría de las aplicaciones de la programación, como los procesos de análisis de datos.\n",
        "\n",
        "Al igual que en el resto de los valores que veremos en el curso, los valores numéricos siguen unas reglas de escritura que le permiten a _Python_ identificar cuando un valor es de un tipo particular.\n",
        "\n",
        "En _Python_ los números se expresan como se expresarían en una calculadora o en una hoja de cálculo de herramientas como _Excel_, compuesto por **dígitos**:"
      ]
    },
    {
      "cell_type": "code",
      "metadata": {
        "id": "e5gmEPp9zi7d",
        "colab": {
          "base_uri": "https://localhost:8080/"
        },
        "outputId": "c3728c42-f600-4464-e602-84cf036e7127"
      },
      "source": [
        "500"
      ],
      "execution_count": null,
      "outputs": [
        {
          "output_type": "execute_result",
          "data": {
            "text/plain": [
              "500"
            ]
          },
          "metadata": {},
          "execution_count": 1
        }
      ]
    },
    {
      "cell_type": "markdown",
      "metadata": {
        "id": "AEciKqSTzkFs"
      },
      "source": [
        "\n",
        "Al igual que con las cadenas de texto, los números que escribamos tienen que ser válidos para el intérprete o de lo contrario la ejecución no llegará a su fin."
      ]
    },
    {
      "cell_type": "code",
      "metadata": {
        "id": "iQzNfEEa0aeC",
        "colab": {
          "base_uri": "https://localhost:8080/",
          "height": 135
        },
        "outputId": "1bf4ac4f-554b-475a-fc05-ad5a3ec78760"
      },
      "source": [
        "500$"
      ],
      "execution_count": null,
      "outputs": [
        {
          "output_type": "error",
          "ename": "SyntaxError",
          "evalue": "ignored",
          "traceback": [
            "\u001b[0;36m  File \u001b[0;32m\"<ipython-input-7-ce8e46003fb0>\"\u001b[0;36m, line \u001b[0;32m1\u001b[0m\n\u001b[0;31m    500$\u001b[0m\n\u001b[0m       ^\u001b[0m\n\u001b[0;31mSyntaxError\u001b[0m\u001b[0;31m:\u001b[0m invalid syntax\n"
          ]
        }
      ]
    },
    {
      "cell_type": "markdown",
      "metadata": {
        "id": "gkaGEQvW0cqA"
      },
      "source": [
        "Nuevamente, encontramos que este código no es válido de acuerdo a las reglas del lenguaje. El programador pudo haber querido evaluar un valor para representar una cantidad de dinero, pero _Python_ no distingue el concepto de moneda con el carácter **`$`** y simplemente lo identifica como un error.\n",
        "\n",
        "> **Entonces, ¿cuáles son las reglas para escribir valores numéricos en _Python_?**\n",
        "\n",
        "_Python_ es capaz de interpretar estos valores (llamados **literales**) directamente realizando la distinción entre tres tipos de números.\n"
      ]
    },
    {
      "cell_type": "markdown",
      "metadata": {
        "id": "J2SP6cVL53-W"
      },
      "source": [
        "### **1.1. Números enteros**\n",
        "---\n",
        "Al igual que el ejemplo anterior, los [números enteros](https://es.wikipedia.org/wiki/Número_entero) sencillos se escriben con los dígitos del $0$ al $9$ y sin espacios entre ellos.\n",
        "\n",
        "<img src = \"https://drive.google.com/uc?export=view&id=1R-2ce6HPK9L70f2KZqJR0GnMp_vYJABA\" alt = \"Números enteros\" width = \"40%\">  </img>\n",
        "\n",
        "\n"
      ]
    },
    {
      "cell_type": "code",
      "metadata": {
        "id": "IW4_KKob3PMA",
        "colab": {
          "base_uri": "https://localhost:8080/"
        },
        "outputId": "3c58c54f-d12b-417a-a352-714f77aee6e8"
      },
      "source": [
        "1234567890"
      ],
      "execution_count": null,
      "outputs": [
        {
          "output_type": "execute_result",
          "data": {
            "text/plain": [
              "1234567890"
            ]
          },
          "metadata": {},
          "execution_count": 2
        }
      ]
    },
    {
      "cell_type": "markdown",
      "metadata": {
        "id": "CiXCI5OZVjYT"
      },
      "source": [
        "Como una excepción a esta regla _Python_ define que **NO** es válido utilizar ceros a la izquierda de un valor numérico:"
      ]
    },
    {
      "cell_type": "code",
      "metadata": {
        "id": "-WqQWo9kVnMJ",
        "colab": {
          "base_uri": "https://localhost:8080/",
          "height": 135
        },
        "outputId": "44ec05ae-e513-489f-adfd-032ccb5e4b37"
      },
      "source": [
        "0001"
      ],
      "execution_count": null,
      "outputs": [
        {
          "output_type": "error",
          "ename": "SyntaxError",
          "evalue": "ignored",
          "traceback": [
            "\u001b[0;36m  File \u001b[0;32m\"<ipython-input-9-d31c5f03e990>\"\u001b[0;36m, line \u001b[0;32m1\u001b[0m\n\u001b[0;31m    0001\u001b[0m\n\u001b[0m       ^\u001b[0m\n\u001b[0;31mSyntaxError\u001b[0m\u001b[0;31m:\u001b[0m invalid token\n"
          ]
        }
      ]
    },
    {
      "cell_type": "markdown",
      "metadata": {
        "id": "fOAKHgZG8-T6"
      },
      "source": [
        "Los valores negativos se pueden expresar con el símbolo de resta **`-`** antes de un valor numérico válido (aplica también para otros tipos de número).\n",
        "\n",
        "> **Nota:** Sin embargo, y como veremos más adelante, este no es un tipo de valor numérico literal, sino una operación de **negación numérica**."
      ]
    },
    {
      "cell_type": "code",
      "metadata": {
        "id": "tEZ_2ycz9PfB",
        "colab": {
          "base_uri": "https://localhost:8080/"
        },
        "outputId": "bda34523-ee05-4c44-a5b2-6f6f4c1b4a3c"
      },
      "source": [
        "-5000"
      ],
      "execution_count": null,
      "outputs": [
        {
          "output_type": "execute_result",
          "data": {
            "text/plain": [
              "-5000"
            ]
          },
          "metadata": {},
          "execution_count": 3
        }
      ]
    },
    {
      "cell_type": "markdown",
      "metadata": {
        "id": "0UeWy2wb-ZBn"
      },
      "source": [
        "_Python_ se caracteriza por su **expresividad**, y vela por proveer herramientas para facilitar la legibilidad del código. Una de estas características (conocidas usualmente como _syntax sugar_ o azúcar sintáctico) es la posibilidad de usar el símbolo barra al piso (**`_`**) como separador en valores literales numéricos para permitir la legibilidad.\n",
        "\n",
        "> **Nota**: otra de las formas inválidas de definir valores numéricos es utilizar puntos (**`.`**) o comas (**`,`**) como separadores. Como verá en el transcurso del curso, estos símbolos son muy importantes en otras funcionalidades de _Python_."
      ]
    },
    {
      "cell_type": "code",
      "metadata": {
        "id": "iQSYBoRe_rXv",
        "colab": {
          "base_uri": "https://localhost:8080/"
        },
        "outputId": "0b3ab902-5670-44ab-fbbd-87d56ffcfdd2"
      },
      "source": [
        "1_000_000"
      ],
      "execution_count": null,
      "outputs": [
        {
          "output_type": "execute_result",
          "data": {
            "text/plain": [
              "1000000"
            ]
          },
          "metadata": {
            "tags": []
          },
          "execution_count": 13
        }
      ]
    },
    {
      "cell_type": "markdown",
      "source": [
        "Esto es especialmente útil como separador de miles para mejorar la legibilidad. Todos estos son **valores** válidos de _Python_, lo que quiere decir que:"
      ],
      "metadata": {
        "id": "7k19WJzlwiJc"
      }
    },
    {
      "cell_type": "markdown",
      "source": [
        "\n",
        "\n",
        "1. Pueden ser almacenados en **variables**. A diferencia de otros lenguajes, **NO** importa si la variable tenía un valor de otro tipo."
      ],
      "metadata": {
        "id": "xN4BcFt5pPO5"
      }
    },
    {
      "cell_type": "code",
      "source": [
        "num = \"Cadena\"    # Inicialmente 'num' tenía una cadena.\n",
        "num = 100         # Le reasignamos sin problema"
      ],
      "metadata": {
        "colab": {
          "base_uri": "https://localhost:8080/"
        },
        "id": "EttSI9VcpYas",
        "outputId": "e9e491bf-c14e-4ab6-c9c3-b0c4e30da595"
      },
      "execution_count": null,
      "outputs": [
        {
          "output_type": "execute_result",
          "data": {
            "text/plain": [
              "9900002324"
            ]
          },
          "metadata": {},
          "execution_count": 17
        }
      ]
    },
    {
      "cell_type": "markdown",
      "source": [
        "2. Pueden ser usados como **argumentos** de funciones. Por ejemplo, la función **`print`** puede aceptar como argumento un valor numérico."
      ],
      "metadata": {
        "id": "LDu2_JU7pc8V"
      }
    },
    {
      "cell_type": "code",
      "source": [
        "print(10000)"
      ],
      "metadata": {
        "colab": {
          "base_uri": "https://localhost:8080/"
        },
        "id": "jtejA97Xpgwr",
        "outputId": "c8dd80be-fadd-415b-f55d-cb8b4f946261"
      },
      "execution_count": null,
      "outputs": [
        {
          "output_type": "stream",
          "name": "stdout",
          "text": [
            "10000\n"
          ]
        }
      ]
    },
    {
      "cell_type": "markdown",
      "source": [
        "3. Pueden ser **retornados** por funciones. Por ejemplo, _Python_ dispone de la función **`len`**, que nos permite conocer la longitud de objetos como las cadenas de texto (es decir, su cantidad de caracteres)."
      ],
      "metadata": {
        "id": "ObSc0WMRpnJ-"
      }
    },
    {
      "cell_type": "code",
      "source": [
        "# El método 'len' de cadenas de texto discutido\n",
        "# en el material anterior retorna un valor numérico.\n",
        "\n",
        "n_caracteres = len(\"123456\")\n",
        "\n",
        "n_caracteres"
      ],
      "metadata": {
        "colab": {
          "base_uri": "https://localhost:8080/"
        },
        "id": "wZs3UTrgpqy_",
        "outputId": "36be6277-b38b-4884-e7b3-01594b333c8f"
      },
      "execution_count": null,
      "outputs": [
        {
          "output_type": "execute_result",
          "data": {
            "text/plain": [
              "6"
            ]
          },
          "metadata": {},
          "execution_count": 24
        }
      ]
    },
    {
      "cell_type": "markdown",
      "source": [
        "> **¿Cómo podemos distinguir entre texto y valores numéricos?**\n",
        "\n",
        "Si intentamos imprimir una cadena con los caracteres **`1`** y **`0`** (**`\"10\"`**) y el número diez (**`10`**) obtendríamos el mismo resultado en consola.\n",
        "\n"
      ],
      "metadata": {
        "id": "T9rO8lJmq_eS"
      }
    },
    {
      "cell_type": "code",
      "source": [
        "cadena = \"10\"   # Es una cadena con los dígitos '1' y '0'.\n",
        "numero = 10     # Es un valor numérico con el número entero 10.\n",
        "\n",
        "print(cadena)\n",
        "print(numero)"
      ],
      "metadata": {
        "id": "MYh3e5CqrYGN"
      },
      "execution_count": null,
      "outputs": []
    },
    {
      "cell_type": "markdown",
      "source": [
        "Sin embargo, esto **NO** quiere decir que sean lo mismo, sino que su representación en la salida del programa sí lo es. _Python_ lleva un registro del **tipo de dato** real de cada valor, que puede ser consultado con la función **`type`**."
      ],
      "metadata": {
        "id": "ZHLTD_H_roR1"
      }
    },
    {
      "cell_type": "code",
      "source": [
        "type(cadena) # Tipo de la cadena (str)"
      ],
      "metadata": {
        "colab": {
          "base_uri": "https://localhost:8080/"
        },
        "id": "CeIwNl8Hr9Ue",
        "outputId": "216ed24e-2fa4-4101-cb1a-440c1b7b0a85"
      },
      "execution_count": null,
      "outputs": [
        {
          "output_type": "execute_result",
          "data": {
            "text/plain": [
              "str"
            ]
          },
          "metadata": {},
          "execution_count": 30
        }
      ]
    },
    {
      "cell_type": "markdown",
      "source": [
        "En _Python_, los números enteros tienen el tipo **`int`** (diminutivo de *integer*, entero en inglés)."
      ],
      "metadata": {
        "id": "yDDsTNZAsAv9"
      }
    },
    {
      "cell_type": "code",
      "source": [
        "type(numero)"
      ],
      "metadata": {
        "colab": {
          "base_uri": "https://localhost:8080/"
        },
        "id": "O3KATFBMsM0H",
        "outputId": "e6006396-9990-4668-f773-dbf8d28116cc"
      },
      "execution_count": null,
      "outputs": [
        {
          "output_type": "execute_result",
          "data": {
            "text/plain": [
              "int"
            ]
          },
          "metadata": {},
          "execution_count": 31
        }
      ]
    },
    {
      "cell_type": "markdown",
      "source": [
        "#### **1.1.1. Bases numéricas (Opcional)**\n",
        "***\n",
        "Estos números enteros son interpretados con la base **decimal**, con dígitos entre $0$ y $9$. _Python_ también permite utilizar otras bases como la [binaria](https://es.wikipedia.org/wiki/Sistema_binario) (base $2$), [octal](https://es.wikipedia.org/wiki/Sistema_octal) (base $8$) y [hexadecimal](https://es.wikipedia.org/wiki/Sistema_hexadecimal) (base $16$).\n",
        "\n",
        "Podemos ver la base decimal como un sistema de dígitos que representan unidades, decenas, centenas, etc. Estas a su vez se pueden representar como potencias de **10**.\n",
        "\n",
        "<img src = \"https://drive.google.com/uc?export=view&id=1tpWtHvzIzdKZJkmaxJsM9NUUBJ2OZSBE\" alt = \"Base decimal\" width = \"70%\">  </img>\n",
        "\n",
        "Ese número $10$ es el que da el nombre a la **base decimal** (también conocida en ocasiones como **base** $10$). Este número a su vez representa la cantidad de dígitos usados para representar un número, siendo en este caso los $10$ dígitos de $0$ a $9$.\n",
        "\n",
        "\n",
        "A continuación, veremos cómo podemos trabajar con las demás bases permitidas en el lenguaje de programación _Python_.\n",
        "\n",
        "\n",
        "\n"
      ],
      "metadata": {
        "id": "rPsXxpuW2nL_"
      }
    },
    {
      "cell_type": "markdown",
      "source": [
        "\n",
        "* **Números enteros binarios**: para escribir números enteros en esta base debemos utilizar el prefijo **`0b`** o **`0B`**. Luego de este se indican una combinación de los dígitos **`0`** y **`1`**.  Al evaluar su valor, _Python_ retorna su interpretación en el sistema decimal.\n",
        "\n",
        "\n",
        "<img src = \"https://drive.google.com/uc?export=view&id=1FbTvyKviAYyzXB_a-X7ZvjrmfXGu7JjY\" alt = \"Base binaria\" width = \"70%\">  </img>\n",
        "\n",
        "\n",
        "Siguiendo la idea de la base decimal, tenemos que la base binaria trabaja con dos dígitos (**`0`** y **`1`**), donde cada uno de los dígitos está asociado a una potencia de $2$. A continuación, un ejemplo de una conversión entre estas bases:\n",
        "\n",
        "  $$\\texttt{0b101} \\rightarrow 1(2^2) + 0(2^1) + 1(2^0) = 4 + 0 + 1 = 5$$"
      ],
      "metadata": {
        "id": "ga1wg2v7NjR3"
      }
    },
    {
      "cell_type": "code",
      "metadata": {
        "id": "GVebP_NM6rTg",
        "colab": {
          "base_uri": "https://localhost:8080/"
        },
        "outputId": "9eb7070b-fadd-4403-f6a0-62273494a4f4"
      },
      "source": [
        "0b101"
      ],
      "execution_count": null,
      "outputs": [
        {
          "output_type": "execute_result",
          "data": {
            "text/plain": [
              "5"
            ]
          },
          "metadata": {},
          "execution_count": 56
        }
      ]
    },
    {
      "cell_type": "markdown",
      "source": [
        "Al igual que en la base decimal, cuando sumamos un valor a un número binario y se sobrepasa la unidad, se empieza a propagar el **acarreo** a los siguientes dígitos, de derecha a izquierda."
      ],
      "metadata": {
        "id": "-mIbexJ6QVWv"
      }
    },
    {
      "cell_type": "code",
      "source": [
        "# Primeros números de la base binaria\n",
        "\n",
        "print(0b0)    #               0x1\n",
        "print(0b1)    #               1x1\n",
        "print(0b10)   #         1x2 + 0x1\n",
        "print(0b11)   #         1x2 + 1x1\n",
        "print(0b100)  #   1x4 + 0x2 + 0x1"
      ],
      "metadata": {
        "colab": {
          "base_uri": "https://localhost:8080/"
        },
        "id": "maiRMlgf7F4x",
        "outputId": "0c06a4f0-39b3-4831-e690-88b4e348c631"
      },
      "execution_count": null,
      "outputs": [
        {
          "output_type": "stream",
          "name": "stdout",
          "text": [
            "0\n",
            "1\n",
            "2\n",
            "3\n",
            "4\n"
          ]
        }
      ]
    },
    {
      "cell_type": "markdown",
      "metadata": {
        "id": "o_M2cghb7MFE"
      },
      "source": [
        "* **Números enteros octales**: para escribir este tipo de enteros se utiliza el prefijo **`0o`** o **`0O`** y se indican a continuación una combinación de los dígitos entre **`0`** y **`7`**.\n",
        "\n",
        "Al evaluar su valor, _Python_ retorna su interpretación en el sistema decimal.\n",
        "\n",
        "\n",
        "<img src = \"https://drive.google.com/uc?export=view&id=1Q9BdqGPrVCJ_5nxuQ6EG-6Ucqch1rsKT\" alt = \"Base octal\" width = \"70%\">  </img>\n",
        "\n",
        "A continuación, un ejemplo de una conversión entre estas bases:\n",
        "\n",
        "  $$\\texttt{0o174} \\rightarrow  1(8^2) + 7(8^1) + 4(8^0) = 64 + 56 + 4= 124$$"
      ]
    },
    {
      "cell_type": "code",
      "metadata": {
        "id": "YLqarVpy7WBl",
        "colab": {
          "base_uri": "https://localhost:8080/"
        },
        "outputId": "e789953d-2789-4149-c6ba-98515bf87335"
      },
      "source": [
        "0o174"
      ],
      "execution_count": null,
      "outputs": [
        {
          "output_type": "execute_result",
          "data": {
            "text/plain": [
              "124"
            ]
          },
          "metadata": {},
          "execution_count": 50
        }
      ]
    },
    {
      "cell_type": "markdown",
      "metadata": {
        "id": "yxhsZ5A19eLe"
      },
      "source": [
        "* **Números enteros hexadecimales**: para escribir este tipo de enteros se utiliza el prefijo **`0x`** o **`0X`** y se indican a continuación una combinación de los dígitos entre **`0`** y **`9`**, además de las letras de la **`A`** a la **`F`** en minúscula o mayúscula (de esta manera cada digito tiene $16$ valores distintos). Estas letras representan los siguientes números en base decimal:\n",
        "\n",
        "| **Letra** | **Valor** |\n",
        "|----|----|\n",
        "| A         |        10 |\n",
        "| B | 11 |\n",
        "| C | 12 |\n",
        "| D | 13 |\n",
        "| E | 14 |\n",
        "| F | 15 |\n",
        "\n",
        "  Al evaluar su valor, _Python_ retorna su interpretación en el sistema decimal.  \n",
        "  <img src = \"https://drive.google.com/uc?export=view&id=1oba8xj1k8snrhSbecexp6nRmcf42h7Q2\" alt = \"Base binaria\" width = \"70%\">  </img>\n",
        "  \n",
        "   A continuación, un ejemplo de una conversión entre estas bases:\n",
        "\n",
        "  $$\\texttt{0x1af} \\rightarrow  1(16^2) + 10(16^1) + 15(16^0) = 256 + 160 + 15 = 431$$\n",
        "  "
      ]
    },
    {
      "cell_type": "code",
      "source": [
        "print(0x100) # 0x1__\n",
        "print(0xa0)  # 0x_a_\n",
        "print(0xf)   # 0x__f"
      ],
      "metadata": {
        "colab": {
          "base_uri": "https://localhost:8080/"
        },
        "id": "Q3KovLN6Sqtx",
        "outputId": "93ddec4e-3ce4-468e-edb0-b4fe52c9b95d"
      },
      "execution_count": null,
      "outputs": [
        {
          "output_type": "stream",
          "name": "stdout",
          "text": [
            "256\n",
            "160\n",
            "15\n"
          ]
        }
      ]
    },
    {
      "cell_type": "code",
      "source": [
        "# Resultado final\n",
        "\n",
        "0x1af"
      ],
      "metadata": {
        "colab": {
          "base_uri": "https://localhost:8080/"
        },
        "id": "rY4SPaBOUiCR",
        "outputId": "bad67691-2e35-4e0e-ccb1-7be548ef9345"
      },
      "execution_count": null,
      "outputs": [
        {
          "output_type": "execute_result",
          "data": {
            "text/plain": [
              "431"
            ]
          },
          "metadata": {},
          "execution_count": 69
        }
      ]
    },
    {
      "cell_type": "markdown",
      "metadata": {
        "id": "YQsfMMd-TzFH"
      },
      "source": [
        "### **1.2. Números decimales**\n",
        "___\n",
        "\n",
        "Los [números decimales](https://es.wikipedia.org/wiki/N%C3%BAmero_decimal) se escriben de manera similar a los números enteros de base decimal, usando el carácter de punto **`.`** para separar la parte entera de la parte decimal.\n",
        "\n",
        "  <img src = \"https://drive.google.com/uc?export=view&id=1o8l7hnw0OS7td8xZlg4SaAp_JbwOjxgL\" alt = \"Números decimales\" width = \"40%\">  </img>\n",
        "  \n",
        "\n",
        "> **Nota:** **NO** intente separar los números decimales con **comas** (**`,`**). Esta sintaxis no es válida para la definición de decimales en _Python_."
      ]
    },
    {
      "cell_type": "code",
      "metadata": {
        "id": "Z3jDbOOCUVfX",
        "colab": {
          "base_uri": "https://localhost:8080/"
        },
        "outputId": "2adbdb18-09ee-4ee1-c068-2a2435804863"
      },
      "source": [
        "400.125"
      ],
      "execution_count": null,
      "outputs": [
        {
          "output_type": "execute_result",
          "data": {
            "text/plain": [
              "400.125"
            ]
          },
          "metadata": {
            "tags": []
          },
          "execution_count": 16
        }
      ]
    },
    {
      "cell_type": "markdown",
      "metadata": {
        "id": "wTxkEPEzUkb6"
      },
      "source": [
        "Tanto la parte entera como la parte decimal pueden ser omitidas en los casos en que estas tengan $0$ como valor:"
      ]
    },
    {
      "cell_type": "code",
      "metadata": {
        "id": "A_sL5N6EUrEb",
        "colab": {
          "base_uri": "https://localhost:8080/"
        },
        "outputId": "d12f7667-1ae1-40b2-8681-2381e232ce99"
      },
      "source": [
        "# Omitimos la parte entera de 0.15\n",
        ".15"
      ],
      "execution_count": null,
      "outputs": [
        {
          "output_type": "execute_result",
          "data": {
            "text/plain": [
              "0.15"
            ]
          },
          "metadata": {
            "tags": []
          },
          "execution_count": 17
        }
      ]
    },
    {
      "cell_type": "code",
      "metadata": {
        "id": "UrSHFXlDUuBw",
        "colab": {
          "base_uri": "https://localhost:8080/"
        },
        "outputId": "a097e072-83e5-430f-a21a-c7cf5336aec6"
      },
      "source": [
        "# Omitimos la parte decimal de 20.0\n",
        "20."
      ],
      "execution_count": null,
      "outputs": [
        {
          "output_type": "execute_result",
          "data": {
            "text/plain": [
              "20.0"
            ]
          },
          "metadata": {
            "tags": []
          },
          "execution_count": 18
        }
      ]
    },
    {
      "cell_type": "markdown",
      "metadata": {
        "id": "1ObER7VHUwOA"
      },
      "source": [
        "De esta manera podemos hacer que valores con solo parte entera sean tratados como decimales directamente. Como puede ver a continuación, el tipo de dato es distinto y por lo tanto su manejo por parte de _Python_ también lo será."
      ]
    },
    {
      "cell_type": "code",
      "metadata": {
        "id": "lZ0SG3KDU6lN",
        "colab": {
          "base_uri": "https://localhost:8080/"
        },
        "outputId": "3126a60d-46d9-44c1-9e88-2bc176f3379a"
      },
      "source": [
        "type(20)"
      ],
      "execution_count": null,
      "outputs": [
        {
          "output_type": "execute_result",
          "data": {
            "text/plain": [
              "int"
            ]
          },
          "metadata": {
            "tags": []
          },
          "execution_count": 19
        }
      ]
    },
    {
      "cell_type": "code",
      "metadata": {
        "id": "eJbgOjM6U8H9",
        "colab": {
          "base_uri": "https://localhost:8080/"
        },
        "outputId": "c6338381-43c6-4dbf-966b-2f739a5b2551"
      },
      "source": [
        "type(20.)"
      ],
      "execution_count": null,
      "outputs": [
        {
          "output_type": "execute_result",
          "data": {
            "text/plain": [
              "float"
            ]
          },
          "metadata": {
            "tags": []
          },
          "execution_count": 20
        }
      ]
    },
    {
      "cell_type": "markdown",
      "metadata": {
        "id": "AxREDEuwU-1l"
      },
      "source": [
        "El tipo de dato asociado a este tipo de número es **`float`**, que proviene del concepto de **punto flotante**, con el cual se codifica de manera eficiente este tipo de valores.\n",
        "\n",
        "Al igual que en la mayoría de las calculadoras científicas, _Python_ permite el uso de [notación científica](https://es.wikipedia.org/wiki/Notación_científica) con el carácter **`e`**. De esta forma, se obtiene una equivalencia de notaciones como la del siguiente ejemplo:\n",
        "\n",
        "$$\\texttt{-23e5} \\rightarrow -23 \\times 10^{5} $$"
      ]
    },
    {
      "cell_type": "code",
      "metadata": {
        "id": "M1HH0-j9qYOe",
        "colab": {
          "base_uri": "https://localhost:8080/"
        },
        "outputId": "88adde3a-0733-4595-bdd2-2a11bd09573d"
      },
      "source": [
        "-23e5"
      ],
      "execution_count": null,
      "outputs": [
        {
          "output_type": "execute_result",
          "data": {
            "text/plain": [
              "-2300000.0"
            ]
          },
          "metadata": {
            "tags": []
          },
          "execution_count": 21
        }
      ]
    },
    {
      "cell_type": "markdown",
      "source": [
        "Esta notación también aplica para exponentes negativos, dando lugar a fracciones muy pequeñas. Veamos el siguiente ejemplo:\n",
        "\n",
        "$$\\texttt{15e-4} \\rightarrow 15 \\times 10^{-4}$$"
      ],
      "metadata": {
        "id": "g_PQTdeR5meU"
      }
    },
    {
      "cell_type": "code",
      "source": [
        "15e-4"
      ],
      "metadata": {
        "colab": {
          "base_uri": "https://localhost:8080/"
        },
        "id": "wQl9kCSI54ac",
        "outputId": "fe460e39-1a1e-449d-c5d2-b37c8e731764"
      },
      "execution_count": null,
      "outputs": [
        {
          "output_type": "execute_result",
          "data": {
            "text/plain": [
              "0.0015"
            ]
          },
          "metadata": {},
          "execution_count": 45
        }
      ]
    },
    {
      "cell_type": "markdown",
      "metadata": {
        "id": "itHbrDY4odEZ"
      },
      "source": [
        "Finalmente, podemos utilizar el separador de barra al piso **`_`** para separar los números decimales tanto en su parte real como en su parte entera:"
      ]
    },
    {
      "cell_type": "code",
      "metadata": {
        "id": "wm0-b0RgqtdQ",
        "colab": {
          "base_uri": "https://localhost:8080/"
        },
        "outputId": "7976dce3-506c-44e2-f7af-ded60c3109d6"
      },
      "source": [
        "1_500.42_42"
      ],
      "execution_count": null,
      "outputs": [
        {
          "output_type": "execute_result",
          "data": {
            "text/plain": [
              "1500.4242"
            ]
          },
          "metadata": {
            "tags": []
          },
          "execution_count": 22
        }
      ]
    },
    {
      "cell_type": "markdown",
      "metadata": {
        "id": "sUCJ3K68q8tO"
      },
      "source": [
        "### **1.3. Números complejos (Opcional)**\n",
        "___\n",
        "\n",
        "_Python_ permite utilizar [**números complejos**](https://es.wikipedia.org/wiki/Número_complejo), un tipo de número muy importante en áreas como la física, que están compuestos por una **parte real** y una **parte imaginaria**.\n",
        "\n",
        "Para declarar este tipo de números tenemos que utilizar el carácter **`j`** para definir la parte imaginaria de un número complejo. Como veremos más adelante, se puede definir su parte real con operaciones como la suma y la resta con números decimales o enteros."
      ]
    },
    {
      "cell_type": "code",
      "metadata": {
        "id": "G8i5wnVHrQdK",
        "colab": {
          "base_uri": "https://localhost:8080/"
        },
        "outputId": "0ca8946f-65b4-4629-aba6-5df657d07c03"
      },
      "source": [
        "# Complejo con valor 0 + 5j\n",
        "5j"
      ],
      "execution_count": null,
      "outputs": [
        {
          "output_type": "execute_result",
          "data": {
            "text/plain": [
              "5j"
            ]
          },
          "metadata": {},
          "execution_count": 39
        }
      ]
    },
    {
      "cell_type": "markdown",
      "metadata": {
        "id": "ox5azEYmrujE"
      },
      "source": [
        "Las demás reglas de notación para números flotantes aplican con cada componente del número complejo."
      ]
    },
    {
      "cell_type": "code",
      "metadata": {
        "id": "iQsJkX2lr0g7",
        "colab": {
          "base_uri": "https://localhost:8080/"
        },
        "outputId": "ed4005c2-b936-4d70-fcb4-3f87c7326def"
      },
      "source": [
        "3_000_2.5e52j"
      ],
      "execution_count": null,
      "outputs": [
        {
          "output_type": "execute_result",
          "data": {
            "text/plain": [
              "3.00025e+56j"
            ]
          },
          "metadata": {},
          "execution_count": 41
        }
      ]
    },
    {
      "cell_type": "markdown",
      "metadata": {
        "id": "xQ0rKIKTrXcg"
      },
      "source": [
        "Al evaluar su tipo, se considera este tipo de expresiones con tipo **`complex`**:"
      ]
    },
    {
      "cell_type": "code",
      "metadata": {
        "id": "EIKsoUV0raZ9",
        "colab": {
          "base_uri": "https://localhost:8080/"
        },
        "outputId": "da1e6637-3bbe-4c26-c25b-9134e711586e"
      },
      "source": [
        "type(5j)"
      ],
      "execution_count": null,
      "outputs": [
        {
          "output_type": "execute_result",
          "data": {
            "text/plain": [
              "complex"
            ]
          },
          "metadata": {
            "tags": []
          },
          "execution_count": 25
        }
      ]
    },
    {
      "cell_type": "markdown",
      "metadata": {
        "id": "nh_VAMv5rigL"
      },
      "source": [
        "Como veremos más adelante con las operaciones matemáticas, _Python_ permite la operación de números complejos con sus detalles matemáticos correspondientes."
      ]
    },
    {
      "cell_type": "markdown",
      "metadata": {
        "id": "hkZq2Rq9GXtN"
      },
      "source": [
        "## **2. Operadores**\n",
        "---\n",
        "Tras discutir la similitud de la escritura de valores numéricos con una calculadora científica es lógico pensar que se puede realizar este tipo de operaciones en un programa de _Python_. Esto es posible con el concepto de **operadores**, otra unidad gramatical del lenguaje que relaciona valores con el objetivo de obtener un resultado apropiado. En esta sección discutiremos los operadores básicos usados en los valores numéricos."
      ]
    },
    {
      "cell_type": "markdown",
      "metadata": {
        "id": "v2voXl3yHSqZ"
      },
      "source": [
        "### **2.1. Operadores numéricos**\n",
        "---\n",
        "\n",
        "La especificación de _Python_ define una serie de operadores matemáticos básicos que pueden ser usados con sus tipos de datos numéricos. El más básico de ellos es el de **negación numérica**.\n",
        "\n",
        "  <img src = \"https://drive.google.com/uc?export=view&id=1U_Cbp5Xg5-wdtV9wM7UBjMMY7nFt6lB7\" alt = \"Base binaria\" width = \"30%\">  </img>\n",
        "\n",
        "Este indica al intérprete que el valor que se encuentre a continuación deberá ser negado, o multiplicado por $-1$.\n",
        "\n",
        "\n",
        "\n",
        "\n",
        "\n"
      ]
    },
    {
      "cell_type": "code",
      "metadata": {
        "id": "hnmLDi8eHsr6",
        "colab": {
          "base_uri": "https://localhost:8080/"
        },
        "outputId": "a63eb65f-1e3a-45c4-da63-0422ac4f36ee"
      },
      "source": [
        "-5000"
      ],
      "execution_count": null,
      "outputs": [
        {
          "output_type": "execute_result",
          "data": {
            "text/plain": [
              "-5000"
            ]
          },
          "metadata": {
            "tags": []
          },
          "execution_count": 57
        }
      ]
    },
    {
      "cell_type": "markdown",
      "metadata": {
        "id": "WFEIudflHuxy"
      },
      "source": [
        "Como se mencionó antes, este valor no es un literal numérico, sino que tiene la siguiente estructura:\n",
        "\n",
        "```\n",
        "OPERADOR VALOR\n",
        "```\n",
        "\n",
        "Para el resto de los operadores, se considera una estructura que involucra dos valores literales $A$ y $B$:\n",
        "\n",
        "```\n",
        "VALOR_A OPERADOR VALOR_B\n",
        "```\n",
        "\n",
        "Por ejemplo, para realizar una suma y una resta se utilizan los símbolos **`+`** y **`-`**, que son interpretados como operadores válidos de _Python_.\n",
        "\n",
        "<center>\n",
        "  <img src = \"https://drive.google.com/uc?export=view&id=1dXa5hG57rVf_yz9zOwtyP22AAafWOXoJ\" alt = \"Adición y substracción\" width = \"40%\">  </img>\n",
        "  </center>"
      ]
    },
    {
      "cell_type": "code",
      "metadata": {
        "id": "V6CDfR0YIU-7",
        "colab": {
          "base_uri": "https://localhost:8080/"
        },
        "outputId": "011dde9c-01bb-43ea-db13-988c6e8504ce"
      },
      "source": [
        "# Adición\n",
        "100 + 20"
      ],
      "execution_count": null,
      "outputs": [
        {
          "output_type": "execute_result",
          "data": {
            "text/plain": [
              "120"
            ]
          },
          "metadata": {
            "tags": []
          },
          "execution_count": 58
        }
      ]
    },
    {
      "cell_type": "markdown",
      "metadata": {
        "id": "DTBsblVYIZ5n"
      },
      "source": [
        "Los espacios entre los operandos y los operadores son ignorados por el intérprete."
      ]
    },
    {
      "cell_type": "code",
      "metadata": {
        "id": "FvCIOr2ZIXaD",
        "colab": {
          "base_uri": "https://localhost:8080/"
        },
        "outputId": "73248538-fb4d-4365-e5cd-791098968f69"
      },
      "source": [
        "# Substracción.\n",
        "# Puede haber cualquier cantidad de espacios\n",
        "# entre los operandos y operadores.\n",
        "\n",
        "100-          20"
      ],
      "execution_count": null,
      "outputs": [
        {
          "output_type": "execute_result",
          "data": {
            "text/plain": [
              "80"
            ]
          },
          "metadata": {
            "tags": []
          },
          "execution_count": 59
        }
      ]
    },
    {
      "cell_type": "markdown",
      "source": [
        "Sin embargo, se recomienda el manejar $1$ espacio entre cada elemento de nuestras operaciones."
      ],
      "metadata": {
        "id": "Hhg8tP1OiJZ1"
      }
    },
    {
      "cell_type": "code",
      "source": [
        "# Sintaxis recomendada por la guía de estilo de Python.\n",
        "100 - 20"
      ],
      "metadata": {
        "id": "zUblEYkBnTqz"
      },
      "execution_count": null,
      "outputs": []
    },
    {
      "cell_type": "markdown",
      "source": [
        "Por su parte, podemos realizar las operaciones de **multiplicación**, **división** y **exponenciación** con los operadores **`*`**, **`/`** y **`**`** respectivamente.\n",
        "\n",
        "<center>\n",
        "  <img src = \"https://drive.google.com/uc?export=view&id=1XMmEYfLk-7291q3xphvxAInb_RSsl34R\" alt = \"Multiplicación y división\" width = \"60%\">  </img>\n",
        "  </center>\n",
        "\n"
      ],
      "metadata": {
        "id": "DxxT8lgLewYY"
      }
    },
    {
      "cell_type": "code",
      "source": [
        "# Multiplicación\n",
        "150 * 1005"
      ],
      "metadata": {
        "colab": {
          "base_uri": "https://localhost:8080/"
        },
        "id": "g0PSPxu0fTHw",
        "outputId": "c318b6eb-62fe-4e18-b1cb-2502ffca4763"
      },
      "execution_count": null,
      "outputs": [
        {
          "output_type": "execute_result",
          "data": {
            "text/plain": [
              "150750"
            ]
          },
          "metadata": {},
          "execution_count": 78
        }
      ]
    },
    {
      "cell_type": "code",
      "source": [
        "# División\n",
        "50 / 4"
      ],
      "metadata": {
        "colab": {
          "base_uri": "https://localhost:8080/"
        },
        "outputId": "ac8aa880-0d06-4983-cd30-c542b8efd84a",
        "id": "CmmTVSzhnZap"
      },
      "execution_count": null,
      "outputs": [
        {
          "output_type": "execute_result",
          "data": {
            "text/plain": [
              "12.5"
            ]
          },
          "metadata": {},
          "execution_count": 79
        }
      ]
    },
    {
      "cell_type": "code",
      "source": [
        "# Exponenciación\n",
        "2 ** 16"
      ],
      "metadata": {
        "colab": {
          "base_uri": "https://localhost:8080/"
        },
        "outputId": "855e99b4-9283-4ab8-edf1-ace7bef3ddab",
        "id": "-Vz67XCPqIt9"
      },
      "execution_count": null,
      "outputs": [
        {
          "output_type": "execute_result",
          "data": {
            "text/plain": [
              "65536"
            ]
          },
          "metadata": {},
          "execution_count": 80
        }
      ]
    },
    {
      "cell_type": "markdown",
      "metadata": {
        "id": "wGDYSATsIirG"
      },
      "source": [
        "> **¿Qué sucede si intentamos operar números de tipos distintos?**\n",
        "\n",
        "\n",
        "En el ejemplo de división anterior realizamos una operación entre dos **números** enteros y obtuvimos como resultado un número **decimal**. Este tipo de operación en particular siempre devuelve un valor decimal automáticamente, sin que tengamos que preocuparnos por declarar un tipo concreto.\n",
        "\n",
        "\n",
        "_Python_ define las **conversiones** necesarias entre tipos de datos para cada tipo de operación, siempre y cuando la operación tenga sentido. Por ejemplo, si sumamos un **entero** y un **decimal**, se obtiene como resultado el tipo **más general**.\n",
        "\n",
        "En este caso, se podría decir que el tipo más general es el **decimal**, porque los enteros pueden considerarse valores decimales con $0$ en su parte decimal.\n",
        "\n",
        "\n",
        "\n"
      ]
    },
    {
      "cell_type": "code",
      "metadata": {
        "id": "pg9YJqQqJOGy",
        "colab": {
          "base_uri": "https://localhost:8080/"
        },
        "outputId": "9300bc03-ce7d-4011-aed9-bb0f6c072a49"
      },
      "source": [
        "var_i = 20\n",
        "print(var_i)\n",
        "type(var_i)"
      ],
      "execution_count": null,
      "outputs": [
        {
          "output_type": "stream",
          "name": "stdout",
          "text": [
            "20\n"
          ]
        },
        {
          "output_type": "execute_result",
          "data": {
            "text/plain": [
              "int"
            ]
          },
          "metadata": {},
          "execution_count": 88
        }
      ]
    },
    {
      "cell_type": "code",
      "metadata": {
        "id": "MF8On9HSJYWk",
        "colab": {
          "base_uri": "https://localhost:8080/"
        },
        "outputId": "dfa791a3-0368-437f-fcdf-c43a31370905"
      },
      "source": [
        "var_f = 10.5\n",
        "print(var_f)\n",
        "type(var_f)"
      ],
      "execution_count": null,
      "outputs": [
        {
          "output_type": "stream",
          "name": "stdout",
          "text": [
            "10.5\n"
          ]
        },
        {
          "output_type": "execute_result",
          "data": {
            "text/plain": [
              "float"
            ]
          },
          "metadata": {},
          "execution_count": 89
        }
      ]
    },
    {
      "cell_type": "code",
      "metadata": {
        "id": "DXVPqQaHJdX6",
        "colab": {
          "base_uri": "https://localhost:8080/"
        },
        "outputId": "f7e65a3a-9d2f-479d-8b9a-1cfa47d43a73"
      },
      "source": [
        "# Sumamos un entero y un decimal\n",
        "print(var_i + var_f)\n",
        "type(var_i + var_f)  #  Obtenemos un decimal como resultado."
      ],
      "execution_count": null,
      "outputs": [
        {
          "output_type": "stream",
          "name": "stdout",
          "text": [
            "30.5\n"
          ]
        },
        {
          "output_type": "execute_result",
          "data": {
            "text/plain": [
              "float"
            ]
          },
          "metadata": {},
          "execution_count": 91
        }
      ]
    },
    {
      "cell_type": "markdown",
      "metadata": {
        "id": "1EiBTNP6JoLb"
      },
      "source": [
        "Si sumamos dos valores del mismo tipo de dato, el resultado será del mismo tipo."
      ]
    },
    {
      "cell_type": "code",
      "metadata": {
        "id": "8h3hRLjDJvIK",
        "colab": {
          "base_uri": "https://localhost:8080/"
        },
        "outputId": "3fb157f8-f884-4ddf-e5ff-21a91c9dd08d"
      },
      "source": [
        "var_i + var_i"
      ],
      "execution_count": null,
      "outputs": [
        {
          "output_type": "execute_result",
          "data": {
            "text/plain": [
              "40"
            ]
          },
          "metadata": {},
          "execution_count": 92
        }
      ]
    },
    {
      "cell_type": "code",
      "metadata": {
        "id": "c1ehuq1kJwj4",
        "colab": {
          "base_uri": "https://localhost:8080/"
        },
        "outputId": "c2d5c8f6-f4db-4de7-cc90-8077fc82415a"
      },
      "source": [
        "var_f + var_f"
      ],
      "execution_count": null,
      "outputs": [
        {
          "output_type": "execute_result",
          "data": {
            "text/plain": [
              "21.0"
            ]
          },
          "metadata": {},
          "execution_count": 93
        }
      ]
    },
    {
      "cell_type": "markdown",
      "metadata": {
        "id": "hTDsdVgxKSMp"
      },
      "source": [
        "Finalmente, si se opera un entero o un decimal con un complejo, estos se interpretan como la parte real de un complejo con $0$ en su parte imaginaria. Veamos el resultado:"
      ]
    },
    {
      "cell_type": "code",
      "metadata": {
        "id": "1MC-iRRTKdwA",
        "colab": {
          "base_uri": "https://localhost:8080/"
        },
        "outputId": "81bc59aa-d5c2-469a-e535-2500ca85bfba"
      },
      "source": [
        "# Declaramos un número complejo.\n",
        "var_i = 15j\n",
        "\n",
        "print(var_i + var_c) # Sumamos un entero al complejo.\n",
        "type(var_i + var_c)  # El resultado es de tipo 'complex'"
      ],
      "execution_count": null,
      "outputs": [
        {
          "output_type": "stream",
          "name": "stdout",
          "text": [
            "(23+25.5j)\n"
          ]
        },
        {
          "output_type": "execute_result",
          "data": {
            "text/plain": [
              "complex"
            ]
          },
          "metadata": {},
          "execution_count": 95
        }
      ]
    },
    {
      "cell_type": "markdown",
      "metadata": {
        "id": "yZ2DpbTMKoxt"
      },
      "source": [
        "Esta regla se aplica al resto de operadores, siempre y cuando su operación tenga sentido para el tipo de dato. A continuación, se presenta una tabla con los **operadores matemáticos** disponibles en _Python_:\n",
        "\n",
        "\n",
        "| **Símbolos del operador** | **Operación representada** | **Escritura** | **Notación matemática** |\n",
        "| --- | --- | --- | --- |\n",
        "| **`-`** (antes de un valor) | Negación numérica | **`-a`** | $-a$ |\n",
        "| **`-`** (entre dos valores) | Substracción | **`a - b`** | $a - b$ |\n",
        "| **`+`**  | Adición | **`a + b`** |$a + b$ |\n",
        "| **`*`**  | Multiplicación | **`a * b`** | $a \\times b$ |\n",
        "| **`/`**  | División | **`a / b`** | $a \\div b$ |\n",
        "| **`%`**  | [Módulo o residuo](https://es.wikipedia.org/wiki/Resto) | **`a % b`** | $a \\mod b$ |\n",
        "| **` ** `**  | Exponenciación | **`a ** b`** | $a^b$ |\n",
        "| **`//`**  |  División entera o división [piso](https://es.wikipedia.org/wiki/Funciones_de_parte_entera#Función_piso/suelo/parte_entera)  | **`a // b`** | $\\lfloor a \\div b \\rfloor$ |\n",
        "\n",
        "\n",
        "La operación de **módulo** (**`%`**) es el resto o residuo de una división entera, obtenido en un proceso tradicional de división a mano. Por su parte, el operador de **división piso** produce el entero inmediatamente menor de la división. Esto corresponde al **cociente** de la división entera únicamente para números positivos.\n",
        "\n",
        "Por ejemplo, si quisiéramos saber a cuánto equivalen $951$ minutos en el formato de horas y minutos podemos realizar la división $951 \\div 60$, de la que obtendríamos como **cociente** el valor $15$ y como **residuo o resto** el valor $51$, para un total de $15$ horas con $51$ minutos.\n",
        "\n",
        "<br>\n",
        "<center>\n",
        "<img src = \"https://drive.google.com/uc?export=view&id=16HUVO0URVz3DvQFpjfm4uc67XrFM1sJ9\" alt = \"Ejemplo de división\" width = \"50%\">  </img> </center>\n",
        "\n",
        "Podemos obtener estos valores con las operaciones de módulo y división piso:\n",
        "\n"
      ]
    },
    {
      "cell_type": "code",
      "metadata": {
        "colab": {
          "base_uri": "https://localhost:8080/"
        },
        "id": "6aOGT4qigHwI",
        "outputId": "633d9ade-1fa5-42b7-aa16-d0ace81d7ef3"
      },
      "source": [
        "# Operador division normal\n",
        "951 / 60"
      ],
      "execution_count": null,
      "outputs": [
        {
          "output_type": "execute_result",
          "data": {
            "text/plain": [
              "15.85"
            ]
          },
          "metadata": {},
          "execution_count": 96
        }
      ]
    },
    {
      "cell_type": "code",
      "metadata": {
        "id": "jKwGKxMqiV7k",
        "colab": {
          "base_uri": "https://localhost:8080/"
        },
        "outputId": "c79801d3-c87f-4ea9-91e8-a3376f6b273e"
      },
      "source": [
        "# Operador división entera\n",
        "951 // 60"
      ],
      "execution_count": null,
      "outputs": [
        {
          "output_type": "execute_result",
          "data": {
            "text/plain": [
              "15"
            ]
          },
          "metadata": {},
          "execution_count": 97
        }
      ]
    },
    {
      "cell_type": "code",
      "metadata": {
        "id": "1q0Ga8rGPSk-",
        "colab": {
          "base_uri": "https://localhost:8080/"
        },
        "outputId": "e4ebb2b7-2495-4c95-e65b-7489928bc063"
      },
      "source": [
        "# Operador módulo o residuo\n",
        "951 % 60"
      ],
      "execution_count": null,
      "outputs": [
        {
          "output_type": "execute_result",
          "data": {
            "text/plain": [
              "51"
            ]
          },
          "metadata": {
            "tags": []
          },
          "execution_count": 73
        }
      ]
    },
    {
      "cell_type": "markdown",
      "metadata": {
        "id": "8ux-VDCNjqEM"
      },
      "source": [
        "El valor obtenido al realizar **división piso** con números negativos es distinto al cociente de la división. Por ejemplo:\n",
        "\n",
        "\n",
        "\n"
      ]
    },
    {
      "cell_type": "code",
      "metadata": {
        "colab": {
          "base_uri": "https://localhost:8080/"
        },
        "id": "NNZnlXq98acG",
        "outputId": "e9be74e6-0f75-4528-9396-52d9f728a1e9"
      },
      "source": [
        "951 // 60"
      ],
      "execution_count": null,
      "outputs": [
        {
          "output_type": "execute_result",
          "data": {
            "text/plain": [
              "15"
            ]
          },
          "metadata": {},
          "execution_count": 98
        }
      ]
    },
    {
      "cell_type": "code",
      "metadata": {
        "id": "bUOR38HBjtkc",
        "colab": {
          "base_uri": "https://localhost:8080/"
        },
        "outputId": "a3637737-7bb8-4999-bccf-dc9f1c055394"
      },
      "source": [
        "- 951 // 60"
      ],
      "execution_count": null,
      "outputs": [
        {
          "output_type": "execute_result",
          "data": {
            "text/plain": [
              "-16"
            ]
          },
          "metadata": {},
          "execution_count": 99
        }
      ]
    },
    {
      "cell_type": "markdown",
      "metadata": {
        "id": "oTvt3-ChHhNT"
      },
      "source": [
        "\n",
        "Este detalle es importante pues la **división piso** es una operación más común en computación. Ninguno de estos dos operadores está definido para números complejos. Ejecutar una operación dará como resultado un **error de tipo**."
      ]
    },
    {
      "cell_type": "code",
      "metadata": {
        "id": "pp2ToIWWktn2",
        "colab": {
          "base_uri": "https://localhost:8080/",
          "height": 166
        },
        "outputId": "92931d75-40ad-4925-c945-66f244f60434"
      },
      "source": [
        "15j // 10j"
      ],
      "execution_count": null,
      "outputs": [
        {
          "output_type": "error",
          "ename": "TypeError",
          "evalue": "ignored",
          "traceback": [
            "\u001b[0;31m---------------------------------------------------------------------------\u001b[0m",
            "\u001b[0;31mTypeError\u001b[0m                                 Traceback (most recent call last)",
            "\u001b[0;32m<ipython-input-102-8bd7507d6115>\u001b[0m in \u001b[0;36m<module>\u001b[0;34m()\u001b[0m\n\u001b[0;32m----> 1\u001b[0;31m \u001b[0;36m15j\u001b[0m \u001b[0;34m//\u001b[0m \u001b[0;36m10j\u001b[0m\u001b[0;34m\u001b[0m\u001b[0;34m\u001b[0m\u001b[0m\n\u001b[0m",
            "\u001b[0;31mTypeError\u001b[0m: can't take floor of complex number."
          ]
        }
      ]
    },
    {
      "cell_type": "markdown",
      "metadata": {
        "id": "oAIHGZD0V6ko"
      },
      "source": [
        "Cuando se manejan variables es muy común realizar operaciones sobre algo y reasignarlo, como vimos en el primer material de cadenas de texto."
      ]
    },
    {
      "cell_type": "code",
      "metadata": {
        "id": "XTKZs3fVWJHh",
        "colab": {
          "base_uri": "https://localhost:8080/"
        },
        "outputId": "71a09585-f9c8-493d-c8b8-f6e82a399d8b"
      },
      "source": [
        "# Realizamos y reasignamos múltiples\n",
        "# operaciones en una sola variable.\n",
        "\n",
        "a = 500\n",
        "a = a + 20\n",
        "a = a * 2\n",
        "\n",
        "a"
      ],
      "execution_count": null,
      "outputs": [
        {
          "output_type": "execute_result",
          "data": {
            "text/plain": [
              "1040"
            ]
          },
          "metadata": {},
          "execution_count": 106
        }
      ]
    },
    {
      "cell_type": "markdown",
      "metadata": {
        "id": "kgw9rGLqWQbt"
      },
      "source": [
        "_Python_ permite resumir esta tarea con los distintos operadores de asignación asociados a cada operador. Para esto, usamos una secuencia compuesta por el operador a utilizar (por ejemplo, una suma con **`+`**) seguido por el carácter de asignación **`=`**, dando como resultado el operador de asignación **`+=`**. Entonces, una operación como esta:"
      ]
    },
    {
      "cell_type": "code",
      "metadata": {
        "id": "sCg1I8BkXJJt",
        "colab": {
          "base_uri": "https://localhost:8080/"
        },
        "outputId": "570c833b-860f-4ba2-f03e-972316454376"
      },
      "source": [
        "a = 0\n",
        "a = a + 1\n",
        "\n",
        "a"
      ],
      "execution_count": null,
      "outputs": [
        {
          "output_type": "execute_result",
          "data": {
            "text/plain": [
              "1"
            ]
          },
          "metadata": {},
          "execution_count": 107
        }
      ]
    },
    {
      "cell_type": "markdown",
      "metadata": {
        "id": "fPXxkmzaXMYv"
      },
      "source": [
        "Se puede resumir de esta manera:"
      ]
    },
    {
      "cell_type": "code",
      "metadata": {
        "id": "HhfMiaXmXO6J",
        "colab": {
          "base_uri": "https://localhost:8080/"
        },
        "outputId": "439673f0-f04c-44fe-8a01-4e3f9d4d3795"
      },
      "source": [
        "a = 0\n",
        "a += 1\n",
        "\n",
        "a"
      ],
      "execution_count": null,
      "outputs": [
        {
          "output_type": "execute_result",
          "data": {
            "text/plain": [
              "1"
            ]
          },
          "metadata": {
            "tags": []
          },
          "execution_count": 15
        }
      ]
    },
    {
      "cell_type": "markdown",
      "metadata": {
        "id": "yKCvLsz8XXiC"
      },
      "source": [
        "y de igual manera con el resto de los operadores discutidos:"
      ]
    },
    {
      "cell_type": "code",
      "metadata": {
        "id": "_B3kZemzXbKw",
        "colab": {
          "base_uri": "https://localhost:8080/"
        },
        "outputId": "20bbf7c7-4ddf-4f0e-9b6c-2f60ba78f065"
      },
      "source": [
        "a = 0\n",
        "\n",
        "a += 10      # Adición y asignación.\n",
        "a -= 5       # Substracción y asignación.\n",
        "a *= 2       # Multiplicación y asignación.\n",
        "a /= 5       # División y asignación.\n",
        "a **= 3      # Exponenciación y asignación.\n",
        "a //= 3      # División entera/piso y asignación.\n",
        "a %= 3       # Módulo y asignación.\n",
        "\n",
        "a"
      ],
      "execution_count": null,
      "outputs": [
        {
          "output_type": "execute_result",
          "data": {
            "text/plain": [
              "2.0"
            ]
          },
          "metadata": {},
          "execution_count": 111
        }
      ]
    },
    {
      "cell_type": "markdown",
      "metadata": {
        "id": "FH26asGmsQ5U"
      },
      "source": [
        "### **2.2. Operadores en cadenas de texto**\n",
        "---\n",
        "\n",
        "De acuerdo con el contexto, _Python_ determina la acción apropiada para cada tipo de dato cuando se utiliza un operador determinado. En el caso de las cadenas de texto, operaciones como la **suma** o la **multiplicación** no están definidas, por lo que operadores como **`+`** y **`*`** quedan disponibles para darles un significado y una operación distinta.\n",
        "\n",
        "En el caso del operador **`+`** es posible realizar la operación de **concatenación**. Esta operación genera una cadena con el contenido de sus operandos uno detrás del otro. Por ejemplo, intentemos realizar una operación entre las cadenas **`'5'`** y **`'10'`**.\n",
        "\n",
        "\n",
        "\n",
        "\n",
        "\n"
      ]
    },
    {
      "cell_type": "code",
      "metadata": {
        "id": "alF8QX5Is5ar",
        "colab": {
          "base_uri": "https://localhost:8080/",
          "height": 36
        },
        "outputId": "f706ad55-f8e9-456e-8b3d-23c33a853a9e"
      },
      "source": [
        "'5' + '10'"
      ],
      "execution_count": null,
      "outputs": [
        {
          "output_type": "execute_result",
          "data": {
            "application/vnd.google.colaboratory.intrinsic+json": {
              "type": "string"
            },
            "text/plain": [
              "'510'"
            ]
          },
          "metadata": {
            "tags": []
          },
          "execution_count": 79
        }
      ]
    },
    {
      "cell_type": "markdown",
      "metadata": {
        "id": "olrEfq6wtkkF"
      },
      "source": [
        "En este caso, es necesario que los dos operandos sean valores de tipo texto. Si intentamos sumar un valor de otro tipo, como un número entero, con una cadena, se producirá un error de tipo."
      ]
    },
    {
      "cell_type": "code",
      "metadata": {
        "id": "UD0dtyewthh8",
        "colab": {
          "base_uri": "https://localhost:8080/",
          "height": 172
        },
        "outputId": "047a26e1-4832-4486-bd64-7922ad7af842"
      },
      "source": [
        "50 + '5'"
      ],
      "execution_count": null,
      "outputs": [
        {
          "output_type": "error",
          "ename": "TypeError",
          "evalue": "ignored",
          "traceback": [
            "\u001b[0;31m---------------------------------------------------------------------------\u001b[0m",
            "\u001b[0;31mTypeError\u001b[0m                                 Traceback (most recent call last)",
            "\u001b[0;32m<ipython-input-80-2325ac1feebf>\u001b[0m in \u001b[0;36m<module>\u001b[0;34m()\u001b[0m\n\u001b[0;32m----> 1\u001b[0;31m \u001b[0;36m50\u001b[0m \u001b[0;34m+\u001b[0m \u001b[0;34m'5'\u001b[0m\u001b[0;34m\u001b[0m\u001b[0;34m\u001b[0m\u001b[0m\n\u001b[0m",
            "\u001b[0;31mTypeError\u001b[0m: unsupported operand type(s) for +: 'int' and 'str'"
          ]
        }
      ]
    },
    {
      "cell_type": "markdown",
      "source": [
        "> **Nota:** en las próximas secciones discutiremos el proceso de **conversión de tipos** para solventar este tipo de problemas."
      ],
      "metadata": {
        "id": "ViQq3tsuhn8D"
      }
    },
    {
      "cell_type": "markdown",
      "metadata": {
        "id": "QGVYj3xNtN8B"
      },
      "source": [
        "Por su parte, el operador **`*`** permite realizar la operación de **repetición**. Para esta, el segundo operando debe ser un **número entero** con la cantidad de veces por las que se desea concatenar una cadena por sí misma."
      ]
    },
    {
      "cell_type": "code",
      "metadata": {
        "id": "65XMWKZAtbe_",
        "colab": {
          "base_uri": "https://localhost:8080/",
          "height": 36
        },
        "outputId": "e47f6d42-5536-417b-8048-c8a13730f27b"
      },
      "source": [
        "'Ora' * 10"
      ],
      "execution_count": null,
      "outputs": [
        {
          "output_type": "execute_result",
          "data": {
            "application/vnd.google.colaboratory.intrinsic+json": {
              "type": "string"
            },
            "text/plain": [
              "'OraOraOraOraOraOraOraOraOraOra'"
            ]
          },
          "metadata": {
            "tags": []
          },
          "execution_count": 83
        }
      ]
    },
    {
      "cell_type": "markdown",
      "metadata": {
        "id": "bw-o_TZ33EDh"
      },
      "source": [
        "También existen operadores creados a partir de palabras reservadas, como el operador **`in`** que, en el caso de las cadenas de texto, permite determinar si una subcadena se encuentra dentro de otra:"
      ]
    },
    {
      "cell_type": "code",
      "metadata": {
        "id": "xM2xLHgG32cS",
        "colab": {
          "base_uri": "https://localhost:8080/"
        },
        "outputId": "ac751bec-1050-463d-990b-8518945ae744"
      },
      "source": [
        "'ora' in 'Aspiradora'"
      ],
      "execution_count": null,
      "outputs": [
        {
          "output_type": "execute_result",
          "data": {
            "text/plain": [
              "True"
            ]
          },
          "metadata": {
            "tags": []
          },
          "execution_count": 84
        }
      ]
    },
    {
      "cell_type": "markdown",
      "source": [
        "> **Nota:** este operador retorna un tipo de dato especial que discutiremos en la **Unidad 2 - Estructuras de control condicional**."
      ],
      "metadata": {
        "id": "KKffcUXP1B5Y"
      }
    },
    {
      "cell_type": "markdown",
      "metadata": {
        "id": "wl2swlMI4kp-"
      },
      "source": [
        "Otro operador sobre cadenas de texto, menos usado en la actualidad, es el operador **`%`** de **interpolación**, que permite realizar un [formato del texto](https://docs.python.org/3/library/stdtypes.html#printf-style-bytes-formatting), inspirado en el lenguaje de programación [C](https://es.wikipedia.org/wiki/C_(lenguaje_de_programación). En la primera cadena se define una sintaxis especial de secuencias para dar formato a el valor recibido como entrada en el segundo valor. Para esto, se usa el mismo carácter **`%`** dentro de la cadena, seguido del tipo de dato esperado. Por ejemplo, si esperamos una cadena de texto usamos la secuencia **`%s`** dentro de nuestra cadena y esta será reemplazada por el valor ingresado. Veamos un ejemplo:"
      ]
    },
    {
      "cell_type": "code",
      "metadata": {
        "id": "SyD_PIPy56Pc",
        "colab": {
          "base_uri": "https://localhost:8080/",
          "height": 35
        },
        "outputId": "f007b3fe-0e47-45aa-b83f-bc59f423473c"
      },
      "source": [
        "name = \"Mundo\"\n",
        "\n",
        "\"¡Hola %s!\" % name"
      ],
      "execution_count": null,
      "outputs": [
        {
          "output_type": "execute_result",
          "data": {
            "text/plain": [
              "'¡Hola Mundo!'"
            ],
            "application/vnd.google.colaboratory.intrinsic+json": {
              "type": "string"
            }
          },
          "metadata": {},
          "execution_count": 4
        }
      ]
    },
    {
      "cell_type": "markdown",
      "source": [
        "Este operador es una de las razones de la creación de las **cadenas literales con formato** o **f-strings**, que realizan un proceso similar, al tiempo que emulan el concepto de plantilla, con fragmentos autocontenidos de texto."
      ],
      "metadata": {
        "id": "ypLCJiUS1hJ6"
      }
    },
    {
      "cell_type": "code",
      "source": [
        "# RECOMENDADO: Equivalente con f-strings\n",
        "name = \"Mundo\"\n",
        "\n",
        "f\"¡Hola {name}!\""
      ],
      "metadata": {
        "colab": {
          "base_uri": "https://localhost:8080/",
          "height": 35
        },
        "id": "NhA9fW0D11GZ",
        "outputId": "40070367-45fa-40d6-d4e1-4a4bbc46982a"
      },
      "execution_count": null,
      "outputs": [
        {
          "output_type": "execute_result",
          "data": {
            "text/plain": [
              "'¡Hola Mundo!'"
            ],
            "application/vnd.google.colaboratory.intrinsic+json": {
              "type": "string"
            }
          },
          "metadata": {},
          "execution_count": 5
        }
      ]
    },
    {
      "cell_type": "markdown",
      "metadata": {
        "id": "zI32h_HVdP8y"
      },
      "source": [
        "## **3. Expresiones**\n",
        "---\n",
        "\n",
        "En matemáticas, es fácil encontrar operaciones compuestas como la siguiente:\n",
        "\n",
        "$$((50 + 7^2) -\\frac{200}{12.5}) \\times 0.5 $$\n",
        "\n",
        "Hasta el momento somos capaces de realizar las operaciones intermedias de suma, resta, multiplicación, división y potencia con _Python_. Por ejemplo, podríamos hacerlo por pasos, guardando el estado de cada paso con **variables**.\n",
        "\n",
        "Primero, obtenemos la potencia $7^2$."
      ]
    },
    {
      "cell_type": "code",
      "metadata": {
        "id": "vr9JKqZPeXcG",
        "colab": {
          "base_uri": "https://localhost:8080/"
        },
        "outputId": "e8eb1fc5-8945-464f-a0b0-d19da1ab04bf"
      },
      "source": [
        "n = 7 ** 2\n",
        "\n",
        "n"
      ],
      "execution_count": null,
      "outputs": [
        {
          "output_type": "execute_result",
          "data": {
            "text/plain": [
              "49"
            ]
          },
          "metadata": {},
          "execution_count": 112
        }
      ]
    },
    {
      "cell_type": "markdown",
      "metadata": {
        "id": "ksys9SbnebWa"
      },
      "source": [
        "Después le sumamos $50$. Podemos reutilizar la variable **`n`**, que pasaría a tener el valor $50 + 7^2$."
      ]
    },
    {
      "cell_type": "code",
      "metadata": {
        "id": "8HKcz_1xejE4",
        "colab": {
          "base_uri": "https://localhost:8080/"
        },
        "outputId": "133b1b2f-8271-4551-c230-ef52980b5642"
      },
      "source": [
        "n = n + 50\n",
        "\n",
        "n"
      ],
      "execution_count": null,
      "outputs": [
        {
          "output_type": "execute_result",
          "data": {
            "text/plain": [
              "99"
            ]
          },
          "metadata": {
            "tags": []
          },
          "execution_count": 107
        }
      ]
    },
    {
      "cell_type": "markdown",
      "metadata": {
        "id": "LRM-tMLkepmQ"
      },
      "source": [
        "En otra variable, obtenemos la división $200 \\div 12.5$:"
      ]
    },
    {
      "cell_type": "code",
      "metadata": {
        "id": "Ceq45Zxpet6_",
        "colab": {
          "base_uri": "https://localhost:8080/"
        },
        "outputId": "f341ee18-502f-4b5e-d36b-8f7ef8b9a53e"
      },
      "source": [
        "m = 200 / 12.5\n",
        "\n",
        "m"
      ],
      "execution_count": null,
      "outputs": [
        {
          "output_type": "execute_result",
          "data": {
            "text/plain": [
              "16.0"
            ]
          },
          "metadata": {},
          "execution_count": 113
        }
      ]
    },
    {
      "cell_type": "markdown",
      "metadata": {
        "id": "wMRF4GOXexW8"
      },
      "source": [
        "Ahora restamos las dos variables, para obtener $(50 + 7^2) -\\frac{200}{12.5}$."
      ]
    },
    {
      "cell_type": "code",
      "metadata": {
        "id": "My-Y81p0fAGn",
        "colab": {
          "base_uri": "https://localhost:8080/"
        },
        "outputId": "599696eb-e25b-42e5-90a1-f540c2322319"
      },
      "source": [
        "p = n - m\n",
        "p"
      ],
      "execution_count": null,
      "outputs": [
        {
          "output_type": "execute_result",
          "data": {
            "text/plain": [
              "33.0"
            ]
          },
          "metadata": {},
          "execution_count": 114
        }
      ]
    },
    {
      "cell_type": "markdown",
      "metadata": {
        "id": "e97Xk6oYqVdp"
      },
      "source": [
        "Finalmente, podemos tomar ese resultado y multiplicarlo por $0.5$ para obtener el resultado final."
      ]
    },
    {
      "cell_type": "code",
      "metadata": {
        "id": "hOfRbZttqdyF",
        "colab": {
          "base_uri": "https://localhost:8080/"
        },
        "outputId": "3a198ccf-0115-454c-a9f5-a4cf229cace1"
      },
      "source": [
        "p = p * 0.5\n",
        "p"
      ],
      "execution_count": null,
      "outputs": [
        {
          "output_type": "execute_result",
          "data": {
            "text/plain": [
              "16.5"
            ]
          },
          "metadata": {},
          "execution_count": 115
        }
      ]
    },
    {
      "cell_type": "markdown",
      "metadata": {
        "id": "h49BvKxIrIzn"
      },
      "source": [
        "Lo que hicimos en las celdas anteriores es un proceso bastante largo, que se puede llegar a complicar. Es lógico pensar que un lenguaje como _Python_ permita operaciones de este estilo directamente siguiendo una serie de **reglas**.\n",
        "\n",
        "Las operaciones con operadores presentadas hasta ahora tienen en común que al ser evaluadas dan como resultado un valor. Esta propiedad en común nos permite hablar de **expresiones**, unidades gramaticales compuestas por cualquier combinación de:\n",
        "- Valores literales.\n",
        "- Variables.\n",
        "- Llamado de funciones con valor de retorno.\n",
        "- Operaciones con operadores, que den como resultado un valor válido.\n",
        "\n",
        "Una expresión siempre es evaluada con la idea de obtener un **valor**, por lo que son reemplazables entre sí cuando tienen el mismo valor. Por ejemplo, la función **`print`** recibe una expresión, por lo que cualquiera de estos ejemplos es válido y **equivalente** para el valor recibido por la función:\n",
        "\n"
      ]
    },
    {
      "cell_type": "code",
      "metadata": {
        "id": "IW1LC0SMvxb4",
        "colab": {
          "base_uri": "https://localhost:8080/"
        },
        "outputId": "c3393218-245c-4270-b5a5-b8adc027446e"
      },
      "source": [
        "# Usamos el valor literal 5.\n",
        "print(5)"
      ],
      "execution_count": null,
      "outputs": [
        {
          "output_type": "stream",
          "name": "stdout",
          "text": [
            "5\n"
          ]
        }
      ]
    },
    {
      "cell_type": "code",
      "metadata": {
        "id": "pBCDdwkovy9w",
        "colab": {
          "base_uri": "https://localhost:8080/"
        },
        "outputId": "14fd7824-8790-4130-ea66-5022c3ded376"
      },
      "source": [
        "# Usamos una variable con el valor 5.\n",
        "num = 5\n",
        "\n",
        "print(num)"
      ],
      "execution_count": null,
      "outputs": [
        {
          "output_type": "stream",
          "name": "stdout",
          "text": [
            "5\n"
          ]
        }
      ]
    },
    {
      "cell_type": "code",
      "source": [
        "# Usamos una función que retorna 5.\n",
        "# (len: cantidad de caracteres de la cadena)\n",
        "\n",
        "cadena = \"12345\"\n",
        "\n",
        "print( len(cadena) )"
      ],
      "metadata": {
        "colab": {
          "base_uri": "https://localhost:8080/"
        },
        "id": "IAE3RzIr8twt",
        "outputId": "799da977-8d1a-477e-a7fe-e04150d0f548"
      },
      "execution_count": null,
      "outputs": [
        {
          "output_type": "stream",
          "name": "stdout",
          "text": [
            "5\n"
          ]
        }
      ]
    },
    {
      "cell_type": "code",
      "metadata": {
        "id": "i4lVnwzPv1YD",
        "colab": {
          "base_uri": "https://localhost:8080/"
        },
        "outputId": "31928143-d674-4401-d331-715784dffbf3"
      },
      "source": [
        "# Usamos una operación con varias expresiones.\n",
        "a = len(\"123\")\n",
        "b = 1\n",
        "c = b * 2\n",
        "\n",
        "print(a + c)"
      ],
      "execution_count": null,
      "outputs": [
        {
          "output_type": "stream",
          "name": "stdout",
          "text": [
            "5\n"
          ]
        }
      ]
    },
    {
      "cell_type": "markdown",
      "metadata": {
        "id": "4ktR0H7C0_DD"
      },
      "source": [
        "Gracias a esto, podemos **encadenar** múltiples operaciones en una sola expresión. Esto se debe a que cada parte es a su vez una **expresión válida**."
      ]
    },
    {
      "cell_type": "code",
      "metadata": {
        "id": "e3-JJ9Ce1CBM",
        "colab": {
          "base_uri": "https://localhost:8080/"
        },
        "outputId": "29b64b71-edda-4312-fdc0-2c2b4cb9cb6e"
      },
      "source": [
        "# Operación con múltiples valores\n",
        "\n",
        "5 + 4 - 2 + 9"
      ],
      "execution_count": null,
      "outputs": [
        {
          "output_type": "execute_result",
          "data": {
            "text/plain": [
              "16"
            ]
          },
          "metadata": {},
          "execution_count": 126
        }
      ]
    },
    {
      "cell_type": "markdown",
      "metadata": {
        "id": "O-7S-y-0wUTg"
      },
      "source": [
        " Parece intuitivo, pero hay que tener en cuenta que los operadores están definidos en su mayoría como operaciones entre dos valores. Veamos el siguiente ejemplo:\n"
      ]
    },
    {
      "cell_type": "markdown",
      "metadata": {
        "id": "H8vbtkF9xS1S"
      },
      "source": [
        "> **Pregunta**: ¿cuál cree que será el resultado de esta expresión? ¿es válido realizar esta sentencia? Intente realizar la operación en su mente o en una hoja de papel antes de ejecutar la celda o revisar la respuesta.\n",
        "\n",
        "$$7 - 6 + 5 \\div 4 \\times 3^2$$\n",
        "```python\n",
        "result = 7 - 6 + 5 / 4 * 3 ** 2\n",
        "print(result)\n",
        "```\n",
        "\n",
        "<details>\n",
        "  <summary> <b>Respuesta</b> </summary>\n",
        "\n",
        "  > La expresión **SÍ** es válida y da como resultado el valor $15$. En este caso la operación toma los siguientes pasos:\n",
        "\n",
        "1. $$7 - 6 + 5 \\div 4 \\times 3^2$$\n",
        "2. $$7 - 6 + 5 \\div 4 \\times 9$$\n",
        "3. $$7 - 6 + 1.25 \\times 9$$\n",
        "4. $$7 - 6 + 11.25$$\n",
        "5. $$1 + 11.25$$\n",
        "5. $$12.25$$\n",
        "\n",
        "</details>"
      ]
    },
    {
      "cell_type": "code",
      "metadata": {
        "id": "rajFMiSUw92T",
        "colab": {
          "base_uri": "https://localhost:8080/"
        },
        "outputId": "a8247c6d-6879-48f9-bc96-2737cfe2c317"
      },
      "source": [
        "7 - 6 + 5 / 4 * 3 ** 2"
      ],
      "execution_count": null,
      "outputs": [
        {
          "output_type": "execute_result",
          "data": {
            "text/plain": [
              "12.25"
            ]
          },
          "metadata": {
            "tags": []
          },
          "execution_count": 116
        }
      ]
    },
    {
      "cell_type": "markdown",
      "metadata": {
        "id": "PYB7TN7hzmXq"
      },
      "source": [
        "La operación siguió algunas reglas específicas. Primero realizó la exponenciación, luego la división, la multiplicación, la resta y finalmente la suma.\n",
        "\n",
        "En el ejercicio anterior a este utilizamos una lógica adquirida de las matemáticas y del uso natural y frecuente de estas operaciones para realizar el proceso en el orden correcto con el apoyo de variables.\n",
        "\n",
        " _Python_ realiza esta tarea con criterios de **precedencia de operadores**., que permiten determinar qué operador se debe resolver antes, de manera que toda expresión siempre se realice de la **misma manera**.\n",
        "\n",
        "En este caso la exponenciación tiene una prioridad o precedencia mayor al resto de operadores, por lo que se resuelve antes de continuar con los demás valores.\n",
        "Tal como en el ejercicio planteado, podemos utilizar paréntesis **`()`** para saltarnos estas reglas y especificar operaciones con una precedencia mayor.\n",
        "\n",
        "Por ejemplo, si realizáramos esta operación sin indicar paréntesis:\n",
        "\n",
        "$$((50 + 7^2) -\\frac{200}{12.5}) \\times 0.5$$\n",
        "\n"
      ]
    },
    {
      "cell_type": "code",
      "metadata": {
        "id": "xwpnMrWp3Glo",
        "colab": {
          "base_uri": "https://localhost:8080/"
        },
        "outputId": "3dfafb29-fcc3-4205-fb78-9771f41228a9"
      },
      "source": [
        "50 + 7**2 - 200/12.5 * 0.5"
      ],
      "execution_count": null,
      "outputs": [
        {
          "output_type": "execute_result",
          "data": {
            "text/plain": [
              "91.0"
            ]
          },
          "metadata": {
            "tags": []
          },
          "execution_count": 117
        }
      ]
    },
    {
      "cell_type": "markdown",
      "metadata": {
        "id": "E5hGQAmT3JyC"
      },
      "source": [
        "Luego, si utilizamos los paréntesis para realizar esta operación:"
      ]
    },
    {
      "cell_type": "code",
      "metadata": {
        "id": "isLuVzHw2XZG",
        "colab": {
          "base_uri": "https://localhost:8080/"
        },
        "outputId": "e26015f0-0e1b-4bf0-f739-f74f2b57f1ff"
      },
      "source": [
        "((50 + 7**2) - 200/12.5) * 0.5"
      ],
      "execution_count": null,
      "outputs": [
        {
          "output_type": "execute_result",
          "data": {
            "text/plain": [
              "41.5"
            ]
          },
          "metadata": {
            "tags": []
          },
          "execution_count": 118
        }
      ]
    },
    {
      "cell_type": "markdown",
      "metadata": {
        "id": "z7soDsac-fdf"
      },
      "source": [
        "A continuación, se presenta una tabla de precedencia con los operadores vistos hasta el momento en el curso. Conforme avance en el contenido se irá introduciendo nuevos operadores y expresiones que se consideran al realizar el proceso de evaluación de una expresión.\n",
        "\n",
        "\n",
        "| Operador | Asociatividad | Descripción |\n",
        "| --- | --- | --- |\n",
        "| **`(expresión)`** |  Izquierda a derecha | Expresión en paréntesis. |\n",
        "|  __`**`__  | Derecha a izquierda | Exponenciación. |\n",
        "| **`-x`**, **`+x`** | Izquierda a derecha | Positivo y negativo. |\n",
        "| **`*`**, **`/`**, **`%`** , **`//`**|Izquierda a derecha |  Multiplicación, división, módulo y división piso. |\n",
        "| **`+`**, **`-`**| Izquierda a derecha | Adición y substracción. |\n",
        "| **`=`**| Derecha a izquierda | Asignación. |\n",
        "\n",
        "\n",
        "Además del orden de precedencia, se considera el criterio de asociatividad para decidir en qué orden se evalúan operadores con el mismo peso. Por ejemplo, con la división y multiplicación, como están en el mismo nivel de precedencia, se evalúa de izquierda a derecha:"
      ]
    },
    {
      "cell_type": "code",
      "metadata": {
        "id": "eNogYRrWCDLN",
        "colab": {
          "base_uri": "https://localhost:8080/"
        },
        "outputId": "d80cbfc0-f6cf-4077-fc54-e7bac3f19049"
      },
      "source": [
        "# Primero 8 / 4 se evalúa y reemplaza por 2.0\n",
        "# Luego 2.0 * 5 se evalúa y se reemplaza por 10.0\n",
        "# Luego 10.0 / 4 se evalúa y se reemplaza por 2.5\n",
        "# Al final 2.5 * 2 se evalúa y se reemplaza por 5.0\n",
        "\n",
        "8 / 4 * 5 / 4 * 2"
      ],
      "execution_count": null,
      "outputs": [
        {
          "output_type": "execute_result",
          "data": {
            "text/plain": [
              "5.0"
            ]
          },
          "metadata": {},
          "execution_count": 129
        }
      ]
    },
    {
      "cell_type": "markdown",
      "metadata": {
        "id": "3chcf3X6-BgP"
      },
      "source": [
        "La anterior expresión es equivalente a esta expresión:\n"
      ]
    },
    {
      "cell_type": "code",
      "metadata": {
        "id": "zBamAwGb-CN8",
        "colab": {
          "base_uri": "https://localhost:8080/"
        },
        "outputId": "9130e706-9c57-47da-b1f7-cd54fd2451a0"
      },
      "source": [
        "(((8 / 4) * 5) / 4) * 2"
      ],
      "execution_count": null,
      "outputs": [
        {
          "output_type": "execute_result",
          "data": {
            "text/plain": [
              "5.0"
            ]
          },
          "metadata": {},
          "execution_count": 130
        }
      ]
    },
    {
      "cell_type": "markdown",
      "metadata": {
        "id": "yQ-kYdA5-Crd"
      },
      "source": [
        "Si quisiéramos realizar las operaciones de derecha a izquierda, deberíamos indicarlo explícitamente con paréntesis:\n"
      ]
    },
    {
      "cell_type": "code",
      "metadata": {
        "id": "3MtxfJjT-DOs",
        "colab": {
          "base_uri": "https://localhost:8080/"
        },
        "outputId": "13c06ffb-7335-47c3-e132-3906a556b84b"
      },
      "source": [
        "(8 / (4 * (5 / (4 * 2))))"
      ],
      "execution_count": null,
      "outputs": [
        {
          "output_type": "execute_result",
          "data": {
            "text/plain": [
              "3.2"
            ]
          },
          "metadata": {},
          "execution_count": 131
        }
      ]
    },
    {
      "cell_type": "markdown",
      "metadata": {
        "id": "92s-DsevEZH0"
      },
      "source": [
        "En cambio, la potenciación se evalúa de derecha a izquierda, por lo que una expresión como $3^{2^3}$ produce como resultado $3^8$ (desde la izquierda, evaluando primero $2^3$) y no $9^3$ (evaluando primero $3^2$).\n",
        "\n"
      ]
    },
    {
      "cell_type": "code",
      "metadata": {
        "id": "HBuKRrwwEqQy",
        "colab": {
          "base_uri": "https://localhost:8080/"
        },
        "outputId": "55b9a8f4-34ca-4da5-912c-e3ea41c64454"
      },
      "source": [
        "3 ** 2 ** 3"
      ],
      "execution_count": null,
      "outputs": [
        {
          "output_type": "execute_result",
          "data": {
            "text/plain": [
              "6561"
            ]
          },
          "metadata": {},
          "execution_count": 134
        }
      ]
    },
    {
      "cell_type": "code",
      "metadata": {
        "id": "MkoWxS4pEyE0",
        "colab": {
          "base_uri": "https://localhost:8080/"
        },
        "outputId": "6a7022dc-6fea-4e32-eb61-cc27051e45a5"
      },
      "source": [
        "3 ** (2 ** 3)"
      ],
      "execution_count": null,
      "outputs": [
        {
          "output_type": "execute_result",
          "data": {
            "text/plain": [
              "6561"
            ]
          },
          "metadata": {},
          "execution_count": 135
        }
      ]
    },
    {
      "cell_type": "code",
      "metadata": {
        "id": "zGbfUuw5Eztw",
        "colab": {
          "base_uri": "https://localhost:8080/"
        },
        "outputId": "e6c35db2-0896-42fc-8f9d-a7efe4ef014c"
      },
      "source": [
        "# Esta operación es distinta\n",
        "# a su versión sin paréntesis.\n",
        "\n",
        "(3 ** 2) ** 3"
      ],
      "execution_count": null,
      "outputs": [
        {
          "output_type": "execute_result",
          "data": {
            "text/plain": [
              "729"
            ]
          },
          "metadata": {},
          "execution_count": 136
        }
      ]
    },
    {
      "cell_type": "markdown",
      "metadata": {
        "id": "ZDMC5dz9FWou"
      },
      "source": [
        "De igual forma, la asignación se resuelve de derecha a izquierda, con la posibilidad de realizar múltiples asignaciones en **una sola línea**."
      ]
    },
    {
      "cell_type": "code",
      "metadata": {
        "id": "mmVjGHvVFjLT",
        "colab": {
          "base_uri": "https://localhost:8080/"
        },
        "outputId": "eccc7015-586a-4293-b7f5-d4de5b72c112"
      },
      "source": [
        "a = 10\n",
        "b = 15\n",
        "c = 20\n",
        "\n",
        "c = b = a\n",
        "\n",
        "print(a)\n",
        "print(b)\n",
        "print(c)"
      ],
      "execution_count": null,
      "outputs": [
        {
          "output_type": "stream",
          "name": "stdout",
          "text": [
            "10\n",
            "10\n",
            "10\n"
          ]
        }
      ]
    },
    {
      "cell_type": "markdown",
      "metadata": {
        "id": "eo-aecEqt5l4"
      },
      "source": [
        "## **4. Conversión de tipos**\n",
        "---\n",
        " Es común necesitar el uso de conversiones entre estos tipos de dato básicos. Para esto, _Python_ proporciona algunas funciones simples que nos permitirán realizar este proceso directamente.\n",
        "\n",
        " Por ejemplo, si quisiéramos obtener de la **entrada** del programa un valor numérico, nos encontraríamos con un problema."
      ]
    },
    {
      "cell_type": "code",
      "source": [
        "# Pedimos al usuario un número entero.\n",
        "num = input(\"Ingrese un número entero: \")"
      ],
      "metadata": {
        "colab": {
          "base_uri": "https://localhost:8080/"
        },
        "id": "XSechJ34D4CJ",
        "outputId": "8885ebb1-25d9-4000-958e-d5da247d6cc1"
      },
      "execution_count": null,
      "outputs": [
        {
          "name": "stdout",
          "output_type": "stream",
          "text": [
            "Ingrese un número: 23\n"
          ]
        }
      ]
    },
    {
      "cell_type": "markdown",
      "source": [
        "> **Nota:** asegúrese de introducir un número válido para este ejercicio o se generarán errores en las próximas celdas.\n",
        "\n",
        "Si el usuario introdujo un número aparentemente válido, aún tenemos un problema. Si lo intentamos usar en una operación, nos daremos cuenta de que el número obtenido es en realidad una **cadena de texto**."
      ],
      "metadata": {
        "id": "MHdP2lnLEzj8"
      }
    },
    {
      "cell_type": "code",
      "source": [
        "num + 1"
      ],
      "metadata": {
        "colab": {
          "base_uri": "https://localhost:8080/",
          "height": 166
        },
        "id": "utzc9R2MFfDD",
        "outputId": "6b59be18-2364-4fed-ec37-45d53de6aafd"
      },
      "execution_count": null,
      "outputs": [
        {
          "output_type": "error",
          "ename": "TypeError",
          "evalue": "ignored",
          "traceback": [
            "\u001b[0;31m---------------------------------------------------------------------------\u001b[0m",
            "\u001b[0;31mTypeError\u001b[0m                                 Traceback (most recent call last)",
            "\u001b[0;32m<ipython-input-141-5e5552aa4df2>\u001b[0m in \u001b[0;36m<module>\u001b[0;34m()\u001b[0m\n\u001b[0;32m----> 1\u001b[0;31m \u001b[0mnum\u001b[0m \u001b[0;34m+\u001b[0m \u001b[0;36m1\u001b[0m\u001b[0;34m\u001b[0m\u001b[0;34m\u001b[0m\u001b[0m\n\u001b[0m",
            "\u001b[0;31mTypeError\u001b[0m: can only concatenate str (not \"int\") to str"
          ]
        }
      ]
    },
    {
      "cell_type": "markdown",
      "source": [
        "Como puede notar, las operaciones entre **números** y **cadenas de texto** no están permitidas en _Python_. Si quisiéramos realizar una operación, tendríamos que disponer de estrategias para convertir nuestro valor de texto en un número válido. Para lograr esto, _Python_ pone a nuestra disposición una serie de **funciones** que nos permiten **convertir** nuestros valores a un tipo particular.\n",
        "\n",
        "<br>\n",
        "<center>\n",
        "<img src = \"https://drive.google.com/uc?export=view&id=1jMYF-lROjbKHrgWuyqOPNq5glFTmduwl\" alt = \"Conversión de tipos\" width = \"50%\">  </img> </center>\n",
        "\n",
        "De momento, las funciones que consideraremos en este material son las siguientes:\n",
        "\n",
        "\n",
        "* **`str:`** permite convertir valores al tipo de dato **de texto** (**`str`**).\n",
        "* **`int:`** permite convertir valores al tipo de dato **entero** (**`int`**).\n",
        "* **`float:`** permite convertir valores al tipo de dato **decimal** (**`float`**).\n",
        "* **`complex:`** permite convertir valores al tipo de dato **complejo** (**`complex`**).\n",
        "\n",
        "\n",
        "\n",
        "> **Nota:** estas funciones son llamadas **constructores** y permiten crear objetos nuevos del tipo al que corresponden, y por eso tienen el mismo nombre del tipo al que se les asocia. El concepto de **constructor** se retomará nuevamente en la **Unidad 4 - Funciones y objetos**.\n",
        "\n",
        "\n",
        "Veamos un ejemplo de conversión de una cadena de texto (**`str`**) a un número entero (**`int`**) con la función **`int(valor_original)`**."
      ],
      "metadata": {
        "id": "rF5srvDxFpDd"
      }
    },
    {
      "cell_type": "code",
      "source": [
        "# Valor original de tipo 'str'.\n",
        "cadena = \"52\"\n",
        "\n",
        "# Función 'int'\n",
        "num = int(cadena)\n",
        "\n",
        "# Vemos el contenido y el tipo de 'num'.\n",
        "print(num)\n",
        "type(num)"
      ],
      "metadata": {
        "colab": {
          "base_uri": "https://localhost:8080/"
        },
        "id": "mX2XvsOrVpPv",
        "outputId": "2fc487cd-5e83-43bd-df72-b2de3ba589de"
      },
      "execution_count": null,
      "outputs": [
        {
          "output_type": "stream",
          "name": "stdout",
          "text": [
            "52\n"
          ]
        },
        {
          "output_type": "execute_result",
          "data": {
            "text/plain": [
              "int"
            ]
          },
          "metadata": {},
          "execution_count": 75
        }
      ]
    },
    {
      "cell_type": "markdown",
      "source": [
        "> **Nota:** solo ejecutar la función **NO** modifica el valor original. Si queremos utilizarlo, debemos guardarlo en una variable o utilizarlo en un contexto apropiado.\n",
        "\n",
        "Podemos ver que la variable cadena todavía contiene un valor de **texto**.\n"
      ],
      "metadata": {
        "id": "0zJcARvPEadm"
      }
    },
    {
      "cell_type": "code",
      "source": [
        "print(cadena)\n",
        "type(cadena)"
      ],
      "metadata": {
        "colab": {
          "base_uri": "https://localhost:8080/"
        },
        "id": "-1g-X09qEsWy",
        "outputId": "74dd388c-9ba1-4e40-bfe7-f04be457a869"
      },
      "execution_count": null,
      "outputs": [
        {
          "output_type": "stream",
          "name": "stdout",
          "text": [
            "52\n"
          ]
        },
        {
          "output_type": "execute_result",
          "data": {
            "text/plain": [
              "str"
            ]
          },
          "metadata": {},
          "execution_count": 76
        }
      ]
    },
    {
      "cell_type": "markdown",
      "source": [
        "Las funciones **`str(valor)`**, **`int(valor)`**, **`float(valor)`** y **`complex(valor)`** convertirán (o intentarán convertir) los argumentos en los tipos **`str`**, **`int`**, **`float`** y **`complex`**, respectivamente.\n",
        "\n",
        "Por ejemplo, podemos convertir cualquier objeto a su equivalente en cadena de texto con la función **`str(valor)`**."
      ],
      "metadata": {
        "id": "T0xQkKlTV9Jm"
      }
    },
    {
      "cell_type": "code",
      "metadata": {
        "id": "-lY2lafavSHM",
        "colab": {
          "base_uri": "https://localhost:8080/",
          "height": 35
        },
        "outputId": "66262728-7fd6-4cd3-df79-dcbefbb0114a"
      },
      "source": [
        "# Convertimos un valor decimal a cadena de texto.\n",
        "str(500_000.54e-5)"
      ],
      "execution_count": null,
      "outputs": [
        {
          "output_type": "execute_result",
          "data": {
            "text/plain": [
              "'5.0000054'"
            ],
            "application/vnd.google.colaboratory.intrinsic+json": {
              "type": "string"
            }
          },
          "metadata": {},
          "execution_count": 145
        }
      ]
    },
    {
      "cell_type": "code",
      "metadata": {
        "id": "HusuNxKcvbtN",
        "colab": {
          "base_uri": "https://localhost:8080/",
          "height": 35
        },
        "outputId": "c735d323-ce76-4ee6-c959-eb9cecb298a9"
      },
      "source": [
        "# Convertimos un valor complejo a cadena de texto.\n",
        "str(23 + 50j)"
      ],
      "execution_count": null,
      "outputs": [
        {
          "output_type": "execute_result",
          "data": {
            "text/plain": [
              "'(23+50j)'"
            ],
            "application/vnd.google.colaboratory.intrinsic+json": {
              "type": "string"
            }
          },
          "metadata": {},
          "execution_count": 1
        }
      ]
    },
    {
      "cell_type": "markdown",
      "metadata": {
        "id": "yD9k7Pa7wISY"
      },
      "source": [
        "Algunas de estas funciones tienen argumentos adicionales para escenarios especiales. Por ejemplo, en el caso de las cadenas con enteros en otra base distinta a la decimal, podemos escribir una coma **`,`** seguida del número de la base en el llamado de la función **`int`**."
      ]
    },
    {
      "cell_type": "code",
      "metadata": {
        "id": "wckxXlG7wPeC",
        "colab": {
          "base_uri": "https://localhost:8080/"
        },
        "outputId": "a0945a26-570f-4746-bc49-0f8d8f1821fc"
      },
      "source": [
        "print(int('100', 2))    # Convertimos '0b100' a entero.\n",
        "print(int('100', 16))   # Convertimos '0x100' a entero."
      ],
      "execution_count": null,
      "outputs": [
        {
          "output_type": "stream",
          "name": "stdout",
          "text": [
            "4\n",
            "256\n"
          ]
        }
      ]
    },
    {
      "cell_type": "markdown",
      "metadata": {
        "id": "q5w5I_T3vo-w"
      },
      "source": [
        " Cuando intentamos convertir un número **decimal** a entero se **descarta** la parte decimal del número. A este proceso lo llamamos **truncamiento hacia cero**."
      ]
    },
    {
      "cell_type": "code",
      "metadata": {
        "id": "sjJNzYQrum14",
        "colab": {
          "base_uri": "https://localhost:8080/"
        },
        "outputId": "70c9b8c8-41fe-42af-b651-f9b3e5fc2dde"
      },
      "source": [
        "# Obtenemos la parte entera del valor decimal.\n",
        "int(2.3)"
      ],
      "execution_count": null,
      "outputs": [
        {
          "output_type": "execute_result",
          "data": {
            "text/plain": [
              "2"
            ]
          },
          "metadata": {},
          "execution_count": 151
        }
      ]
    },
    {
      "cell_type": "markdown",
      "metadata": {
        "id": "VOlcZL_yw348"
      },
      "source": [
        "La función **`float`** permite tomar cadenas de texto con las reglas descritas para este tipo de dato y realiza una conversión de tipo a los valores enteros con $0$ en su parte decimal."
      ]
    },
    {
      "cell_type": "code",
      "metadata": {
        "id": "pMsWRfOIum14",
        "colab": {
          "base_uri": "https://localhost:8080/"
        },
        "outputId": "7b66b2ff-ece4-491f-b79d-32581514c790"
      },
      "source": [
        "# Convertimos una cadena de texto válida a punto flotante.\n",
        "float(\"123450\")"
      ],
      "execution_count": null,
      "outputs": [
        {
          "output_type": "execute_result",
          "data": {
            "text/plain": [
              "123450.0"
            ]
          },
          "metadata": {},
          "execution_count": 155
        }
      ]
    },
    {
      "cell_type": "code",
      "metadata": {
        "id": "oUEjkx2byNoQ",
        "colab": {
          "base_uri": "https://localhost:8080/"
        },
        "outputId": "ba76fc7b-1952-4f27-8f4d-c3af93b1a46a"
      },
      "source": [
        "# Convertimos un entero binario a punto flotante.\n",
        "float(0b1000)"
      ],
      "execution_count": null,
      "outputs": [
        {
          "output_type": "execute_result",
          "data": {
            "text/plain": [
              "8.0"
            ]
          },
          "metadata": {},
          "execution_count": 154
        }
      ]
    },
    {
      "cell_type": "markdown",
      "metadata": {
        "id": "FrWafolYyA8P"
      },
      "source": [
        "En el caso de los números complejos la operación de conversión a entero o flotante **NO** está definida."
      ]
    },
    {
      "cell_type": "code",
      "source": [
        "int(50j)"
      ],
      "metadata": {
        "colab": {
          "base_uri": "https://localhost:8080/",
          "height": 166
        },
        "id": "-SoDZYmBY5Zo",
        "outputId": "12180398-3823-47ad-b003-060199a0308f"
      },
      "execution_count": null,
      "outputs": [
        {
          "output_type": "error",
          "ename": "TypeError",
          "evalue": "ignored",
          "traceback": [
            "\u001b[0;31m---------------------------------------------------------------------------\u001b[0m",
            "\u001b[0;31mTypeError\u001b[0m                                 Traceback (most recent call last)",
            "\u001b[0;32m<ipython-input-156-814b538baf55>\u001b[0m in \u001b[0;36m<module>\u001b[0;34m()\u001b[0m\n\u001b[0;32m----> 1\u001b[0;31m \u001b[0mint\u001b[0m\u001b[0;34m(\u001b[0m\u001b[0;36m50j\u001b[0m\u001b[0;34m)\u001b[0m\u001b[0;34m\u001b[0m\u001b[0;34m\u001b[0m\u001b[0m\n\u001b[0m",
            "\u001b[0;31mTypeError\u001b[0m: can't convert complex to int"
          ]
        }
      ]
    },
    {
      "cell_type": "markdown",
      "source": [
        "Sin embargo, sí es posible tomar estos tipos como entrada, que pasan a conformar la parte real del número complejo creado."
      ],
      "metadata": {
        "id": "IWprKWyiY47V"
      }
    },
    {
      "cell_type": "code",
      "metadata": {
        "id": "dqUoeacFvLea",
        "colab": {
          "base_uri": "https://localhost:8080/"
        },
        "outputId": "c5090138-51b7-4611-b43e-1e605c74423b"
      },
      "source": [
        "# Convertimos el número 50 en el complejo 50 + 0j.\n",
        "complex(50)"
      ],
      "execution_count": null,
      "outputs": [
        {
          "output_type": "execute_result",
          "data": {
            "text/plain": [
              "(50+0j)"
            ]
          },
          "metadata": {
            "tags": []
          },
          "execution_count": 34
        }
      ]
    },
    {
      "cell_type": "code",
      "metadata": {
        "id": "SvMHljxKybdv",
        "colab": {
          "base_uri": "https://localhost:8080/"
        },
        "outputId": "71c1f69e-9966-4194-cb8f-6deed9ef82e9"
      },
      "source": [
        "# Convertimos el número 0.5 en el complejo 0.5 + 0j.\n",
        "complex(.500)"
      ],
      "execution_count": null,
      "outputs": [
        {
          "output_type": "execute_result",
          "data": {
            "text/plain": [
              "(0.5+0j)"
            ]
          },
          "metadata": {},
          "execution_count": 157
        }
      ]
    },
    {
      "cell_type": "markdown",
      "source": [
        "## **5. Formato de valores numéricos**\n",
        "---\n",
        "Ahora que hemos discutido el concepto de **valor numérico** y los distintos tipos de dato que están disponibles, podemos discutir algunos **modificadores** adicionales para las cadenas con formato conocidas como ***f-strings***.\n",
        "\n",
        "\n",
        "* **Dígitos decimales (`f`)**: cuando manejamos valores decimales con gran precisión, suele ser necesario disponer de un formato regular y predecible, con una **cantidad exacta** de dígitos decimales. Para esto podemos utilizar el siguiente modificador:\n",
        "  ```\n",
        "  {VALOR:f} | {VALOR:.Pf}\n",
        "  ```\n",
        "\n",
        "  En este caso, podemos reemplazar **`P`** por la cantidad de **dígitos decimales** que queramos representar. Por ejemplo, podemos hacer que _Python_ muestre una cadena con exactamente **SEIS** dígitos decimales de la siguiente forma:"
      ],
      "metadata": {
        "id": "4WRF2sfY5B6Y"
      }
    },
    {
      "cell_type": "code",
      "source": [
        "# Calculamos la raíz de dos como 2 elevado a 1/2.\n",
        "raiz = 2 ** 0.5\n",
        "\n",
        "f\"Raíz de 2: {raiz:.6f}\""
      ],
      "metadata": {
        "colab": {
          "base_uri": "https://localhost:8080/",
          "height": 35
        },
        "id": "XqllU1Rl_Fbe",
        "outputId": "c81b1c72-0a9e-418b-f087-265db322e714"
      },
      "execution_count": null,
      "outputs": [
        {
          "output_type": "execute_result",
          "data": {
            "text/plain": [
              "'Raíz de 2: 1.414214'"
            ],
            "application/vnd.google.colaboratory.intrinsic+json": {
              "type": "string"
            }
          },
          "metadata": {},
          "execution_count": 51
        }
      ]
    },
    {
      "cell_type": "markdown",
      "source": [
        "En caso de tener menos de estos dígitos, _Python_ llenará el valor con ceros a la derecha del número."
      ],
      "metadata": {
        "id": "c_iKECh7Bh8p"
      }
    },
    {
      "cell_type": "code",
      "source": [
        "ejemplo = 2.\n",
        "\n",
        "f\"Ejemplo de formato con 0 en la parte decimal: {ejemplo:.10f}\""
      ],
      "metadata": {
        "colab": {
          "base_uri": "https://localhost:8080/",
          "height": 35
        },
        "id": "5XhDz_HtBlNv",
        "outputId": "0b4ab156-ac2e-4220-f25c-cb92161e9f3f"
      },
      "execution_count": null,
      "outputs": [
        {
          "output_type": "execute_result",
          "data": {
            "text/plain": [
              "'Ejemplo de formato con 0: 2.0000000000'"
            ],
            "application/vnd.google.colaboratory.intrinsic+json": {
              "type": "string"
            }
          },
          "metadata": {},
          "execution_count": 74
        }
      ]
    },
    {
      "cell_type": "markdown",
      "source": [
        "Por defecto, el modificador **`f`** imprime exactamente $6$ dígitos decimales. Podemos omitir el parámetro numérico **`P`** escribiendo el siguiente modificador.\n",
        "  ```\n",
        "  {VALOR:f}\n",
        "  ```\n"
      ],
      "metadata": {
        "id": "oQemkcnaxwZr"
      }
    },
    {
      "cell_type": "code",
      "source": [
        "num = 0.123456789454132187845\n",
        "\n",
        "f\"Número con 6 dígitos decimales (por defecto): {num:f}\""
      ],
      "metadata": {
        "colab": {
          "base_uri": "https://localhost:8080/",
          "height": 35
        },
        "id": "-Kgh0D4byDoJ",
        "outputId": "4a8ef38b-12f6-451b-c496-ea1dee0ad779"
      },
      "execution_count": null,
      "outputs": [
        {
          "output_type": "execute_result",
          "data": {
            "text/plain": [
              "'Número con 6 dígitos decimales (por defecto): 0.123457'"
            ],
            "application/vnd.google.colaboratory.intrinsic+json": {
              "type": "string"
            }
          },
          "metadata": {},
          "execution_count": 14
        }
      ]
    },
    {
      "cell_type": "markdown",
      "source": [
        "* **Notación científica (`e`)**: Si en lugar de mostrar el número con su valor decimal queremos representarlo siguiendo las reglas de la [**notación científica**](https://es.wikipedia.org/wiki/Notaci%C3%B3n_cient%C3%ADfica) podemos usar el siguiente modificador:  \n",
        "  ```\n",
        "  {VALOR:e} | {VALOR:.Pe}\n",
        "  ```\n",
        "\n",
        "Al igual que antes podemos especificar el número **`P`**, que en este caso representa la cantidad de dígitos decimales que se tendrán en cuenta después del punto decimal. Recuerde que en la notación científica podríamos encontrar la siguiente equivalencia:\n",
        "\n",
        "$$\n",
        "6.5734e20 = 6.5734 \\times 10^{20}\n",
        "$$\n",
        "\n"
      ],
      "metadata": {
        "id": "9MZt8h_m_inJ"
      }
    },
    {
      "cell_type": "code",
      "source": [
        "num = 6.5734 * 10 ** 20\n",
        "\n",
        "print(f\"Valor en notación científica: {num:.2e}\")    # Notación científica con dos dígitos decimales."
      ],
      "metadata": {
        "colab": {
          "base_uri": "https://localhost:8080/"
        },
        "id": "K24yFLTDuR72",
        "outputId": "c21af597-1b6d-485d-89bf-e49d29480105"
      },
      "execution_count": null,
      "outputs": [
        {
          "output_type": "stream",
          "name": "stdout",
          "text": [
            "Valor en notación científica: 6.57e+20\n"
          ]
        }
      ]
    },
    {
      "cell_type": "markdown",
      "source": [
        "También podemos omitir este número, que nos dará como resultado el número representado en notación científica con **6** dígitos decimales:"
      ],
      "metadata": {
        "id": "OmqSHA5jxrbb"
      }
    },
    {
      "cell_type": "code",
      "source": [
        "num = 13.4497213625712 ** 15\n",
        "\n",
        "print(f\"Valor en notación científica: {num:e}\")    # Notación decimal con dos dígitos decimales."
      ],
      "metadata": {
        "colab": {
          "base_uri": "https://localhost:8080/"
        },
        "id": "lKC8Y9Du_6H-",
        "outputId": "eeecf658-1fb4-4c40-99c4-2001225d0a3c"
      },
      "execution_count": null,
      "outputs": [
        {
          "output_type": "stream",
          "name": "stdout",
          "text": [
            "Valor en notación científica: 8.525097e+16\n"
          ]
        }
      ]
    },
    {
      "cell_type": "markdown",
      "source": [
        "* **Porcentaje (`%`)**: En muchas aplicaciones, es necesario manejar números que representan **porcentajes**. _Python_ nos permite representar números decimales como porcentajes con el siguiente modificador numérico:\n",
        "\n",
        "  ```\n",
        "  {VALOR:%} | {VALOR:.P%}\n",
        "  ```\n",
        "\n",
        "Al igual que antes, se muestran por defecto **6** dígitos decimales:\n",
        "\n"
      ],
      "metadata": {
        "id": "3hwpV9t20ShE"
      }
    },
    {
      "cell_type": "code",
      "source": [
        "porcentaje = 0.5274645641\n",
        "\n",
        "print(f\"Número en formato de porcentaje: {porcentaje:%}\")"
      ],
      "metadata": {
        "colab": {
          "base_uri": "https://localhost:8080/"
        },
        "id": "F973YSzg1cDZ",
        "outputId": "c28bd153-7107-4bf4-d745-38b7b4db4195"
      },
      "execution_count": null,
      "outputs": [
        {
          "output_type": "stream",
          "name": "stdout",
          "text": [
            "Número en formato de porcentaje: 52.746456%\n"
          ]
        }
      ]
    },
    {
      "cell_type": "markdown",
      "source": [
        "También podemos elegir la cantidad de dígitos indicando el parámetro **`.P`**. No olvide que estos parámetros deberán ser indicados con el símbolo de punto **`.`** al inicio."
      ],
      "metadata": {
        "id": "D-rRsgiW1qZo"
      }
    },
    {
      "cell_type": "code",
      "source": [
        "porcentaje = 0.7464121154\n",
        "\n",
        "print(f\"Número en formato de porcentaje con 2 dígitos: {porcentaje:.2%}\")"
      ],
      "metadata": {
        "colab": {
          "base_uri": "https://localhost:8080/"
        },
        "outputId": "89e2e533-aaca-42a5-f068-5f6ad7022443",
        "id": "cKY99ibB1p6n"
      },
      "execution_count": null,
      "outputs": [
        {
          "output_type": "stream",
          "name": "stdout",
          "text": [
            "Número en formato de porcentaje con 2 dígitos: 74.64%\n"
          ]
        }
      ]
    },
    {
      "cell_type": "markdown",
      "source": [
        "* **Separador de miles `,`**: Finalmente, si indicamos una **coma** en el modificador, _Python_ imprimirá los números con este separador de coma.\n",
        "\n",
        "```python\n",
        "valor:,\n",
        "```"
      ],
      "metadata": {
        "id": "go8gjoGG2F6j"
      }
    },
    {
      "cell_type": "code",
      "source": [
        "valor = 7785964164146454\n",
        "\n",
        "print(f\"Número con separador de miles: {valor:,}\")"
      ],
      "metadata": {
        "colab": {
          "base_uri": "https://localhost:8080/"
        },
        "id": "owzn1vMf2dJc",
        "outputId": "3cd06fbc-ebe3-4948-c7c5-9fa2ed91122f"
      },
      "execution_count": null,
      "outputs": [
        {
          "output_type": "stream",
          "name": "stdout",
          "text": [
            "Número con separador de miles: 7,785,964,164,146,454\n"
          ]
        }
      ]
    },
    {
      "cell_type": "markdown",
      "source": [
        "Podemos combinar el uso de este modificador con cualquiera de los otros modificadores numéricos vistos. En este caso, es necesario que la coma **`,`** vaya antes del otro modificador."
      ],
      "metadata": {
        "id": "_RlPEDgA2oXT"
      }
    },
    {
      "cell_type": "code",
      "source": [
        "valor = 2.456**17\n",
        "\n",
        "print(f\"Número con separador de miles: {valor:,}\")\n",
        "print(f\"Número con separador de miles y dígitos decimales (2 dígitos): {valor:,.2f}\")\n",
        "print(f\"Número con separador de miles y notación científica (2 dígitos): {valor:,.2e}\")\n",
        "print(f\"Número con separador de miles y porcentaje (2 dígitos): {valor:,.2%}\")"
      ],
      "metadata": {
        "colab": {
          "base_uri": "https://localhost:8080/"
        },
        "outputId": "426ccc95-5d00-4647-d0f1-0d73569f44e3",
        "id": "DKfvcfFg2uU6"
      },
      "execution_count": null,
      "outputs": [
        {
          "output_type": "stream",
          "name": "stdout",
          "text": [
            "Número con separador de miles: 4,304,098.1065779375\n",
            "Número con separador de miles y dígitos decimales (2 dígitos): 4,304,098.11\n",
            "Número con separador de miles y notación científica (2 dígitos): 4.30e+06\n",
            "Número con separador de miles y porcentaje (2 dígitos): 430,409,810.66%\n"
          ]
        }
      ]
    },
    {
      "cell_type": "markdown",
      "metadata": {
        "id": "3Q3ZLFLqqirw"
      },
      "source": [
        "## **6. _Python tutor_**\n",
        "---\n",
        "En el transcurso del curso utilizaremos [_Python Tutor_](http://pythontutor.com), una herramienta para la visualización de la ejecución de código en _Python_ y otros lenguajes. Para utilizarlo, debemos instalarlo y configurarlo con una celda como la siguiente:"
      ]
    },
    {
      "cell_type": "code",
      "metadata": {
        "id": "iUfzC4I3rKeK"
      },
      "source": [
        "!pip3 -q install tutormagic\n",
        "%load_ext tutormagic"
      ],
      "execution_count": null,
      "outputs": []
    },
    {
      "cell_type": "markdown",
      "metadata": {
        "id": "6NI4IrR_raew"
      },
      "source": [
        "Con él podemos ver el contenido de las variables en cada paso de la ejecución. Para usarlo, creamos una celda de código con el texto\n",
        "\n",
        "> **`%%tutor -s`**\n",
        "\n",
        "al inicio de la celda, y ubicamos nuestro código en _Python_ en el resto de la celda.\n",
        "\n",
        "> **Nota:** la etiqueta **`-s`** es indispensable para el correcto funcionamiento en la plataforma _Colab_. Se han reportado problemas de texto invisible, que puede solucionarse [borrando la caché](https://kinsta.com/es/base-de-conocimiento/como-borrar-la-cache-del-navegador/) del sitio _Google Colaboratory_ en su navegador.\n",
        "\n",
        "\n",
        "Ejecute la siguiente celda y utilice los botones **_Next_** y **_Prev_** para navegar entre las líneas de código. Preste atención a la sección **_Frames_**, en donde se puede observar el contenido de cada variable en el momento de la ejecución señalado por la flecha roja. Además, en el recuadro **_Print output_** aparecerá la salida del código conforme avanza la ejecución."
      ]
    },
    {
      "cell_type": "code",
      "metadata": {
        "id": "t4Y-L-0IrZQU",
        "colab": {
          "base_uri": "https://localhost:8080/",
          "height": 521
        },
        "outputId": "94a849cd-12a4-4b54-aa78-f64cdfb3308d"
      },
      "source": [
        "%%tutor -s -h 500\n",
        "\n",
        "a = 10\n",
        "b = 1\n",
        "\n",
        "a = b + 15\n",
        "\n",
        "b = a - 40\n",
        "b = b * a - 2\n",
        "\n",
        "print(f\"{a + b * (b + a):*^24}\")"
      ],
      "execution_count": null,
      "outputs": [
        {
          "output_type": "display_data",
          "data": {
            "text/plain": [
              "<IPython.lib.display.IFrame at 0x7fb2ef892a50>"
            ],
            "text/html": [
              "\n",
              "        <iframe\n",
              "            width=\"100%\"\n",
              "            height=\"500\"\n",
              "            src=\"https://pythontutor.com/iframe-embed.html#code=%0Aa%20%3D%2010%0Ab%20%3D%201%0A%0Aa%20%3D%20b%20%2B%2015%0A%0Ab%20%3D%20a%20-%2040%0Ab%20%3D%20b%20%2A%20a%20-%202%0A%0Aprint%28f%22%7Ba%20%2B%20b%20%2A%20%28b%20%2B%20a%29%3A%2A%5E24%7D%22%29&origin=opt-frontend.js&cumulative=false&heapPrimitives=false&textReferences=false&curInstr=0&&verticalStack=false&py=3&rawInputLstJSON=%5B%5D&codeDivWidth=50%25&codeDivHeight=100%25\"\n",
              "            frameborder=\"0\"\n",
              "            allowfullscreen\n",
              "        ></iframe>\n",
              "        "
            ]
          },
          "metadata": {}
        }
      ]
    },
    {
      "cell_type": "markdown",
      "metadata": {
        "id": "-RCFt5TItTZz"
      },
      "source": [
        "Lo invitamos a utilizar activamente esta herramienta para comprender la ejecución de los programas conforme avancemos en el curso."
      ]
    },
    {
      "cell_type": "markdown",
      "metadata": {
        "id": "DB_GPl1ou_YI"
      },
      "source": [
        "# **Referencias**\n",
        "---\n",
        "Este material fue adaptado del libro _How to Think Like a Computer Scientist: Learning with Python 3_, Capítulo 1 y 2.\n",
        "\n",
        " > _Copyright (C) Brad Miller, David Ranum, Jeffrey Elkner, Peter Wentworth, Allen B. Downey, Chris\n",
        "Meyers, and Dario Mitchell. Permission is granted to copy, distribute\n",
        "and/or modify this document under the terms of the GNU Free Documentation\n",
        "License, Version 1.3 or any later version published by the Free Software\n",
        "Foundation; with Invariant Sections being Forward, Prefaces, and\n",
        "Contributor List, no Front-Cover Texts, and no Back-Cover Texts. A copy of\n",
        "the license is included in the section entitled “GNU Free Documentation\n",
        "License”_\n",
        "\n",
        "*   [P. Wentworth, J. Elkner, A.B. Downey, C. Meyers - How to Think Like a Computer\n",
        "Scientist: Learning with Python 3\n",
        "Documentation (3rd Edition)](http://www.ict.ru.ac.za/Resources/cspw/thinkcspy3/thinkcspy3.pdf)\n",
        "*   [How to Think Like a Computer Scientist: Interactive Edition](http://interactivepython.org/courselib/static/thinkcspy/index.html)\n",
        "*   [Aprenda a Pensar Como un Programador\n",
        "con Python\n",
        " (español)](https://argentinaenpython.com/quiero-aprender-python/aprenda-a-pensar-como-un-programador-con-python.pdf)\n"
      ]
    },
    {
      "cell_type": "markdown",
      "metadata": {
        "id": "4r5hSQAz6d-g"
      },
      "source": [
        "# **Recursos adicionales**\n",
        "---\n",
        "\n",
        "En esta sección encontrará material adicional para reforzar los temas y conceptos discutidos:\n",
        "\n",
        "* [*Python* 3: documentación oficial.](https://docs.python.org/3/)\n",
        "* [_Python_ - Tutorial de _Python_ (Español)](https://docs.python.org/es/3.7/tutorial/)\n",
        "  - [_Python_ - Built-in Types](https://docs.python.org/es/3.7/library/stdtypes.html)\n",
        "  - [_Python_ - 2. Usando el intérprete de _Python_](https://docs.python.org/es/3.7/tutorial/interpreter.html)\n",
        "  - [_Python_ - 3. Una introducción informal a _Python_](https://docs.python.org/es/3.7/tutorial/introduction.html#numbers)"
      ]
    },
    {
      "cell_type": "markdown",
      "metadata": {
        "id": "uJLF2Soq64YL"
      },
      "source": [
        "# **Créditos**\n",
        "---\n",
        "\n",
        "* **Profesores:**\n",
        "  * [Felipe Restrepo Calle, PhD](https://dis.unal.edu.co/~ferestrepoca/)\n",
        "  * [Fabio Augusto González, PhD](https://dis.unal.edu.co/~fgonza/)\n",
        "  * [Jorge Eliecer Camargo, PhD](https://dis.unal.edu.co/~jecamargom/)\n",
        "* **Asistentes docentes:**\n",
        "  - Alberto Nicolai Romero Martínez\n",
        "  - Edder Hernández Forero\n",
        "\n",
        "**Universidad Nacional de Colombia** - *Facultad de Ingeniería*"
      ]
    }
  ]
}