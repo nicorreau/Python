{
 "cells": [
  {
   "cell_type": "markdown",
   "metadata": {},
   "source": [
    "<h1><center>Colombian TI Software</center></h1>\n",
    "<h2><center>Ejercicios funciones</center></h1>"
   ]
  },
  {
   "cell_type": "markdown",
   "metadata": {},
   "source": [
    "**1. Realice un programa que haciendo uso de una función de Python permita encontrar el máximo entre 3 números.**"
   ]
  },
  {
   "cell_type": "code",
   "execution_count": 3,
   "metadata": {},
   "outputs": [
    {
     "data": {
      "text/plain": [
       "3"
      ]
     },
     "execution_count": 3,
     "metadata": {},
     "output_type": "execute_result"
    }
   ],
   "source": [
    "def maximo (a,b,c):\n",
    "    if b<a>c:\n",
    "        print(a, \"es el mayor \")\n",
    "    elif a<b>c:\n",
    "        print(b, \"es el mayor \")\n",
    "    else:\n",
    "        print(c, \"es el mayor \")\n",
    "        \n",
    "maximo (3,2,1)\n",
    "\n",
    "\"\"\" def mayor(a,b,c):\n",
    "    lista = [a,b,c]\n",
    "    mayor = lista[0]\n",
    "    for i in lista:\n",
    "        if i>mayor:\n",
    "            mayor=i\n",
    "    return mayor\n",
    "\n",
    "mayor (3,2,1)  \"\"\"\n",
    "\"\"\" \n",
    "def numeroMaximo (x,y):\n",
    "    if x > y:\n",
    "        return x\n",
    "    return y\n",
    "\n",
    "def maximoTres (a, b, c):\n",
    "    return numeroMaximo (a, numeroMaximo (b,c))\n",
    "\n",
    "n1 = int(input(\"Ingrese el primer numero\"))\n",
    "n2 = int(input(\"Ingrese el segundo numero\"))\n",
    "n3 = int(input(\"Ingrese el tercer numero\"))\n",
    "\n",
    "print (f\"El numero mayor de {n1}, {n2}, {n3} es: {maximoTres(n1,n2,n3)}\") \"\"\"\n"
   ]
  },
  {
   "cell_type": "markdown",
   "metadata": {},
   "source": [
    "**2. Realice un programa que haciendo uso de una función  le permita invertir una cadena de caracteres.**"
   ]
  },
  {
   "cell_type": "code",
   "execution_count": 21,
   "metadata": {},
   "outputs": [
    {
     "data": {
      "text/plain": [
       "'rotsen alohhola'"
      ]
     },
     "execution_count": 21,
     "metadata": {},
     "output_type": "execute_result"
    }
   ],
   "source": [
    "\"\"\" def invertir ():\n",
    "\n",
    "    cadena = input (\"Ingrese una cadena \")\n",
    "    \n",
    "        \n",
    "    return cadena.reverse()\n",
    "print (invertir()) \"\"\"\n",
    "\n",
    "def invertir (cadena1):\n",
    "    rcadena1 = \"\"\n",
    "    index =len(cadena1)\n",
    "    for i in range (index, 0, -1):\n",
    "        rcadena1 +=  cadena1[i-1]\n",
    "    return rcadena1\n",
    "\n",
    "def invertir2 (cadena):\n",
    "    rcadena =\"\"\n",
    "    index =len(cadena)\n",
    "    while index > 0:\n",
    "        rcadena += cadena [index-1]\n",
    "        index -= 1\n",
    "    return rcadena\n",
    "\n",
    "\n",
    "\n"
   ]
  },
  {
   "cell_type": "markdown",
   "metadata": {},
   "source": [
    "**3. Realice un programa que haciendo uso de una función calcular la factorial de un número (un entero no negativo).**"
   ]
  },
  {
   "cell_type": "code",
   "execution_count": 33,
   "metadata": {},
   "outputs": [
    {
     "data": {
      "text/plain": [
       "120"
      ]
     },
     "execution_count": 33,
     "metadata": {},
     "output_type": "execute_result"
    }
   ],
   "source": [
    "def factorial (numero):\n",
    "    resultado = 1\n",
    "    for i in range (resultado,numero+1):\n",
    "        resultado *= i\n",
    "        \n",
    "    return resultado\n",
    "\n",
    "factorial (5)\n",
    "\n",
    "\"\"\" def factorial(numero):\n",
    "    if numero > 0:\n",
    "        return numero*factorial(numero-1)\n",
    "    else:\n",
    "        return (\"el número negativo no es válido!!!\")\n",
    "\n",
    "num = int(input(\"Ingrese el número factorial: \"))  \n",
    "print(f\"El factorial del número {num} es: {factorial(num)}\") \"\"\"\n",
    "\n"
   ]
  },
  {
   "cell_type": "markdown",
   "metadata": {},
   "source": [
    "**4. Realice un programa que haciendo uso de una función verifique si un número cae en un rango dado.**"
   ]
  },
  {
   "cell_type": "code",
   "execution_count": 10,
   "metadata": {},
   "outputs": [
    {
     "name": "stdout",
     "output_type": "stream",
     "text": [
      "No esta \n"
     ]
    }
   ],
   "source": [
    "def verificar (numero, rango):\n",
    "    return numero in range (*rango)\n",
    "\n",
    "\n",
    "\n",
    "if verificar(2,[3,8]) == True:\n",
    "    print(\"Si esta \")\n",
    "else:   print(\"No esta \")\n",
    "\n",
    "\n"
   ]
  },
  {
   "cell_type": "markdown",
   "metadata": {},
   "source": [
    "**5. Realice un programa que haciendo uso de una función  acepte una cadena y calcule el número de letras mayúsculas y minúsculas.**"
   ]
  },
  {
   "cell_type": "code",
   "execution_count": null,
   "metadata": {},
   "outputs": [],
   "source": []
  },
  {
   "cell_type": "markdown",
   "metadata": {},
   "source": [
    "**6. Realice un programa que haciendo uso de una función tome un número como parámetro y verifique si el número es primo o no.**"
   ]
  },
  {
   "cell_type": "code",
   "execution_count": null,
   "metadata": {},
   "outputs": [],
   "source": []
  },
  {
   "cell_type": "markdown",
   "metadata": {},
   "source": [
    "**7. Realice un programa que haciendo uso de una función para comprobar si un número es perfecto o no. (son aquellos iguales a la suma de sus divisores)**"
   ]
  },
  {
   "cell_type": "code",
   "execution_count": null,
   "metadata": {},
   "outputs": [],
   "source": []
  },
  {
   "cell_type": "markdown",
   "metadata": {},
   "source": [
    "**8. Realice un programa que haciendo uso de una función verifique si una cadena pasada es palíndromo o no. (Un palíndromo es una palabra, frase o secuencia que se lee igual hacia atrás que hacia adelante, por ejemplo, señora o enfermeras corren.)**"
   ]
  },
  {
   "cell_type": "code",
   "execution_count": null,
   "metadata": {},
   "outputs": [],
   "source": [
    "\n"
   ]
  },
  {
   "cell_type": "markdown",
   "metadata": {},
   "source": [
    "**9. Realice un programa que haciendo uso de una función que cree e imprima una lista donde los valores sean cuadrados de números entre 1 y 30 (ambos incluidos).**"
   ]
  },
  {
   "cell_type": "code",
   "execution_count": null,
   "metadata": {},
   "outputs": [],
   "source": []
  },
  {
   "cell_type": "markdown",
   "metadata": {},
   "source": [
    "**10. Realice un programa que haciendo uso de una función que realice una función dentro de otra función.**"
   ]
  },
  {
   "cell_type": "code",
   "execution_count": null,
   "metadata": {},
   "outputs": [],
   "source": []
  },
  {
   "cell_type": "markdown",
   "metadata": {},
   "source": [
    "**11.\tRealice un programa que haciendo uso de una función nos permita jugar piedra papel o tijera.**"
   ]
  },
  {
   "cell_type": "code",
   "execution_count": null,
   "metadata": {},
   "outputs": [],
   "source": []
  },
  {
   "cell_type": "markdown",
   "metadata": {},
   "source": [
    "**12.\tRealice un programa que haciendo uso de una función cacule el total de un pago incluyendo un impuesto aplicado. <li>Formula: pago_total = pago_sin_impuesto + pago_sin_impuesto * (impuesto/100)</l1>**"
   ]
  },
  {
   "cell_type": "code",
   "execution_count": null,
   "metadata": {},
   "outputs": [],
   "source": []
  },
  {
   "cell_type": "markdown",
   "metadata": {},
   "source": [
    "**13. Escribir una función que, dado un número de DNI, retorne True si el número es válido y False si no lo es. Para que un número de DNI sea válido debe tener entre 7 y 8 dígitos.**"
   ]
  },
  {
   "cell_type": "code",
   "execution_count": null,
   "metadata": {},
   "outputs": [],
   "source": []
  },
  {
   "cell_type": "markdown",
   "metadata": {},
   "source": [
    "**14.\tEscribir un programa que pida números positivos al usuario. Mostrar el número cuya sumatoria de dígitos fue mayor y la cantidad de números cuya sumatoria de dígitos fue menor que 10. Utilizar una o más funciones, según sea necesario.**"
   ]
  },
  {
   "cell_type": "code",
   "execution_count": null,
   "metadata": {},
   "outputs": [],
   "source": []
  }
 ],
 "metadata": {
  "kernelspec": {
   "display_name": "Python 3.10.4 64-bit",
   "language": "python",
   "name": "python3"
  },
  "language_info": {
   "codemirror_mode": {
    "name": "ipython",
    "version": 3
   },
   "file_extension": ".py",
   "mimetype": "text/x-python",
   "name": "python",
   "nbconvert_exporter": "python",
   "pygments_lexer": "ipython3",
   "version": "3.10.4"
  },
  "orig_nbformat": 4,
  "vscode": {
   "interpreter": {
    "hash": "ee582abd93f2c6673468e182eee38132e152c8e14969e0bc6b63b93977e405e1"
   }
  }
 },
 "nbformat": 4,
 "nbformat_minor": 2
}
